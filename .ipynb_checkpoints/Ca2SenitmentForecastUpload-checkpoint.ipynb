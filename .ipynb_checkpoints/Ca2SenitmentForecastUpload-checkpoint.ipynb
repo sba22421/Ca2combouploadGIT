{
 "cells": [
  {
   "cell_type": "code",
   "execution_count": 62,
   "id": "55bc157a",
   "metadata": {},
   "outputs": [
    {
     "name": "stderr",
     "output_type": "stream",
     "text": [
      "[nltk_data] Downloading package stopwords to\n",
      "[nltk_data]     C:\\Users\\Keith\\AppData\\Roaming\\nltk_data...\n",
      "[nltk_data]   Package stopwords is already up-to-date!\n",
      "[nltk_data] Downloading package vader_lexicon to\n",
      "[nltk_data]     C:\\Users\\Keith\\AppData\\Roaming\\nltk_data...\n",
      "[nltk_data]   Package vader_lexicon is already up-to-date!\n"
     ]
    }
   ],
   "source": [
    "import pandas as pd \n",
    "import numpy as np \n",
    "import matplotlib.pyplot as plt \n",
    "import re\n",
    "import string\n",
    "import seaborn as sns\n",
    "sns.set(style=\"darkgrid\")\n",
    "plt.rc('figure',figsize=(17,13))\n",
    "import plotly.express as ex\n",
    "from plotly.subplots import make_subplots\n",
    "from nltk.sentiment.vader import SentimentIntensityAnalyzer as SIA\n",
    "from wordcloud import WordCloud,STOPWORDS, ImageColorGenerator\n",
    "from nltk.corpus import stopwords\n",
    "from nltk.stem import WordNetLemmatizer\n",
    "import datetime\n",
    "import warnings\n",
    "warnings.filterwarnings(\"ignore\")\n",
    "import nltk\n",
    "from nltk.tokenize import sent_tokenize\n",
    "from nltk.corpus import words\n",
    "from nltk.corpus import stopwords\n",
    "from nltk.tokenize import word_tokenize\n",
    "from nltk.stem import WordNetLemmatizer\n",
    "from nltk.stem import PorterStemmer\n",
    "from nltk.sentiment.vader import SentimentIntensityAnalyzer\n",
    "from nltk.sentiment.util import *\n",
    "nltk.download('stopwords')\n",
    "nltk.download('vader_lexicon')\n",
    "from collections import Counter\n",
    "from matplotlib import ticker"
   ]
  },
  {
   "cell_type": "code",
   "execution_count": 63,
   "id": "81195b78",
   "metadata": {},
   "outputs": [
    {
     "data": {
      "text/html": [
       "<div>\n",
       "<style scoped>\n",
       "    .dataframe tbody tr th:only-of-type {\n",
       "        vertical-align: middle;\n",
       "    }\n",
       "\n",
       "    .dataframe tbody tr th {\n",
       "        vertical-align: top;\n",
       "    }\n",
       "\n",
       "    .dataframe thead th {\n",
       "        text-align: right;\n",
       "    }\n",
       "</style>\n",
       "<table border=\"1\" class=\"dataframe\">\n",
       "  <thead>\n",
       "    <tr style=\"text-align: right;\">\n",
       "      <th></th>\n",
       "      <th>user_name</th>\n",
       "      <th>user_location</th>\n",
       "      <th>user_description</th>\n",
       "      <th>user_created</th>\n",
       "      <th>user_followers</th>\n",
       "      <th>user_friends</th>\n",
       "      <th>user_favourites</th>\n",
       "      <th>user_verified</th>\n",
       "      <th>date</th>\n",
       "      <th>text</th>\n",
       "      <th>hashtags</th>\n",
       "      <th>source</th>\n",
       "      <th>is_retweet</th>\n",
       "    </tr>\n",
       "  </thead>\n",
       "  <tbody>\n",
       "    <tr>\n",
       "      <th>0</th>\n",
       "      <td>MyNewsNE</td>\n",
       "      <td>Assam</td>\n",
       "      <td>MyNewsNE a dedicated multi-lingual media house...</td>\n",
       "      <td>24-05-2020 10:18</td>\n",
       "      <td>64.0</td>\n",
       "      <td>11.0</td>\n",
       "      <td>110.0</td>\n",
       "      <td>False</td>\n",
       "      <td>18-08-2020 12:55</td>\n",
       "      <td>Australia to Manufacture Covid-19 Vaccine and ...</td>\n",
       "      <td>['CovidVaccine']</td>\n",
       "      <td>Twitter Web App</td>\n",
       "      <td>False</td>\n",
       "    </tr>\n",
       "    <tr>\n",
       "      <th>1</th>\n",
       "      <td>Shubham Gupta</td>\n",
       "      <td>NaN</td>\n",
       "      <td>I will tell about all experiences of my life f...</td>\n",
       "      <td>14-08-2020 16:42</td>\n",
       "      <td>1.0</td>\n",
       "      <td>17.0</td>\n",
       "      <td>0.0</td>\n",
       "      <td>False</td>\n",
       "      <td>18-08-2020 12:55</td>\n",
       "      <td>#CoronavirusVaccine #CoronaVaccine #CovidVacci...</td>\n",
       "      <td>['CoronavirusVaccine', 'CoronaVaccine', 'Covid...</td>\n",
       "      <td>Twitter for Android</td>\n",
       "      <td>False</td>\n",
       "    </tr>\n",
       "    <tr>\n",
       "      <th>2</th>\n",
       "      <td>Journal of Infectiology</td>\n",
       "      <td>NaN</td>\n",
       "      <td>Journal of Infectiology (ISSN 2689-9981) is ac...</td>\n",
       "      <td>14-12-2017 07:07</td>\n",
       "      <td>143.0</td>\n",
       "      <td>566.0</td>\n",
       "      <td>8.0</td>\n",
       "      <td>False</td>\n",
       "      <td>18-08-2020 12:46</td>\n",
       "      <td>Deaths due to COVID-19 in Affected Countries\\n...</td>\n",
       "      <td>NaN</td>\n",
       "      <td>Twitter Web App</td>\n",
       "      <td>False</td>\n",
       "    </tr>\n",
       "    <tr>\n",
       "      <th>3</th>\n",
       "      <td>Zane</td>\n",
       "      <td>NaN</td>\n",
       "      <td>Fresher than you.</td>\n",
       "      <td>18-09-2019 11:01</td>\n",
       "      <td>29.0</td>\n",
       "      <td>25.0</td>\n",
       "      <td>620.0</td>\n",
       "      <td>False</td>\n",
       "      <td>18-08-2020 12:45</td>\n",
       "      <td>@Team_Subhashree @subhashreesotwe @iamrajchoco...</td>\n",
       "      <td>NaN</td>\n",
       "      <td>Twitter for Android</td>\n",
       "      <td>False</td>\n",
       "    </tr>\n",
       "    <tr>\n",
       "      <th>4</th>\n",
       "      <td>Ann-Maree O’Connor</td>\n",
       "      <td>Adelaide, South Australia</td>\n",
       "      <td>Retired university administrator. Melburnian b...</td>\n",
       "      <td>24-01-2013 14:53</td>\n",
       "      <td>83.0</td>\n",
       "      <td>497.0</td>\n",
       "      <td>10737.0</td>\n",
       "      <td>False</td>\n",
       "      <td>18-08-2020 12:45</td>\n",
       "      <td>@michellegrattan @ConversationEDU This is what...</td>\n",
       "      <td>NaN</td>\n",
       "      <td>Twitter Web App</td>\n",
       "      <td>False</td>\n",
       "    </tr>\n",
       "  </tbody>\n",
       "</table>\n",
       "</div>"
      ],
      "text/plain": [
       "                 user_name              user_location  \\\n",
       "0                 MyNewsNE                      Assam   \n",
       "1            Shubham Gupta                        NaN   \n",
       "2  Journal of Infectiology                        NaN   \n",
       "3                     Zane                        NaN   \n",
       "4       Ann-Maree O’Connor  Adelaide, South Australia   \n",
       "\n",
       "                                    user_description      user_created  \\\n",
       "0  MyNewsNE a dedicated multi-lingual media house...  24-05-2020 10:18   \n",
       "1  I will tell about all experiences of my life f...  14-08-2020 16:42   \n",
       "2  Journal of Infectiology (ISSN 2689-9981) is ac...  14-12-2017 07:07   \n",
       "3                                  Fresher than you.  18-09-2019 11:01   \n",
       "4  Retired university administrator. Melburnian b...  24-01-2013 14:53   \n",
       "\n",
       "   user_followers user_friends user_favourites user_verified  \\\n",
       "0            64.0         11.0           110.0         False   \n",
       "1             1.0         17.0             0.0         False   \n",
       "2           143.0        566.0             8.0         False   \n",
       "3            29.0         25.0           620.0         False   \n",
       "4            83.0        497.0         10737.0         False   \n",
       "\n",
       "               date                                               text  \\\n",
       "0  18-08-2020 12:55  Australia to Manufacture Covid-19 Vaccine and ...   \n",
       "1  18-08-2020 12:55  #CoronavirusVaccine #CoronaVaccine #CovidVacci...   \n",
       "2  18-08-2020 12:46  Deaths due to COVID-19 in Affected Countries\\n...   \n",
       "3  18-08-2020 12:45  @Team_Subhashree @subhashreesotwe @iamrajchoco...   \n",
       "4  18-08-2020 12:45  @michellegrattan @ConversationEDU This is what...   \n",
       "\n",
       "                                            hashtags               source  \\\n",
       "0                                   ['CovidVaccine']      Twitter Web App   \n",
       "1  ['CoronavirusVaccine', 'CoronaVaccine', 'Covid...  Twitter for Android   \n",
       "2                                                NaN      Twitter Web App   \n",
       "3                                                NaN  Twitter for Android   \n",
       "4                                                NaN      Twitter Web App   \n",
       "\n",
       "  is_retweet  \n",
       "0      False  \n",
       "1      False  \n",
       "2      False  \n",
       "3      False  \n",
       "4      False  "
      ]
     },
     "execution_count": 63,
     "metadata": {},
     "output_type": "execute_result"
    }
   ],
   "source": [
    "df = pd.read_csv('covidvaccine.csv')\n",
    "df.head()"
   ]
  },
  {
   "cell_type": "code",
   "execution_count": 64,
   "id": "f671ead4",
   "metadata": {},
   "outputs": [
    {
     "data": {
      "text/plain": [
       "(384127, 13)"
      ]
     },
     "execution_count": 64,
     "metadata": {},
     "output_type": "execute_result"
    }
   ],
   "source": [
    "df.shape\n"
   ]
  },
  {
   "cell_type": "code",
   "execution_count": 65,
   "id": "4d6fdfc0",
   "metadata": {},
   "outputs": [
    {
     "data": {
      "text/html": [
       "<div>\n",
       "<style scoped>\n",
       "    .dataframe tbody tr th:only-of-type {\n",
       "        vertical-align: middle;\n",
       "    }\n",
       "\n",
       "    .dataframe tbody tr th {\n",
       "        vertical-align: top;\n",
       "    }\n",
       "\n",
       "    .dataframe thead th {\n",
       "        text-align: right;\n",
       "    }\n",
       "</style>\n",
       "<table border=\"1\" class=\"dataframe\">\n",
       "  <thead>\n",
       "    <tr style=\"text-align: right;\">\n",
       "      <th></th>\n",
       "      <th>user_name</th>\n",
       "      <th>date</th>\n",
       "      <th>text</th>\n",
       "    </tr>\n",
       "  </thead>\n",
       "  <tbody>\n",
       "    <tr>\n",
       "      <th>0</th>\n",
       "      <td>MyNewsNE</td>\n",
       "      <td>18-08-2020 12:55</td>\n",
       "      <td>Australia to Manufacture Covid-19 Vaccine and ...</td>\n",
       "    </tr>\n",
       "    <tr>\n",
       "      <th>1</th>\n",
       "      <td>Shubham Gupta</td>\n",
       "      <td>18-08-2020 12:55</td>\n",
       "      <td>#CoronavirusVaccine #CoronaVaccine #CovidVacci...</td>\n",
       "    </tr>\n",
       "    <tr>\n",
       "      <th>2</th>\n",
       "      <td>Journal of Infectiology</td>\n",
       "      <td>18-08-2020 12:46</td>\n",
       "      <td>Deaths due to COVID-19 in Affected Countries\\n...</td>\n",
       "    </tr>\n",
       "    <tr>\n",
       "      <th>3</th>\n",
       "      <td>Zane</td>\n",
       "      <td>18-08-2020 12:45</td>\n",
       "      <td>@Team_Subhashree @subhashreesotwe @iamrajchoco...</td>\n",
       "    </tr>\n",
       "    <tr>\n",
       "      <th>4</th>\n",
       "      <td>Ann-Maree O’Connor</td>\n",
       "      <td>18-08-2020 12:45</td>\n",
       "      <td>@michellegrattan @ConversationEDU This is what...</td>\n",
       "    </tr>\n",
       "  </tbody>\n",
       "</table>\n",
       "</div>"
      ],
      "text/plain": [
       "                 user_name              date  \\\n",
       "0                 MyNewsNE  18-08-2020 12:55   \n",
       "1            Shubham Gupta  18-08-2020 12:55   \n",
       "2  Journal of Infectiology  18-08-2020 12:46   \n",
       "3                     Zane  18-08-2020 12:45   \n",
       "4       Ann-Maree O’Connor  18-08-2020 12:45   \n",
       "\n",
       "                                                text  \n",
       "0  Australia to Manufacture Covid-19 Vaccine and ...  \n",
       "1  #CoronavirusVaccine #CoronaVaccine #CovidVacci...  \n",
       "2  Deaths due to COVID-19 in Affected Countries\\n...  \n",
       "3  @Team_Subhashree @subhashreesotwe @iamrajchoco...  \n",
       "4  @michellegrattan @ConversationEDU This is what...  "
      ]
     },
     "execution_count": 65,
     "metadata": {},
     "output_type": "execute_result"
    }
   ],
   "source": [
    "data = ['user_name', 'date', 'text']\n",
    "df = df[data]\n",
    "df.head()"
   ]
  },
  {
   "cell_type": "code",
   "execution_count": 66,
   "id": "37d9d32a",
   "metadata": {},
   "outputs": [
    {
     "name": "stdout",
     "output_type": "stream",
     "text": [
      "<class 'pandas.core.frame.DataFrame'>\n",
      "RangeIndex: 384127 entries, 0 to 384126\n",
      "Data columns (total 3 columns):\n",
      " #   Column     Non-Null Count   Dtype \n",
      "---  ------     --------------   ----- \n",
      " 0   user_name  384112 non-null  object\n",
      " 1   date       384077 non-null  object\n",
      " 2   text       384079 non-null  object\n",
      "dtypes: object(3)\n",
      "memory usage: 8.8+ MB\n"
     ]
    }
   ],
   "source": [
    "df.info()"
   ]
  },
  {
   "cell_type": "code",
   "execution_count": 67,
   "id": "4cfa654a",
   "metadata": {},
   "outputs": [
    {
     "data": {
      "text/html": [
       "<div>\n",
       "<style scoped>\n",
       "    .dataframe tbody tr th:only-of-type {\n",
       "        vertical-align: middle;\n",
       "    }\n",
       "\n",
       "    .dataframe tbody tr th {\n",
       "        vertical-align: top;\n",
       "    }\n",
       "\n",
       "    .dataframe thead th {\n",
       "        text-align: right;\n",
       "    }\n",
       "</style>\n",
       "<table border=\"1\" class=\"dataframe\">\n",
       "  <thead>\n",
       "    <tr style=\"text-align: right;\">\n",
       "      <th></th>\n",
       "      <th>user_name</th>\n",
       "      <th>date</th>\n",
       "      <th>text</th>\n",
       "    </tr>\n",
       "  </thead>\n",
       "  <tbody>\n",
       "    <tr>\n",
       "      <th>0</th>\n",
       "      <td>88850</td>\n",
       "      <td>2020-08-18</td>\n",
       "      <td>Australia to Manufacture Covid-19 Vaccine and ...</td>\n",
       "    </tr>\n",
       "    <tr>\n",
       "      <th>1</th>\n",
       "      <td>115261</td>\n",
       "      <td>2020-08-18</td>\n",
       "      <td>#CoronavirusVaccine #CoronaVaccine #CovidVacci...</td>\n",
       "    </tr>\n",
       "    <tr>\n",
       "      <th>2</th>\n",
       "      <td>64154</td>\n",
       "      <td>2020-08-18</td>\n",
       "      <td>Deaths due to COVID-19 in Affected Countries\\n...</td>\n",
       "    </tr>\n",
       "    <tr>\n",
       "      <th>3</th>\n",
       "      <td>136781</td>\n",
       "      <td>2020-08-18</td>\n",
       "      <td>@Team_Subhashree @subhashreesotwe @iamrajchoco...</td>\n",
       "    </tr>\n",
       "    <tr>\n",
       "      <th>4</th>\n",
       "      <td>10303</td>\n",
       "      <td>2020-08-18</td>\n",
       "      <td>@michellegrattan @ConversationEDU This is what...</td>\n",
       "    </tr>\n",
       "  </tbody>\n",
       "</table>\n",
       "</div>"
      ],
      "text/plain": [
       "   user_name        date                                               text\n",
       "0      88850  2020-08-18  Australia to Manufacture Covid-19 Vaccine and ...\n",
       "1     115261  2020-08-18  #CoronavirusVaccine #CoronaVaccine #CovidVacci...\n",
       "2      64154  2020-08-18  Deaths due to COVID-19 in Affected Countries\\n...\n",
       "3     136781  2020-08-18  @Team_Subhashree @subhashreesotwe @iamrajchoco...\n",
       "4      10303  2020-08-18  @michellegrattan @ConversationEDU This is what..."
      ]
     },
     "execution_count": 67,
     "metadata": {},
     "output_type": "execute_result"
    }
   ],
   "source": [
    "df.user_name = df.user_name.astype('category')\n",
    "df.user_name = df.user_name.cat.codes\n",
    "\n",
    "df['date'] = pd.to_datetime(df.date,errors ='coerce')\n",
    "df['date'] = df['date'].dt.strftime('%Y-%m-%d')\n",
    "df.head()"
   ]
  },
  {
   "cell_type": "markdown",
   "id": "4c5fb1f1",
   "metadata": {},
   "source": [
    "# Processing"
   ]
  },
  {
   "cell_type": "code",
   "execution_count": 68,
   "id": "938a8356",
   "metadata": {},
   "outputs": [
    {
     "data": {
      "text/plain": [
       "0    Australia to Manufacture Covid-19 Vaccine and ...\n",
       "1    #CoronavirusVaccine #CoronaVaccine #CovidVacci...\n",
       "2    Deaths due to COVID-19 in Affected Countries\\n...\n",
       "3    @Team_Subhashree @subhashreesotwe @iamrajchoco...\n",
       "4    @michellegrattan @ConversationEDU This is what...\n",
       "Name: text, dtype: object"
      ]
     },
     "execution_count": 68,
     "metadata": {},
     "output_type": "execute_result"
    }
   ],
   "source": [
    "texts = df['text']\n",
    "texts.head()"
   ]
  },
  {
   "cell_type": "code",
   "execution_count": 69,
   "id": "537682b9",
   "metadata": {},
   "outputs": [
    {
     "data": {
      "text/plain": [
       "0    Australia to Manufacture Covid-19 Vaccine and ...\n",
       "1    #CoronavirusVaccine #CoronaVaccine #CovidVacci...\n",
       "2    Deaths due to COVID-19 in Affected Countries\\n...\n",
       "3    @Team_Subhashree @subhashreesotwe @iamrajchoco...\n",
       "4    @michellegrattan @ConversationEDU This is what...\n",
       "Name: text, dtype: object"
      ]
     },
     "execution_count": 69,
     "metadata": {},
     "output_type": "execute_result"
    }
   ],
   "source": [
    "remove_url = lambda x: re.sub(r'https\\S+', '', str(x))\n",
    "texts_lr = texts.apply(remove_url)\n",
    "texts_lr.head()"
   ]
  },
  {
   "cell_type": "code",
   "execution_count": 70,
   "id": "d52acc15",
   "metadata": {},
   "outputs": [
    {
     "data": {
      "text/plain": [
       "0    australia to manufacture covid-19 vaccine and ...\n",
       "1    #coronavirusvaccine #coronavaccine #covidvacci...\n",
       "2    deaths due to covid-19 in affected countries\\n...\n",
       "3    @team_subhashree @subhashreesotwe @iamrajchoco...\n",
       "4    @michellegrattan @conversationedu this is what...\n",
       "Name: text, dtype: object"
      ]
     },
     "execution_count": 70,
     "metadata": {},
     "output_type": "execute_result"
    }
   ],
   "source": [
    "to_lower = lambda x : x.lower()\n",
    "texts_lc = texts_lr.apply(to_lower)\n",
    "texts_lc.head()"
   ]
  },
  {
   "cell_type": "code",
   "execution_count": 71,
   "id": "52468e92",
   "metadata": {},
   "outputs": [
    {
     "data": {
      "text/plain": [
       "0         australia to manufacture covid19 vaccine and g...\n",
       "1         coronavirusvaccine coronavaccine covidvaccine ...\n",
       "2         deaths due to covid19 in affected countries\\nr...\n",
       "3         teamsubhashree subhashreesotwe iamrajchoco sta...\n",
       "4         michellegrattan conversationedu this is what p...\n",
       "                                ...                        \n",
       "384122    “mits dean of science responds to me shes not ...\n",
       "384123    spot on the  covidvaccine is so critical nurse...\n",
       "384124    in 792010 patients with covid19 vaccination ve...\n",
       "384125    typocat then im thankful i have not had it my ...\n",
       "384126    another covidvaccine really are people really ...\n",
       "Name: text, Length: 384127, dtype: object"
      ]
     },
     "execution_count": 71,
     "metadata": {},
     "output_type": "execute_result"
    }
   ],
   "source": [
    "rmv_pcs = lambda x : x.translate(str.maketrans('', '', string.punctuation))\n",
    "texts_pcs = texts_lc.apply(rmv_pcs)\n",
    "texts_pcs"
   ]
  },
  {
   "cell_type": "code",
   "execution_count": 72,
   "id": "43d7eb6c",
   "metadata": {},
   "outputs": [
    {
     "data": {
      "text/plain": [
       "0    australia manufacture vaccine give citizens fr...\n",
       "1    coronavirusvaccine coronavaccine covidvaccine ...\n",
       "2    deaths due affected countries read rpiryani sh...\n",
       "3    teamsubhashree subhashreesotwe iamrajchoco sta...\n",
       "4    michellegrattan conversationedu passes leaders...\n",
       "Name: text, dtype: object"
      ]
     },
     "execution_count": 72,
     "metadata": {},
     "output_type": "execute_result"
    }
   ],
   "source": [
    "update_words = ['covid','#coronavirus', '#coronavirusoutbreak', '#coronavirusPandemic', '#covid19', '#covid_19', '#epitwitter', '#ihavecorona', 'amp', 'coronavirus', 'covid19']\n",
    "stop_words = set(stopwords.words('english'))\n",
    "stop_words.update(update_words)\n",
    "\n",
    "remove_words = lambda x : ' '.join([word for word in x.split() if word not in stop_words])\n",
    "texts_rs = texts_pcs.apply(remove_words)\n",
    "texts_rs.head()"
   ]
  },
  {
   "cell_type": "markdown",
   "id": "f2fd5156",
   "metadata": {},
   "source": [
    "# Text Analysis"
   ]
  },
  {
   "cell_type": "code",
   "execution_count": 73,
   "id": "2cf7bd53",
   "metadata": {},
   "outputs": [
    {
     "data": {
      "text/plain": [
       "['australia',\n",
       " 'manufacture',\n",
       " 'vaccine',\n",
       " 'give',\n",
       " 'citizens',\n",
       " 'free',\n",
       " 'cost',\n",
       " 'afp',\n",
       " 'quotes',\n",
       " 'prime']"
      ]
     },
     "execution_count": 73,
     "metadata": {},
     "output_type": "execute_result"
    }
   ],
   "source": [
    "word_list = [word for line in texts_rs for word in line.split()]\n",
    "word_list[:10]"
   ]
  },
  {
   "cell_type": "code",
   "execution_count": 74,
   "id": "ecb9544d",
   "metadata": {},
   "outputs": [
    {
     "data": {
      "application/vnd.plotly.v1+json": {
       "config": {
        "plotlyServerURL": "https://plot.ly"
       },
       "data": [
        {
         "alignmentgroup": "True",
         "hovertemplate": "word=%{x}<br>freq=%{y}<extra></extra>",
         "legendgroup": "",
         "marker": {
          "color": "#636efa",
          "pattern": {
           "shape": ""
          }
         },
         "name": "",
         "offsetgroup": "",
         "orientation": "v",
         "showlegend": false,
         "textposition": "auto",
         "type": "bar",
         "x": [
          "covidvaccine",
          "vaccine",
          "get",
          "slots",
          "vaccinated",
          "vaccination",
          "people",
          "dose",
          "vaccines",
          "first",
          "today",
          "free",
          "got",
          "pfizer",
          "covishield",
          "one",
          "paid",
          "0",
          "availability",
          "getting",
          "bengaluru",
          "us",
          "health",
          "covaxin",
          "doses",
          "new",
          "need",
          "shot",
          "like",
          "second",
          "booster",
          "please",
          "india",
          "know",
          "take",
          "still",
          "day",
          "2",
          "news",
          "time",
          "jab",
          "45",
          "moderna",
          "dont",
          "many",
          "would",
          "2nd",
          "1",
          "good",
          "it’s"
         ],
         "xaxis": "x",
         "y": [
          284754,
          87427,
          44913,
          31649,
          28453,
          27874,
          27701,
          22404,
          22126,
          21854,
          19404,
          19184,
          18198,
          16825,
          15461,
          14812,
          14513,
          14464,
          14379,
          14332,
          14102,
          13659,
          13169,
          13106,
          12186,
          12106,
          10919,
          10877,
          10732,
          10608,
          10238,
          10174,
          9898,
          9866,
          9301,
          9301,
          9067,
          8614,
          8449,
          8421,
          7863,
          7771,
          7672,
          7642,
          7576,
          7507,
          7480,
          7444,
          7387,
          7225
         ],
         "yaxis": "y"
        }
       ],
       "layout": {
        "barmode": "relative",
        "legend": {
         "tracegroupgap": 0
        },
        "template": {
         "data": {
          "bar": [
           {
            "error_x": {
             "color": "#2a3f5f"
            },
            "error_y": {
             "color": "#2a3f5f"
            },
            "marker": {
             "line": {
              "color": "#E5ECF6",
              "width": 0.5
             },
             "pattern": {
              "fillmode": "overlay",
              "size": 10,
              "solidity": 0.2
             }
            },
            "type": "bar"
           }
          ],
          "barpolar": [
           {
            "marker": {
             "line": {
              "color": "#E5ECF6",
              "width": 0.5
             },
             "pattern": {
              "fillmode": "overlay",
              "size": 10,
              "solidity": 0.2
             }
            },
            "type": "barpolar"
           }
          ],
          "carpet": [
           {
            "aaxis": {
             "endlinecolor": "#2a3f5f",
             "gridcolor": "white",
             "linecolor": "white",
             "minorgridcolor": "white",
             "startlinecolor": "#2a3f5f"
            },
            "baxis": {
             "endlinecolor": "#2a3f5f",
             "gridcolor": "white",
             "linecolor": "white",
             "minorgridcolor": "white",
             "startlinecolor": "#2a3f5f"
            },
            "type": "carpet"
           }
          ],
          "choropleth": [
           {
            "colorbar": {
             "outlinewidth": 0,
             "ticks": ""
            },
            "type": "choropleth"
           }
          ],
          "contour": [
           {
            "colorbar": {
             "outlinewidth": 0,
             "ticks": ""
            },
            "colorscale": [
             [
              0,
              "#0d0887"
             ],
             [
              0.1111111111111111,
              "#46039f"
             ],
             [
              0.2222222222222222,
              "#7201a8"
             ],
             [
              0.3333333333333333,
              "#9c179e"
             ],
             [
              0.4444444444444444,
              "#bd3786"
             ],
             [
              0.5555555555555556,
              "#d8576b"
             ],
             [
              0.6666666666666666,
              "#ed7953"
             ],
             [
              0.7777777777777778,
              "#fb9f3a"
             ],
             [
              0.8888888888888888,
              "#fdca26"
             ],
             [
              1,
              "#f0f921"
             ]
            ],
            "type": "contour"
           }
          ],
          "contourcarpet": [
           {
            "colorbar": {
             "outlinewidth": 0,
             "ticks": ""
            },
            "type": "contourcarpet"
           }
          ],
          "heatmap": [
           {
            "colorbar": {
             "outlinewidth": 0,
             "ticks": ""
            },
            "colorscale": [
             [
              0,
              "#0d0887"
             ],
             [
              0.1111111111111111,
              "#46039f"
             ],
             [
              0.2222222222222222,
              "#7201a8"
             ],
             [
              0.3333333333333333,
              "#9c179e"
             ],
             [
              0.4444444444444444,
              "#bd3786"
             ],
             [
              0.5555555555555556,
              "#d8576b"
             ],
             [
              0.6666666666666666,
              "#ed7953"
             ],
             [
              0.7777777777777778,
              "#fb9f3a"
             ],
             [
              0.8888888888888888,
              "#fdca26"
             ],
             [
              1,
              "#f0f921"
             ]
            ],
            "type": "heatmap"
           }
          ],
          "heatmapgl": [
           {
            "colorbar": {
             "outlinewidth": 0,
             "ticks": ""
            },
            "colorscale": [
             [
              0,
              "#0d0887"
             ],
             [
              0.1111111111111111,
              "#46039f"
             ],
             [
              0.2222222222222222,
              "#7201a8"
             ],
             [
              0.3333333333333333,
              "#9c179e"
             ],
             [
              0.4444444444444444,
              "#bd3786"
             ],
             [
              0.5555555555555556,
              "#d8576b"
             ],
             [
              0.6666666666666666,
              "#ed7953"
             ],
             [
              0.7777777777777778,
              "#fb9f3a"
             ],
             [
              0.8888888888888888,
              "#fdca26"
             ],
             [
              1,
              "#f0f921"
             ]
            ],
            "type": "heatmapgl"
           }
          ],
          "histogram": [
           {
            "marker": {
             "pattern": {
              "fillmode": "overlay",
              "size": 10,
              "solidity": 0.2
             }
            },
            "type": "histogram"
           }
          ],
          "histogram2d": [
           {
            "colorbar": {
             "outlinewidth": 0,
             "ticks": ""
            },
            "colorscale": [
             [
              0,
              "#0d0887"
             ],
             [
              0.1111111111111111,
              "#46039f"
             ],
             [
              0.2222222222222222,
              "#7201a8"
             ],
             [
              0.3333333333333333,
              "#9c179e"
             ],
             [
              0.4444444444444444,
              "#bd3786"
             ],
             [
              0.5555555555555556,
              "#d8576b"
             ],
             [
              0.6666666666666666,
              "#ed7953"
             ],
             [
              0.7777777777777778,
              "#fb9f3a"
             ],
             [
              0.8888888888888888,
              "#fdca26"
             ],
             [
              1,
              "#f0f921"
             ]
            ],
            "type": "histogram2d"
           }
          ],
          "histogram2dcontour": [
           {
            "colorbar": {
             "outlinewidth": 0,
             "ticks": ""
            },
            "colorscale": [
             [
              0,
              "#0d0887"
             ],
             [
              0.1111111111111111,
              "#46039f"
             ],
             [
              0.2222222222222222,
              "#7201a8"
             ],
             [
              0.3333333333333333,
              "#9c179e"
             ],
             [
              0.4444444444444444,
              "#bd3786"
             ],
             [
              0.5555555555555556,
              "#d8576b"
             ],
             [
              0.6666666666666666,
              "#ed7953"
             ],
             [
              0.7777777777777778,
              "#fb9f3a"
             ],
             [
              0.8888888888888888,
              "#fdca26"
             ],
             [
              1,
              "#f0f921"
             ]
            ],
            "type": "histogram2dcontour"
           }
          ],
          "mesh3d": [
           {
            "colorbar": {
             "outlinewidth": 0,
             "ticks": ""
            },
            "type": "mesh3d"
           }
          ],
          "parcoords": [
           {
            "line": {
             "colorbar": {
              "outlinewidth": 0,
              "ticks": ""
             }
            },
            "type": "parcoords"
           }
          ],
          "pie": [
           {
            "automargin": true,
            "type": "pie"
           }
          ],
          "scatter": [
           {
            "marker": {
             "colorbar": {
              "outlinewidth": 0,
              "ticks": ""
             }
            },
            "type": "scatter"
           }
          ],
          "scatter3d": [
           {
            "line": {
             "colorbar": {
              "outlinewidth": 0,
              "ticks": ""
             }
            },
            "marker": {
             "colorbar": {
              "outlinewidth": 0,
              "ticks": ""
             }
            },
            "type": "scatter3d"
           }
          ],
          "scattercarpet": [
           {
            "marker": {
             "colorbar": {
              "outlinewidth": 0,
              "ticks": ""
             }
            },
            "type": "scattercarpet"
           }
          ],
          "scattergeo": [
           {
            "marker": {
             "colorbar": {
              "outlinewidth": 0,
              "ticks": ""
             }
            },
            "type": "scattergeo"
           }
          ],
          "scattergl": [
           {
            "marker": {
             "colorbar": {
              "outlinewidth": 0,
              "ticks": ""
             }
            },
            "type": "scattergl"
           }
          ],
          "scattermapbox": [
           {
            "marker": {
             "colorbar": {
              "outlinewidth": 0,
              "ticks": ""
             }
            },
            "type": "scattermapbox"
           }
          ],
          "scatterpolar": [
           {
            "marker": {
             "colorbar": {
              "outlinewidth": 0,
              "ticks": ""
             }
            },
            "type": "scatterpolar"
           }
          ],
          "scatterpolargl": [
           {
            "marker": {
             "colorbar": {
              "outlinewidth": 0,
              "ticks": ""
             }
            },
            "type": "scatterpolargl"
           }
          ],
          "scatterternary": [
           {
            "marker": {
             "colorbar": {
              "outlinewidth": 0,
              "ticks": ""
             }
            },
            "type": "scatterternary"
           }
          ],
          "surface": [
           {
            "colorbar": {
             "outlinewidth": 0,
             "ticks": ""
            },
            "colorscale": [
             [
              0,
              "#0d0887"
             ],
             [
              0.1111111111111111,
              "#46039f"
             ],
             [
              0.2222222222222222,
              "#7201a8"
             ],
             [
              0.3333333333333333,
              "#9c179e"
             ],
             [
              0.4444444444444444,
              "#bd3786"
             ],
             [
              0.5555555555555556,
              "#d8576b"
             ],
             [
              0.6666666666666666,
              "#ed7953"
             ],
             [
              0.7777777777777778,
              "#fb9f3a"
             ],
             [
              0.8888888888888888,
              "#fdca26"
             ],
             [
              1,
              "#f0f921"
             ]
            ],
            "type": "surface"
           }
          ],
          "table": [
           {
            "cells": {
             "fill": {
              "color": "#EBF0F8"
             },
             "line": {
              "color": "white"
             }
            },
            "header": {
             "fill": {
              "color": "#C8D4E3"
             },
             "line": {
              "color": "white"
             }
            },
            "type": "table"
           }
          ]
         },
         "layout": {
          "annotationdefaults": {
           "arrowcolor": "#2a3f5f",
           "arrowhead": 0,
           "arrowwidth": 1
          },
          "autotypenumbers": "strict",
          "coloraxis": {
           "colorbar": {
            "outlinewidth": 0,
            "ticks": ""
           }
          },
          "colorscale": {
           "diverging": [
            [
             0,
             "#8e0152"
            ],
            [
             0.1,
             "#c51b7d"
            ],
            [
             0.2,
             "#de77ae"
            ],
            [
             0.3,
             "#f1b6da"
            ],
            [
             0.4,
             "#fde0ef"
            ],
            [
             0.5,
             "#f7f7f7"
            ],
            [
             0.6,
             "#e6f5d0"
            ],
            [
             0.7,
             "#b8e186"
            ],
            [
             0.8,
             "#7fbc41"
            ],
            [
             0.9,
             "#4d9221"
            ],
            [
             1,
             "#276419"
            ]
           ],
           "sequential": [
            [
             0,
             "#0d0887"
            ],
            [
             0.1111111111111111,
             "#46039f"
            ],
            [
             0.2222222222222222,
             "#7201a8"
            ],
            [
             0.3333333333333333,
             "#9c179e"
            ],
            [
             0.4444444444444444,
             "#bd3786"
            ],
            [
             0.5555555555555556,
             "#d8576b"
            ],
            [
             0.6666666666666666,
             "#ed7953"
            ],
            [
             0.7777777777777778,
             "#fb9f3a"
            ],
            [
             0.8888888888888888,
             "#fdca26"
            ],
            [
             1,
             "#f0f921"
            ]
           ],
           "sequentialminus": [
            [
             0,
             "#0d0887"
            ],
            [
             0.1111111111111111,
             "#46039f"
            ],
            [
             0.2222222222222222,
             "#7201a8"
            ],
            [
             0.3333333333333333,
             "#9c179e"
            ],
            [
             0.4444444444444444,
             "#bd3786"
            ],
            [
             0.5555555555555556,
             "#d8576b"
            ],
            [
             0.6666666666666666,
             "#ed7953"
            ],
            [
             0.7777777777777778,
             "#fb9f3a"
            ],
            [
             0.8888888888888888,
             "#fdca26"
            ],
            [
             1,
             "#f0f921"
            ]
           ]
          },
          "colorway": [
           "#636efa",
           "#EF553B",
           "#00cc96",
           "#ab63fa",
           "#FFA15A",
           "#19d3f3",
           "#FF6692",
           "#B6E880",
           "#FF97FF",
           "#FECB52"
          ],
          "font": {
           "color": "#2a3f5f"
          },
          "geo": {
           "bgcolor": "white",
           "lakecolor": "white",
           "landcolor": "#E5ECF6",
           "showlakes": true,
           "showland": true,
           "subunitcolor": "white"
          },
          "hoverlabel": {
           "align": "left"
          },
          "hovermode": "closest",
          "mapbox": {
           "style": "light"
          },
          "paper_bgcolor": "white",
          "plot_bgcolor": "#E5ECF6",
          "polar": {
           "angularaxis": {
            "gridcolor": "white",
            "linecolor": "white",
            "ticks": ""
           },
           "bgcolor": "#E5ECF6",
           "radialaxis": {
            "gridcolor": "white",
            "linecolor": "white",
            "ticks": ""
           }
          },
          "scene": {
           "xaxis": {
            "backgroundcolor": "#E5ECF6",
            "gridcolor": "white",
            "gridwidth": 2,
            "linecolor": "white",
            "showbackground": true,
            "ticks": "",
            "zerolinecolor": "white"
           },
           "yaxis": {
            "backgroundcolor": "#E5ECF6",
            "gridcolor": "white",
            "gridwidth": 2,
            "linecolor": "white",
            "showbackground": true,
            "ticks": "",
            "zerolinecolor": "white"
           },
           "zaxis": {
            "backgroundcolor": "#E5ECF6",
            "gridcolor": "white",
            "gridwidth": 2,
            "linecolor": "white",
            "showbackground": true,
            "ticks": "",
            "zerolinecolor": "white"
           }
          },
          "shapedefaults": {
           "line": {
            "color": "#2a3f5f"
           }
          },
          "ternary": {
           "aaxis": {
            "gridcolor": "white",
            "linecolor": "white",
            "ticks": ""
           },
           "baxis": {
            "gridcolor": "white",
            "linecolor": "white",
            "ticks": ""
           },
           "bgcolor": "#E5ECF6",
           "caxis": {
            "gridcolor": "white",
            "linecolor": "white",
            "ticks": ""
           }
          },
          "title": {
           "x": 0.05
          },
          "xaxis": {
           "automargin": true,
           "gridcolor": "white",
           "linecolor": "white",
           "ticks": "",
           "title": {
            "standoff": 15
           },
           "zerolinecolor": "white",
           "zerolinewidth": 2
          },
          "yaxis": {
           "automargin": true,
           "gridcolor": "white",
           "linecolor": "white",
           "ticks": "",
           "title": {
            "standoff": 15
           },
           "zerolinecolor": "white",
           "zerolinewidth": 2
          }
         }
        },
        "title": {
         "text": "Most Common Words"
        },
        "xaxis": {
         "anchor": "y",
         "domain": [
          0,
          1
         ],
         "title": {
          "text": "word"
         }
        },
        "yaxis": {
         "anchor": "x",
         "domain": [
          0,
          1
         ],
         "title": {
          "text": "freq"
         }
        }
       }
      },
      "text/html": [
       "<div>                            <div id=\"7ccb2cd8-6b06-42c4-9fce-4e9f306bc4eb\" class=\"plotly-graph-div\" style=\"height:525px; width:100%;\"></div>            <script type=\"text/javascript\">                require([\"plotly\"], function(Plotly) {                    window.PLOTLYENV=window.PLOTLYENV || {};                                    if (document.getElementById(\"7ccb2cd8-6b06-42c4-9fce-4e9f306bc4eb\")) {                    Plotly.newPlot(                        \"7ccb2cd8-6b06-42c4-9fce-4e9f306bc4eb\",                        [{\"alignmentgroup\":\"True\",\"hovertemplate\":\"word=%{x}<br>freq=%{y}<extra></extra>\",\"legendgroup\":\"\",\"marker\":{\"color\":\"#636efa\",\"pattern\":{\"shape\":\"\"}},\"name\":\"\",\"offsetgroup\":\"\",\"orientation\":\"v\",\"showlegend\":false,\"textposition\":\"auto\",\"x\":[\"covidvaccine\",\"vaccine\",\"get\",\"slots\",\"vaccinated\",\"vaccination\",\"people\",\"dose\",\"vaccines\",\"first\",\"today\",\"free\",\"got\",\"pfizer\",\"covishield\",\"one\",\"paid\",\"0\",\"availability\",\"getting\",\"bengaluru\",\"us\",\"health\",\"covaxin\",\"doses\",\"new\",\"need\",\"shot\",\"like\",\"second\",\"booster\",\"please\",\"india\",\"know\",\"take\",\"still\",\"day\",\"2\",\"news\",\"time\",\"jab\",\"45\",\"moderna\",\"dont\",\"many\",\"would\",\"2nd\",\"1\",\"good\",\"it\\u2019s\"],\"xaxis\":\"x\",\"y\":[284754,87427,44913,31649,28453,27874,27701,22404,22126,21854,19404,19184,18198,16825,15461,14812,14513,14464,14379,14332,14102,13659,13169,13106,12186,12106,10919,10877,10732,10608,10238,10174,9898,9866,9301,9301,9067,8614,8449,8421,7863,7771,7672,7642,7576,7507,7480,7444,7387,7225],\"yaxis\":\"y\",\"type\":\"bar\"}],                        {\"template\":{\"data\":{\"bar\":[{\"error_x\":{\"color\":\"#2a3f5f\"},\"error_y\":{\"color\":\"#2a3f5f\"},\"marker\":{\"line\":{\"color\":\"#E5ECF6\",\"width\":0.5},\"pattern\":{\"fillmode\":\"overlay\",\"size\":10,\"solidity\":0.2}},\"type\":\"bar\"}],\"barpolar\":[{\"marker\":{\"line\":{\"color\":\"#E5ECF6\",\"width\":0.5},\"pattern\":{\"fillmode\":\"overlay\",\"size\":10,\"solidity\":0.2}},\"type\":\"barpolar\"}],\"carpet\":[{\"aaxis\":{\"endlinecolor\":\"#2a3f5f\",\"gridcolor\":\"white\",\"linecolor\":\"white\",\"minorgridcolor\":\"white\",\"startlinecolor\":\"#2a3f5f\"},\"baxis\":{\"endlinecolor\":\"#2a3f5f\",\"gridcolor\":\"white\",\"linecolor\":\"white\",\"minorgridcolor\":\"white\",\"startlinecolor\":\"#2a3f5f\"},\"type\":\"carpet\"}],\"choropleth\":[{\"colorbar\":{\"outlinewidth\":0,\"ticks\":\"\"},\"type\":\"choropleth\"}],\"contour\":[{\"colorbar\":{\"outlinewidth\":0,\"ticks\":\"\"},\"colorscale\":[[0.0,\"#0d0887\"],[0.1111111111111111,\"#46039f\"],[0.2222222222222222,\"#7201a8\"],[0.3333333333333333,\"#9c179e\"],[0.4444444444444444,\"#bd3786\"],[0.5555555555555556,\"#d8576b\"],[0.6666666666666666,\"#ed7953\"],[0.7777777777777778,\"#fb9f3a\"],[0.8888888888888888,\"#fdca26\"],[1.0,\"#f0f921\"]],\"type\":\"contour\"}],\"contourcarpet\":[{\"colorbar\":{\"outlinewidth\":0,\"ticks\":\"\"},\"type\":\"contourcarpet\"}],\"heatmap\":[{\"colorbar\":{\"outlinewidth\":0,\"ticks\":\"\"},\"colorscale\":[[0.0,\"#0d0887\"],[0.1111111111111111,\"#46039f\"],[0.2222222222222222,\"#7201a8\"],[0.3333333333333333,\"#9c179e\"],[0.4444444444444444,\"#bd3786\"],[0.5555555555555556,\"#d8576b\"],[0.6666666666666666,\"#ed7953\"],[0.7777777777777778,\"#fb9f3a\"],[0.8888888888888888,\"#fdca26\"],[1.0,\"#f0f921\"]],\"type\":\"heatmap\"}],\"heatmapgl\":[{\"colorbar\":{\"outlinewidth\":0,\"ticks\":\"\"},\"colorscale\":[[0.0,\"#0d0887\"],[0.1111111111111111,\"#46039f\"],[0.2222222222222222,\"#7201a8\"],[0.3333333333333333,\"#9c179e\"],[0.4444444444444444,\"#bd3786\"],[0.5555555555555556,\"#d8576b\"],[0.6666666666666666,\"#ed7953\"],[0.7777777777777778,\"#fb9f3a\"],[0.8888888888888888,\"#fdca26\"],[1.0,\"#f0f921\"]],\"type\":\"heatmapgl\"}],\"histogram\":[{\"marker\":{\"pattern\":{\"fillmode\":\"overlay\",\"size\":10,\"solidity\":0.2}},\"type\":\"histogram\"}],\"histogram2d\":[{\"colorbar\":{\"outlinewidth\":0,\"ticks\":\"\"},\"colorscale\":[[0.0,\"#0d0887\"],[0.1111111111111111,\"#46039f\"],[0.2222222222222222,\"#7201a8\"],[0.3333333333333333,\"#9c179e\"],[0.4444444444444444,\"#bd3786\"],[0.5555555555555556,\"#d8576b\"],[0.6666666666666666,\"#ed7953\"],[0.7777777777777778,\"#fb9f3a\"],[0.8888888888888888,\"#fdca26\"],[1.0,\"#f0f921\"]],\"type\":\"histogram2d\"}],\"histogram2dcontour\":[{\"colorbar\":{\"outlinewidth\":0,\"ticks\":\"\"},\"colorscale\":[[0.0,\"#0d0887\"],[0.1111111111111111,\"#46039f\"],[0.2222222222222222,\"#7201a8\"],[0.3333333333333333,\"#9c179e\"],[0.4444444444444444,\"#bd3786\"],[0.5555555555555556,\"#d8576b\"],[0.6666666666666666,\"#ed7953\"],[0.7777777777777778,\"#fb9f3a\"],[0.8888888888888888,\"#fdca26\"],[1.0,\"#f0f921\"]],\"type\":\"histogram2dcontour\"}],\"mesh3d\":[{\"colorbar\":{\"outlinewidth\":0,\"ticks\":\"\"},\"type\":\"mesh3d\"}],\"parcoords\":[{\"line\":{\"colorbar\":{\"outlinewidth\":0,\"ticks\":\"\"}},\"type\":\"parcoords\"}],\"pie\":[{\"automargin\":true,\"type\":\"pie\"}],\"scatter\":[{\"marker\":{\"colorbar\":{\"outlinewidth\":0,\"ticks\":\"\"}},\"type\":\"scatter\"}],\"scatter3d\":[{\"line\":{\"colorbar\":{\"outlinewidth\":0,\"ticks\":\"\"}},\"marker\":{\"colorbar\":{\"outlinewidth\":0,\"ticks\":\"\"}},\"type\":\"scatter3d\"}],\"scattercarpet\":[{\"marker\":{\"colorbar\":{\"outlinewidth\":0,\"ticks\":\"\"}},\"type\":\"scattercarpet\"}],\"scattergeo\":[{\"marker\":{\"colorbar\":{\"outlinewidth\":0,\"ticks\":\"\"}},\"type\":\"scattergeo\"}],\"scattergl\":[{\"marker\":{\"colorbar\":{\"outlinewidth\":0,\"ticks\":\"\"}},\"type\":\"scattergl\"}],\"scattermapbox\":[{\"marker\":{\"colorbar\":{\"outlinewidth\":0,\"ticks\":\"\"}},\"type\":\"scattermapbox\"}],\"scatterpolar\":[{\"marker\":{\"colorbar\":{\"outlinewidth\":0,\"ticks\":\"\"}},\"type\":\"scatterpolar\"}],\"scatterpolargl\":[{\"marker\":{\"colorbar\":{\"outlinewidth\":0,\"ticks\":\"\"}},\"type\":\"scatterpolargl\"}],\"scatterternary\":[{\"marker\":{\"colorbar\":{\"outlinewidth\":0,\"ticks\":\"\"}},\"type\":\"scatterternary\"}],\"surface\":[{\"colorbar\":{\"outlinewidth\":0,\"ticks\":\"\"},\"colorscale\":[[0.0,\"#0d0887\"],[0.1111111111111111,\"#46039f\"],[0.2222222222222222,\"#7201a8\"],[0.3333333333333333,\"#9c179e\"],[0.4444444444444444,\"#bd3786\"],[0.5555555555555556,\"#d8576b\"],[0.6666666666666666,\"#ed7953\"],[0.7777777777777778,\"#fb9f3a\"],[0.8888888888888888,\"#fdca26\"],[1.0,\"#f0f921\"]],\"type\":\"surface\"}],\"table\":[{\"cells\":{\"fill\":{\"color\":\"#EBF0F8\"},\"line\":{\"color\":\"white\"}},\"header\":{\"fill\":{\"color\":\"#C8D4E3\"},\"line\":{\"color\":\"white\"}},\"type\":\"table\"}]},\"layout\":{\"annotationdefaults\":{\"arrowcolor\":\"#2a3f5f\",\"arrowhead\":0,\"arrowwidth\":1},\"autotypenumbers\":\"strict\",\"coloraxis\":{\"colorbar\":{\"outlinewidth\":0,\"ticks\":\"\"}},\"colorscale\":{\"diverging\":[[0,\"#8e0152\"],[0.1,\"#c51b7d\"],[0.2,\"#de77ae\"],[0.3,\"#f1b6da\"],[0.4,\"#fde0ef\"],[0.5,\"#f7f7f7\"],[0.6,\"#e6f5d0\"],[0.7,\"#b8e186\"],[0.8,\"#7fbc41\"],[0.9,\"#4d9221\"],[1,\"#276419\"]],\"sequential\":[[0.0,\"#0d0887\"],[0.1111111111111111,\"#46039f\"],[0.2222222222222222,\"#7201a8\"],[0.3333333333333333,\"#9c179e\"],[0.4444444444444444,\"#bd3786\"],[0.5555555555555556,\"#d8576b\"],[0.6666666666666666,\"#ed7953\"],[0.7777777777777778,\"#fb9f3a\"],[0.8888888888888888,\"#fdca26\"],[1.0,\"#f0f921\"]],\"sequentialminus\":[[0.0,\"#0d0887\"],[0.1111111111111111,\"#46039f\"],[0.2222222222222222,\"#7201a8\"],[0.3333333333333333,\"#9c179e\"],[0.4444444444444444,\"#bd3786\"],[0.5555555555555556,\"#d8576b\"],[0.6666666666666666,\"#ed7953\"],[0.7777777777777778,\"#fb9f3a\"],[0.8888888888888888,\"#fdca26\"],[1.0,\"#f0f921\"]]},\"colorway\":[\"#636efa\",\"#EF553B\",\"#00cc96\",\"#ab63fa\",\"#FFA15A\",\"#19d3f3\",\"#FF6692\",\"#B6E880\",\"#FF97FF\",\"#FECB52\"],\"font\":{\"color\":\"#2a3f5f\"},\"geo\":{\"bgcolor\":\"white\",\"lakecolor\":\"white\",\"landcolor\":\"#E5ECF6\",\"showlakes\":true,\"showland\":true,\"subunitcolor\":\"white\"},\"hoverlabel\":{\"align\":\"left\"},\"hovermode\":\"closest\",\"mapbox\":{\"style\":\"light\"},\"paper_bgcolor\":\"white\",\"plot_bgcolor\":\"#E5ECF6\",\"polar\":{\"angularaxis\":{\"gridcolor\":\"white\",\"linecolor\":\"white\",\"ticks\":\"\"},\"bgcolor\":\"#E5ECF6\",\"radialaxis\":{\"gridcolor\":\"white\",\"linecolor\":\"white\",\"ticks\":\"\"}},\"scene\":{\"xaxis\":{\"backgroundcolor\":\"#E5ECF6\",\"gridcolor\":\"white\",\"gridwidth\":2,\"linecolor\":\"white\",\"showbackground\":true,\"ticks\":\"\",\"zerolinecolor\":\"white\"},\"yaxis\":{\"backgroundcolor\":\"#E5ECF6\",\"gridcolor\":\"white\",\"gridwidth\":2,\"linecolor\":\"white\",\"showbackground\":true,\"ticks\":\"\",\"zerolinecolor\":\"white\"},\"zaxis\":{\"backgroundcolor\":\"#E5ECF6\",\"gridcolor\":\"white\",\"gridwidth\":2,\"linecolor\":\"white\",\"showbackground\":true,\"ticks\":\"\",\"zerolinecolor\":\"white\"}},\"shapedefaults\":{\"line\":{\"color\":\"#2a3f5f\"}},\"ternary\":{\"aaxis\":{\"gridcolor\":\"white\",\"linecolor\":\"white\",\"ticks\":\"\"},\"baxis\":{\"gridcolor\":\"white\",\"linecolor\":\"white\",\"ticks\":\"\"},\"bgcolor\":\"#E5ECF6\",\"caxis\":{\"gridcolor\":\"white\",\"linecolor\":\"white\",\"ticks\":\"\"}},\"title\":{\"x\":0.05},\"xaxis\":{\"automargin\":true,\"gridcolor\":\"white\",\"linecolor\":\"white\",\"ticks\":\"\",\"title\":{\"standoff\":15},\"zerolinecolor\":\"white\",\"zerolinewidth\":2},\"yaxis\":{\"automargin\":true,\"gridcolor\":\"white\",\"linecolor\":\"white\",\"ticks\":\"\",\"title\":{\"standoff\":15},\"zerolinecolor\":\"white\",\"zerolinewidth\":2}}},\"xaxis\":{\"anchor\":\"y\",\"domain\":[0.0,1.0],\"title\":{\"text\":\"word\"}},\"yaxis\":{\"anchor\":\"x\",\"domain\":[0.0,1.0],\"title\":{\"text\":\"freq\"}},\"legend\":{\"tracegroupgap\":0},\"title\":{\"text\":\"Most Common Words\"},\"barmode\":\"relative\"},                        {\"responsive\": true}                    ).then(function(){\n",
       "                            \n",
       "var gd = document.getElementById('7ccb2cd8-6b06-42c4-9fce-4e9f306bc4eb');\n",
       "var x = new MutationObserver(function (mutations, observer) {{\n",
       "        var display = window.getComputedStyle(gd).display;\n",
       "        if (!display || display === 'none') {{\n",
       "            console.log([gd, 'removed!']);\n",
       "            Plotly.purge(gd);\n",
       "            observer.disconnect();\n",
       "        }}\n",
       "}});\n",
       "\n",
       "// Listen for the removal of the full notebook cells\n",
       "var notebookContainer = gd.closest('#notebook-container');\n",
       "if (notebookContainer) {{\n",
       "    x.observe(notebookContainer, {childList: true});\n",
       "}}\n",
       "\n",
       "// Listen for the clearing of the current output cell\n",
       "var outputEl = gd.closest('.output');\n",
       "if (outputEl) {{\n",
       "    x.observe(outputEl, {childList: true});\n",
       "}}\n",
       "\n",
       "                        })                };                });            </script>        </div>"
      ]
     },
     "metadata": {},
     "output_type": "display_data"
    }
   ],
   "source": [
    "word_counts = Counter(word_list).most_common(50)\n",
    "words_df = pd.DataFrame(word_counts)\n",
    "words_df.columns = ['word', 'freq']\n",
    "\n",
    "ex.bar(words_df, x='word', y='freq', title='Most Common Words')"
   ]
  },
  {
   "cell_type": "markdown",
   "id": "151063ba",
   "metadata": {},
   "source": [
    "# Join Tables"
   ]
  },
  {
   "cell_type": "code",
   "execution_count": 75,
   "id": "41fcff1d",
   "metadata": {},
   "outputs": [
    {
     "data": {
      "text/html": [
       "<div>\n",
       "<style scoped>\n",
       "    .dataframe tbody tr th:only-of-type {\n",
       "        vertical-align: middle;\n",
       "    }\n",
       "\n",
       "    .dataframe tbody tr th {\n",
       "        vertical-align: top;\n",
       "    }\n",
       "\n",
       "    .dataframe thead th {\n",
       "        text-align: right;\n",
       "    }\n",
       "</style>\n",
       "<table border=\"1\" class=\"dataframe\">\n",
       "  <thead>\n",
       "    <tr style=\"text-align: right;\">\n",
       "      <th></th>\n",
       "      <th>user_name</th>\n",
       "      <th>date</th>\n",
       "      <th>text</th>\n",
       "    </tr>\n",
       "  </thead>\n",
       "  <tbody>\n",
       "    <tr>\n",
       "      <th>0</th>\n",
       "      <td>88850</td>\n",
       "      <td>2020-08-18</td>\n",
       "      <td>australia manufacture vaccine give citizens fr...</td>\n",
       "    </tr>\n",
       "    <tr>\n",
       "      <th>1</th>\n",
       "      <td>115261</td>\n",
       "      <td>2020-08-18</td>\n",
       "      <td>coronavirusvaccine coronavaccine covidvaccine ...</td>\n",
       "    </tr>\n",
       "    <tr>\n",
       "      <th>2</th>\n",
       "      <td>64154</td>\n",
       "      <td>2020-08-18</td>\n",
       "      <td>deaths due affected countries read rpiryani sh...</td>\n",
       "    </tr>\n",
       "    <tr>\n",
       "      <th>3</th>\n",
       "      <td>136781</td>\n",
       "      <td>2020-08-18</td>\n",
       "      <td>teamsubhashree subhashreesotwe iamrajchoco sta...</td>\n",
       "    </tr>\n",
       "    <tr>\n",
       "      <th>4</th>\n",
       "      <td>10303</td>\n",
       "      <td>2020-08-18</td>\n",
       "      <td>michellegrattan conversationedu passes leaders...</td>\n",
       "    </tr>\n",
       "  </tbody>\n",
       "</table>\n",
       "</div>"
      ],
      "text/plain": [
       "   user_name        date                                               text\n",
       "0      88850  2020-08-18  australia manufacture vaccine give citizens fr...\n",
       "1     115261  2020-08-18  coronavirusvaccine coronavaccine covidvaccine ...\n",
       "2      64154  2020-08-18  deaths due affected countries read rpiryani sh...\n",
       "3     136781  2020-08-18  teamsubhashree subhashreesotwe iamrajchoco sta...\n",
       "4      10303  2020-08-18  michellegrattan conversationedu passes leaders..."
      ]
     },
     "execution_count": 75,
     "metadata": {},
     "output_type": "execute_result"
    }
   ],
   "source": [
    "df.text = texts_rs\n",
    "df.head()"
   ]
  },
  {
   "cell_type": "code",
   "execution_count": 76,
   "id": "7e1f8f76",
   "metadata": {},
   "outputs": [
    {
     "name": "stdout",
     "output_type": "stream",
     "text": [
      "<class 'pandas.core.frame.DataFrame'>\n",
      "RangeIndex: 384127 entries, 0 to 384126\n",
      "Data columns (total 3 columns):\n",
      " #   Column     Non-Null Count   Dtype \n",
      "---  ------     --------------   ----- \n",
      " 0   user_name  384127 non-null  int32 \n",
      " 1   date       384070 non-null  object\n",
      " 2   text       384127 non-null  object\n",
      "dtypes: int32(1), object(2)\n",
      "memory usage: 7.3+ MB\n"
     ]
    }
   ],
   "source": [
    "df.info()"
   ]
  },
  {
   "cell_type": "code",
   "execution_count": 77,
   "id": "694c1832",
   "metadata": {},
   "outputs": [
    {
     "data": {
      "text/plain": [
       "<bound method NDFrame.tail of         user_name        date  \\\n",
       "0           88850  2020-08-18   \n",
       "1          115261  2020-08-18   \n",
       "2           64154  2020-08-18   \n",
       "3          136781  2020-08-18   \n",
       "4           10303  2020-08-18   \n",
       "...           ...         ...   \n",
       "384122     125205  2022-04-16   \n",
       "384123     124250  2022-04-16   \n",
       "384124      56897  2022-04-16   \n",
       "384125     142518  2022-04-16   \n",
       "384126      56477  2022-04-16   \n",
       "\n",
       "                                                     text  \n",
       "0       australia manufacture vaccine give citizens fr...  \n",
       "1       coronavirusvaccine coronavaccine covidvaccine ...  \n",
       "2       deaths due affected countries read rpiryani sh...  \n",
       "3       teamsubhashree subhashreesotwe iamrajchoco sta...  \n",
       "4       michellegrattan conversationedu passes leaders...  \n",
       "...                                                   ...  \n",
       "384122  “mits dean science responds shes interested lo...  \n",
       "384123  spot covidvaccine critical nurses doctors pilo...  \n",
       "384124  792010 patients vaccination venous thromboembo...  \n",
       "384125  typocat im thankful brain enough happening cov...  \n",
       "384126  another covidvaccine really people really gull...  \n",
       "\n",
       "[384127 rows x 3 columns]>"
      ]
     },
     "execution_count": 77,
     "metadata": {},
     "output_type": "execute_result"
    }
   ],
   "source": [
    "df.tail"
   ]
  },
  {
   "cell_type": "code",
   "execution_count": 78,
   "id": "251df34a",
   "metadata": {
    "scrolled": false
   },
   "outputs": [
    {
     "data": {
      "text/html": [
       "<div>\n",
       "<style scoped>\n",
       "    .dataframe tbody tr th:only-of-type {\n",
       "        vertical-align: middle;\n",
       "    }\n",
       "\n",
       "    .dataframe tbody tr th {\n",
       "        vertical-align: top;\n",
       "    }\n",
       "\n",
       "    .dataframe thead th {\n",
       "        text-align: right;\n",
       "    }\n",
       "</style>\n",
       "<table border=\"1\" class=\"dataframe\">\n",
       "  <thead>\n",
       "    <tr style=\"text-align: right;\">\n",
       "      <th></th>\n",
       "      <th>user_name</th>\n",
       "      <th>date</th>\n",
       "      <th>text</th>\n",
       "    </tr>\n",
       "  </thead>\n",
       "  <tbody>\n",
       "    <tr>\n",
       "      <th>21939</th>\n",
       "      <td>8650</td>\n",
       "      <td>2020-12-26</td>\n",
       "      <td>covidvaccine coronavirusstrain oxfordvaccine v...</td>\n",
       "    </tr>\n",
       "    <tr>\n",
       "      <th>21940</th>\n",
       "      <td>14396</td>\n",
       "      <td>2020-12-26</td>\n",
       "      <td>christmas 2020 conspiracy theorists spent seas...</td>\n",
       "    </tr>\n",
       "    <tr>\n",
       "      <th>21941</th>\n",
       "      <td>131540</td>\n",
       "      <td>2020-12-26</td>\n",
       "      <td>looking forward dosetwo covidvaccine minus two...</td>\n",
       "    </tr>\n",
       "    <tr>\n",
       "      <th>21942</th>\n",
       "      <td>76125</td>\n",
       "      <td>2020-12-26</td>\n",
       "      <td>oxford vaccine approved within days could end ...</td>\n",
       "    </tr>\n",
       "    <tr>\n",
       "      <th>21943</th>\n",
       "      <td>15663</td>\n",
       "      <td>2020-12-26</td>\n",
       "      <td>murphypix many nursing home residents staffnot...</td>\n",
       "    </tr>\n",
       "    <tr>\n",
       "      <th>...</th>\n",
       "      <td>...</td>\n",
       "      <td>...</td>\n",
       "      <td>...</td>\n",
       "    </tr>\n",
       "    <tr>\n",
       "      <th>384122</th>\n",
       "      <td>125205</td>\n",
       "      <td>2022-04-16</td>\n",
       "      <td>“mits dean science responds shes interested lo...</td>\n",
       "    </tr>\n",
       "    <tr>\n",
       "      <th>384123</th>\n",
       "      <td>124250</td>\n",
       "      <td>2022-04-16</td>\n",
       "      <td>spot covidvaccine critical nurses doctors pilo...</td>\n",
       "    </tr>\n",
       "    <tr>\n",
       "      <th>384124</th>\n",
       "      <td>56897</td>\n",
       "      <td>2022-04-16</td>\n",
       "      <td>792010 patients vaccination venous thromboembo...</td>\n",
       "    </tr>\n",
       "    <tr>\n",
       "      <th>384125</th>\n",
       "      <td>142518</td>\n",
       "      <td>2022-04-16</td>\n",
       "      <td>typocat im thankful brain enough happening cov...</td>\n",
       "    </tr>\n",
       "    <tr>\n",
       "      <th>384126</th>\n",
       "      <td>56477</td>\n",
       "      <td>2022-04-16</td>\n",
       "      <td>another covidvaccine really people really gull...</td>\n",
       "    </tr>\n",
       "  </tbody>\n",
       "</table>\n",
       "<p>362131 rows × 3 columns</p>\n",
       "</div>"
      ],
      "text/plain": [
       "        user_name       date  \\\n",
       "21939        8650 2020-12-26   \n",
       "21940       14396 2020-12-26   \n",
       "21941      131540 2020-12-26   \n",
       "21942       76125 2020-12-26   \n",
       "21943       15663 2020-12-26   \n",
       "...           ...        ...   \n",
       "384122     125205 2022-04-16   \n",
       "384123     124250 2022-04-16   \n",
       "384124      56897 2022-04-16   \n",
       "384125     142518 2022-04-16   \n",
       "384126      56477 2022-04-16   \n",
       "\n",
       "                                                     text  \n",
       "21939   covidvaccine coronavirusstrain oxfordvaccine v...  \n",
       "21940   christmas 2020 conspiracy theorists spent seas...  \n",
       "21941   looking forward dosetwo covidvaccine minus two...  \n",
       "21942   oxford vaccine approved within days could end ...  \n",
       "21943   murphypix many nursing home residents staffnot...  \n",
       "...                                                   ...  \n",
       "384122  “mits dean science responds shes interested lo...  \n",
       "384123  spot covidvaccine critical nurses doctors pilo...  \n",
       "384124  792010 patients vaccination venous thromboembo...  \n",
       "384125  typocat im thankful brain enough happening cov...  \n",
       "384126  another covidvaccine really people really gull...  \n",
       "\n",
       "[362131 rows x 3 columns]"
      ]
     },
     "execution_count": 78,
     "metadata": {},
     "output_type": "execute_result"
    }
   ],
   "source": [
    "df['date'] = pd.to_datetime(df['date'], format='%Y-%m-%d')\n",
    "\n",
    "filtered_df = df.loc[(df['date'] >= '2020-12-12')]\n",
    "filtered_df"
   ]
  },
  {
   "cell_type": "markdown",
   "id": "246c336f",
   "metadata": {},
   "source": [
    "# Sentiment Extraction"
   ]
  },
  {
   "cell_type": "code",
   "execution_count": 79,
   "id": "412b6135",
   "metadata": {},
   "outputs": [
    {
     "data": {
      "text/plain": [
       "21939     {'neg': 0.0, 'neu': 1.0, 'pos': 0.0, 'compound...\n",
       "21940     {'neg': 0.221, 'neu': 0.779, 'pos': 0.0, 'comp...\n",
       "21941     {'neg': 0.0, 'neu': 1.0, 'pos': 0.0, 'compound...\n",
       "21942     {'neg': 0.0, 'neu': 0.781, 'pos': 0.219, 'comp...\n",
       "21943     {'neg': 0.394, 'neu': 0.606, 'pos': 0.0, 'comp...\n",
       "                                ...                        \n",
       "384122    {'neg': 0.0, 'neu': 0.621, 'pos': 0.379, 'comp...\n",
       "384123    {'neg': 0.185, 'neu': 0.815, 'pos': 0.0, 'comp...\n",
       "384124    {'neg': 0.323, 'neu': 0.677, 'pos': 0.0, 'comp...\n",
       "384125    {'neg': 0.0, 'neu': 0.654, 'pos': 0.346, 'comp...\n",
       "384126    {'neg': 0.352, 'neu': 0.449, 'pos': 0.199, 'co...\n",
       "Name: text, Length: 362131, dtype: object"
      ]
     },
     "execution_count": 79,
     "metadata": {},
     "output_type": "execute_result"
    }
   ],
   "source": [
    "sid = SentimentIntensityAnalyzer()\n",
    "ps = lambda x : sid.polarity_scores(x)\n",
    "sentiment_scores = filtered_df.text.apply(ps)\n",
    "sentiment_scores"
   ]
  },
  {
   "cell_type": "code",
   "execution_count": 80,
   "id": "8bef4a15",
   "metadata": {},
   "outputs": [
    {
     "data": {
      "text/html": [
       "<div>\n",
       "<style scoped>\n",
       "    .dataframe tbody tr th:only-of-type {\n",
       "        vertical-align: middle;\n",
       "    }\n",
       "\n",
       "    .dataframe tbody tr th {\n",
       "        vertical-align: top;\n",
       "    }\n",
       "\n",
       "    .dataframe thead th {\n",
       "        text-align: right;\n",
       "    }\n",
       "</style>\n",
       "<table border=\"1\" class=\"dataframe\">\n",
       "  <thead>\n",
       "    <tr style=\"text-align: right;\">\n",
       "      <th></th>\n",
       "      <th>neg</th>\n",
       "      <th>neu</th>\n",
       "      <th>pos</th>\n",
       "      <th>compound</th>\n",
       "    </tr>\n",
       "  </thead>\n",
       "  <tbody>\n",
       "    <tr>\n",
       "      <th>0</th>\n",
       "      <td>0.000</td>\n",
       "      <td>1.000</td>\n",
       "      <td>0.000</td>\n",
       "      <td>0.0000</td>\n",
       "    </tr>\n",
       "    <tr>\n",
       "      <th>1</th>\n",
       "      <td>0.221</td>\n",
       "      <td>0.779</td>\n",
       "      <td>0.000</td>\n",
       "      <td>-0.5267</td>\n",
       "    </tr>\n",
       "    <tr>\n",
       "      <th>2</th>\n",
       "      <td>0.000</td>\n",
       "      <td>1.000</td>\n",
       "      <td>0.000</td>\n",
       "      <td>0.0000</td>\n",
       "    </tr>\n",
       "    <tr>\n",
       "      <th>3</th>\n",
       "      <td>0.000</td>\n",
       "      <td>0.781</td>\n",
       "      <td>0.219</td>\n",
       "      <td>0.4215</td>\n",
       "    </tr>\n",
       "    <tr>\n",
       "      <th>4</th>\n",
       "      <td>0.394</td>\n",
       "      <td>0.606</td>\n",
       "      <td>0.000</td>\n",
       "      <td>-0.7579</td>\n",
       "    </tr>\n",
       "  </tbody>\n",
       "</table>\n",
       "</div>"
      ],
      "text/plain": [
       "     neg    neu    pos  compound\n",
       "0  0.000  1.000  0.000    0.0000\n",
       "1  0.221  0.779  0.000   -0.5267\n",
       "2  0.000  1.000  0.000    0.0000\n",
       "3  0.000  0.781  0.219    0.4215\n",
       "4  0.394  0.606  0.000   -0.7579"
      ]
     },
     "execution_count": 80,
     "metadata": {},
     "output_type": "execute_result"
    }
   ],
   "source": [
    "sentiment_df = pd.DataFrame(data = list(sentiment_scores))\n",
    "sentiment_df.head()"
   ]
  },
  {
   "cell_type": "code",
   "execution_count": 81,
   "id": "091dc4e6",
   "metadata": {},
   "outputs": [
    {
     "data": {
      "text/html": [
       "<div>\n",
       "<style scoped>\n",
       "    .dataframe tbody tr th:only-of-type {\n",
       "        vertical-align: middle;\n",
       "    }\n",
       "\n",
       "    .dataframe tbody tr th {\n",
       "        vertical-align: top;\n",
       "    }\n",
       "\n",
       "    .dataframe thead th {\n",
       "        text-align: right;\n",
       "    }\n",
       "</style>\n",
       "<table border=\"1\" class=\"dataframe\">\n",
       "  <thead>\n",
       "    <tr style=\"text-align: right;\">\n",
       "      <th></th>\n",
       "      <th>neg</th>\n",
       "      <th>neu</th>\n",
       "      <th>pos</th>\n",
       "      <th>compound</th>\n",
       "      <th>label</th>\n",
       "    </tr>\n",
       "  </thead>\n",
       "  <tbody>\n",
       "    <tr>\n",
       "      <th>0</th>\n",
       "      <td>0.000</td>\n",
       "      <td>1.000</td>\n",
       "      <td>0.000</td>\n",
       "      <td>0.0000</td>\n",
       "      <td>neutral</td>\n",
       "    </tr>\n",
       "    <tr>\n",
       "      <th>1</th>\n",
       "      <td>0.221</td>\n",
       "      <td>0.779</td>\n",
       "      <td>0.000</td>\n",
       "      <td>-0.5267</td>\n",
       "      <td>negative</td>\n",
       "    </tr>\n",
       "    <tr>\n",
       "      <th>2</th>\n",
       "      <td>0.000</td>\n",
       "      <td>1.000</td>\n",
       "      <td>0.000</td>\n",
       "      <td>0.0000</td>\n",
       "      <td>neutral</td>\n",
       "    </tr>\n",
       "    <tr>\n",
       "      <th>3</th>\n",
       "      <td>0.000</td>\n",
       "      <td>0.781</td>\n",
       "      <td>0.219</td>\n",
       "      <td>0.4215</td>\n",
       "      <td>positive</td>\n",
       "    </tr>\n",
       "    <tr>\n",
       "      <th>4</th>\n",
       "      <td>0.394</td>\n",
       "      <td>0.606</td>\n",
       "      <td>0.000</td>\n",
       "      <td>-0.7579</td>\n",
       "      <td>negative</td>\n",
       "    </tr>\n",
       "  </tbody>\n",
       "</table>\n",
       "</div>"
      ],
      "text/plain": [
       "     neg    neu    pos  compound     label\n",
       "0  0.000  1.000  0.000    0.0000   neutral\n",
       "1  0.221  0.779  0.000   -0.5267  negative\n",
       "2  0.000  1.000  0.000    0.0000   neutral\n",
       "3  0.000  0.781  0.219    0.4215  positive\n",
       "4  0.394  0.606  0.000   -0.7579  negative"
      ]
     },
     "execution_count": 81,
     "metadata": {},
     "output_type": "execute_result"
    }
   ],
   "source": [
    "labelize = lambda x : 'neutral' if x==0 else('positive' if x>0 else 'negative')\n",
    "sentiment_df['label'] = sentiment_df.compound.apply(labelize)\n",
    "sentiment_df.head()"
   ]
  },
  {
   "cell_type": "code",
   "execution_count": 82,
   "id": "73660a4f",
   "metadata": {
    "scrolled": true
   },
   "outputs": [
    {
     "data": {
      "text/html": [
       "<div>\n",
       "<style scoped>\n",
       "    .dataframe tbody tr th:only-of-type {\n",
       "        vertical-align: middle;\n",
       "    }\n",
       "\n",
       "    .dataframe tbody tr th {\n",
       "        vertical-align: top;\n",
       "    }\n",
       "\n",
       "    .dataframe thead th {\n",
       "        text-align: right;\n",
       "    }\n",
       "</style>\n",
       "<table border=\"1\" class=\"dataframe\">\n",
       "  <thead>\n",
       "    <tr style=\"text-align: right;\">\n",
       "      <th></th>\n",
       "      <th>user_name</th>\n",
       "      <th>date</th>\n",
       "      <th>text</th>\n",
       "      <th>label</th>\n",
       "    </tr>\n",
       "  </thead>\n",
       "  <tbody>\n",
       "    <tr>\n",
       "      <th>21939</th>\n",
       "      <td>8650</td>\n",
       "      <td>2020-12-26</td>\n",
       "      <td>covidvaccine coronavirusstrain oxfordvaccine v...</td>\n",
       "      <td>negative</td>\n",
       "    </tr>\n",
       "    <tr>\n",
       "      <th>21940</th>\n",
       "      <td>14396</td>\n",
       "      <td>2020-12-26</td>\n",
       "      <td>christmas 2020 conspiracy theorists spent seas...</td>\n",
       "      <td>neutral</td>\n",
       "    </tr>\n",
       "    <tr>\n",
       "      <th>21941</th>\n",
       "      <td>131540</td>\n",
       "      <td>2020-12-26</td>\n",
       "      <td>looking forward dosetwo covidvaccine minus two...</td>\n",
       "      <td>positive</td>\n",
       "    </tr>\n",
       "    <tr>\n",
       "      <th>21942</th>\n",
       "      <td>76125</td>\n",
       "      <td>2020-12-26</td>\n",
       "      <td>oxford vaccine approved within days could end ...</td>\n",
       "      <td>neutral</td>\n",
       "    </tr>\n",
       "    <tr>\n",
       "      <th>21943</th>\n",
       "      <td>15663</td>\n",
       "      <td>2020-12-26</td>\n",
       "      <td>murphypix many nursing home residents staffnot...</td>\n",
       "      <td>neutral</td>\n",
       "    </tr>\n",
       "  </tbody>\n",
       "</table>\n",
       "</div>"
      ],
      "text/plain": [
       "       user_name       date  \\\n",
       "21939       8650 2020-12-26   \n",
       "21940      14396 2020-12-26   \n",
       "21941     131540 2020-12-26   \n",
       "21942      76125 2020-12-26   \n",
       "21943      15663 2020-12-26   \n",
       "\n",
       "                                                    text     label  \n",
       "21939  covidvaccine coronavirusstrain oxfordvaccine v...  negative  \n",
       "21940  christmas 2020 conspiracy theorists spent seas...   neutral  \n",
       "21941  looking forward dosetwo covidvaccine minus two...  positive  \n",
       "21942  oxford vaccine approved within days could end ...   neutral  \n",
       "21943  murphypix many nursing home residents staffnot...   neutral  "
      ]
     },
     "execution_count": 82,
     "metadata": {},
     "output_type": "execute_result"
    }
   ],
   "source": [
    "data = filtered_df.join(sentiment_df.label)\n",
    "data.head()"
   ]
  },
  {
   "cell_type": "markdown",
   "id": "3316b63e",
   "metadata": {},
   "source": [
    "# Total Sentiment"
   ]
  },
  {
   "cell_type": "code",
   "execution_count": 83,
   "id": "254d1522",
   "metadata": {},
   "outputs": [
    {
     "data": {
      "text/html": [
       "<div>\n",
       "<style scoped>\n",
       "    .dataframe tbody tr th:only-of-type {\n",
       "        vertical-align: middle;\n",
       "    }\n",
       "\n",
       "    .dataframe tbody tr th {\n",
       "        vertical-align: top;\n",
       "    }\n",
       "\n",
       "    .dataframe thead th {\n",
       "        text-align: right;\n",
       "    }\n",
       "</style>\n",
       "<table border=\"1\" class=\"dataframe\">\n",
       "  <thead>\n",
       "    <tr style=\"text-align: right;\">\n",
       "      <th></th>\n",
       "      <th>index</th>\n",
       "      <th>label</th>\n",
       "    </tr>\n",
       "  </thead>\n",
       "  <tbody>\n",
       "    <tr>\n",
       "      <th>0</th>\n",
       "      <td>positive</td>\n",
       "      <td>157773</td>\n",
       "    </tr>\n",
       "    <tr>\n",
       "      <th>1</th>\n",
       "      <td>neutral</td>\n",
       "      <td>110079</td>\n",
       "    </tr>\n",
       "    <tr>\n",
       "      <th>2</th>\n",
       "      <td>negative</td>\n",
       "      <td>72305</td>\n",
       "    </tr>\n",
       "  </tbody>\n",
       "</table>\n",
       "</div>"
      ],
      "text/plain": [
       "      index   label\n",
       "0  positive  157773\n",
       "1   neutral  110079\n",
       "2  negative   72305"
      ]
     },
     "execution_count": 83,
     "metadata": {},
     "output_type": "execute_result"
    }
   ],
   "source": [
    "counts_df = data.label.value_counts().reset_index()\n",
    "counts_df"
   ]
  },
  {
   "cell_type": "code",
   "execution_count": 84,
   "id": "32a2bc0c",
   "metadata": {},
   "outputs": [
    {
     "data": {
      "text/plain": [
       "<AxesSubplot:xlabel='index', ylabel='label'>"
      ]
     },
     "execution_count": 84,
     "metadata": {},
     "output_type": "execute_result"
    },
    {
     "data": {
      "image/png": "[encoded data removed]",
      "text/plain": [
       "<Figure size 1224x936 with 1 Axes>"
      ]
     },
     "metadata": {},
     "output_type": "display_data"
    }
   ],
   "source": [
    "sns.barplot(data=counts_df, x='index', y='label')"
   ]
  },
  {
   "cell_type": "code",
   "execution_count": 85,
   "id": "0d0c9ca6",
   "metadata": {},
   "outputs": [
    {
     "data": {
      "text/html": [
       "<div>\n",
       "<style scoped>\n",
       "    .dataframe tbody tr th:only-of-type {\n",
       "        vertical-align: middle;\n",
       "    }\n",
       "\n",
       "    .dataframe tbody tr th {\n",
       "        vertical-align: top;\n",
       "    }\n",
       "\n",
       "    .dataframe thead th {\n",
       "        text-align: right;\n",
       "    }\n",
       "</style>\n",
       "<table border=\"1\" class=\"dataframe\">\n",
       "  <thead>\n",
       "    <tr style=\"text-align: right;\">\n",
       "      <th></th>\n",
       "      <th>date</th>\n",
       "      <th>label</th>\n",
       "      <th>counts</th>\n",
       "    </tr>\n",
       "  </thead>\n",
       "  <tbody>\n",
       "    <tr>\n",
       "      <th>0</th>\n",
       "      <td>2020-12-25</td>\n",
       "      <td>negative</td>\n",
       "      <td>62</td>\n",
       "    </tr>\n",
       "    <tr>\n",
       "      <th>1</th>\n",
       "      <td>2020-12-25</td>\n",
       "      <td>neutral</td>\n",
       "      <td>158</td>\n",
       "    </tr>\n",
       "    <tr>\n",
       "      <th>2</th>\n",
       "      <td>2020-12-25</td>\n",
       "      <td>positive</td>\n",
       "      <td>169</td>\n",
       "    </tr>\n",
       "    <tr>\n",
       "      <th>3</th>\n",
       "      <td>2020-12-26</td>\n",
       "      <td>negative</td>\n",
       "      <td>137</td>\n",
       "    </tr>\n",
       "    <tr>\n",
       "      <th>4</th>\n",
       "      <td>2020-12-26</td>\n",
       "      <td>neutral</td>\n",
       "      <td>381</td>\n",
       "    </tr>\n",
       "  </tbody>\n",
       "</table>\n",
       "</div>"
      ],
      "text/plain": [
       "        date     label  counts\n",
       "0 2020-12-25  negative      62\n",
       "1 2020-12-25   neutral     158\n",
       "2 2020-12-25  positive     169\n",
       "3 2020-12-26  negative     137\n",
       "4 2020-12-26   neutral     381"
      ]
     },
     "execution_count": 85,
     "metadata": {},
     "output_type": "execute_result"
    }
   ],
   "source": [
    "data_agg = data[['user_name', 'date', 'label']].groupby(['date', 'label']).count().reset_index()\n",
    "data_agg.columns = ['date', 'label', 'counts']\n",
    "data_agg.head()"
   ]
  },
  {
   "cell_type": "code",
   "execution_count": 86,
   "id": "c0cb0e28",
   "metadata": {
    "scrolled": true
   },
   "outputs": [
    {
     "data": {
      "application/vnd.plotly.v1+json": {
       "config": {
        "plotlyServerURL": "https://plot.ly"
       },
       "data": [
        {
         "hovertemplate": "label=negative<br>date=%{x}<br>counts=%{y}<extra></extra>",
         "legendgroup": "negative",
         "line": {
          "color": "#636efa",
          "dash": "solid"
         },
         "marker": {
          "symbol": "circle"
         },
         "mode": "lines",
         "name": "negative",
         "orientation": "v",
         "showlegend": true,
         "type": "scatter",
         "x": [
          "2020-12-25T00:00:00",
          "2020-12-26T00:00:00",
          "2020-12-27T00:00:00",
          "2020-12-28T00:00:00",
          "2020-12-29T00:00:00",
          "2020-12-30T00:00:00",
          "2020-12-31T00:00:00",
          "2021-01-01T00:00:00",
          "2021-01-08T00:00:00",
          "2021-01-09T00:00:00",
          "2021-01-10T00:00:00",
          "2021-01-11T00:00:00",
          "2021-01-12T00:00:00",
          "2021-01-13T00:00:00",
          "2021-01-14T00:00:00",
          "2021-01-15T00:00:00",
          "2021-01-19T00:00:00",
          "2021-01-20T00:00:00",
          "2021-01-21T00:00:00",
          "2021-01-22T00:00:00",
          "2021-01-23T00:00:00",
          "2021-01-24T00:00:00",
          "2021-01-25T00:00:00",
          "2021-01-26T00:00:00",
          "2021-01-27T00:00:00",
          "2021-01-28T00:00:00",
          "2021-01-29T00:00:00",
          "2021-01-30T00:00:00",
          "2021-01-31T00:00:00",
          "2021-02-01T00:00:00",
          "2021-02-02T00:00:00",
          "2021-02-03T00:00:00",
          "2021-02-04T00:00:00",
          "2021-02-05T00:00:00",
          "2021-02-06T00:00:00",
          "2021-02-07T00:00:00",
          "2021-02-08T00:00:00",
          "2021-02-09T00:00:00",
          "2021-02-10T00:00:00",
          "2021-02-11T00:00:00",
          "2021-02-12T00:00:00",
          "2021-02-13T00:00:00",
          "2021-02-14T00:00:00",
          "2021-02-15T00:00:00",
          "2021-02-16T00:00:00",
          "2021-02-17T00:00:00",
          "2021-02-18T00:00:00",
          "2021-02-19T00:00:00",
          "2021-02-20T00:00:00",
          "2021-02-21T00:00:00",
          "2021-02-22T00:00:00",
          "2021-02-23T00:00:00",
          "2021-02-24T00:00:00",
          "2021-02-25T00:00:00",
          "2021-02-26T00:00:00",
          "2021-02-27T00:00:00",
          "2021-02-28T00:00:00",
          "2021-03-04T00:00:00",
          "2021-03-11T00:00:00",
          "2021-03-12T00:00:00",
          "2021-03-18T00:00:00",
          "2021-03-19T00:00:00",
          "2021-03-20T00:00:00",
          "2021-03-21T00:00:00",
          "2021-03-22T00:00:00",
          "2021-03-23T00:00:00",
          "2021-03-24T00:00:00",
          "2021-03-25T00:00:00",
          "2021-04-07T00:00:00",
          "2021-04-08T00:00:00",
          "2021-04-09T00:00:00",
          "2021-04-10T00:00:00",
          "2021-04-11T00:00:00",
          "2021-04-12T00:00:00",
          "2021-04-20T00:00:00",
          "2021-04-21T00:00:00",
          "2021-04-22T00:00:00",
          "2021-04-23T00:00:00",
          "2021-04-24T00:00:00",
          "2021-04-25T00:00:00",
          "2021-04-26T00:00:00",
          "2021-04-27T00:00:00",
          "2021-05-23T00:00:00",
          "2021-05-24T00:00:00",
          "2021-05-25T00:00:00",
          "2021-05-26T00:00:00",
          "2021-05-27T00:00:00",
          "2021-05-28T00:00:00",
          "2021-05-29T00:00:00",
          "2021-06-15T00:00:00",
          "2021-06-16T00:00:00",
          "2021-06-17T00:00:00",
          "2021-06-18T00:00:00",
          "2021-06-19T00:00:00",
          "2021-06-20T00:00:00",
          "2021-06-21T00:00:00",
          "2021-06-22T00:00:00",
          "2021-06-23T00:00:00",
          "2021-06-30T00:00:00",
          "2021-07-01T00:00:00",
          "2021-07-02T00:00:00",
          "2021-07-03T00:00:00",
          "2021-07-04T00:00:00",
          "2021-07-05T00:00:00",
          "2021-07-08T00:00:00",
          "2021-07-09T00:00:00",
          "2021-07-10T00:00:00",
          "2021-07-11T00:00:00",
          "2021-07-12T00:00:00",
          "2021-07-13T00:00:00",
          "2021-07-14T00:00:00",
          "2021-07-15T00:00:00",
          "2021-07-16T00:00:00",
          "2021-07-17T00:00:00",
          "2021-07-18T00:00:00",
          "2021-07-19T00:00:00",
          "2021-07-20T00:00:00",
          "2021-07-21T00:00:00",
          "2021-07-22T00:00:00",
          "2021-07-23T00:00:00",
          "2021-07-24T00:00:00",
          "2021-07-25T00:00:00",
          "2021-07-26T00:00:00",
          "2021-07-27T00:00:00",
          "2021-07-28T00:00:00",
          "2021-07-29T00:00:00",
          "2021-07-30T00:00:00",
          "2021-08-02T00:00:00",
          "2021-08-03T00:00:00",
          "2021-08-04T00:00:00",
          "2021-08-05T00:00:00",
          "2021-08-06T00:00:00",
          "2021-08-07T00:00:00",
          "2021-08-08T00:00:00",
          "2021-08-09T00:00:00",
          "2021-08-13T00:00:00",
          "2021-08-14T00:00:00",
          "2021-08-15T00:00:00",
          "2021-08-16T00:00:00",
          "2021-08-17T00:00:00",
          "2021-08-18T00:00:00",
          "2021-08-19T00:00:00",
          "2021-08-20T00:00:00",
          "2021-08-21T00:00:00",
          "2021-08-22T00:00:00",
          "2021-08-23T00:00:00",
          "2021-08-24T00:00:00",
          "2021-08-25T00:00:00",
          "2021-08-26T00:00:00",
          "2021-09-07T00:00:00",
          "2021-09-08T00:00:00",
          "2021-10-14T00:00:00",
          "2021-10-15T00:00:00",
          "2021-10-16T00:00:00",
          "2021-10-17T00:00:00",
          "2021-10-18T00:00:00",
          "2021-10-19T00:00:00",
          "2021-10-20T00:00:00",
          "2021-10-21T00:00:00",
          "2021-10-22T00:00:00",
          "2021-10-23T00:00:00",
          "2021-10-24T00:00:00",
          "2021-10-25T00:00:00",
          "2021-10-26T00:00:00",
          "2021-10-27T00:00:00",
          "2021-10-28T00:00:00",
          "2021-10-29T00:00:00",
          "2021-10-30T00:00:00",
          "2021-10-31T00:00:00",
          "2021-11-01T00:00:00",
          "2021-11-02T00:00:00",
          "2021-11-03T00:00:00",
          "2021-11-04T00:00:00",
          "2021-11-05T00:00:00",
          "2021-11-06T00:00:00",
          "2021-11-07T00:00:00",
          "2021-11-08T00:00:00",
          "2021-11-09T00:00:00",
          "2021-11-10T00:00:00",
          "2021-11-11T00:00:00",
          "2021-11-12T00:00:00",
          "2021-11-13T00:00:00",
          "2021-11-14T00:00:00",
          "2021-11-15T00:00:00",
          "2021-11-16T00:00:00",
          "2021-11-17T00:00:00",
          "2021-11-18T00:00:00",
          "2021-11-19T00:00:00",
          "2021-11-20T00:00:00",
          "2021-11-21T00:00:00",
          "2021-11-22T00:00:00",
          "2021-11-23T00:00:00",
          "2021-11-24T00:00:00",
          "2021-11-25T00:00:00",
          "2021-11-26T00:00:00",
          "2021-12-03T00:00:00",
          "2021-12-04T00:00:00",
          "2021-12-05T00:00:00",
          "2021-12-06T00:00:00",
          "2021-12-07T00:00:00",
          "2021-12-08T00:00:00",
          "2021-12-09T00:00:00",
          "2021-12-10T00:00:00",
          "2021-12-11T00:00:00",
          "2021-12-12T00:00:00",
          "2021-12-13T00:00:00",
          "2021-12-14T00:00:00",
          "2021-12-15T00:00:00",
          "2021-12-16T00:00:00",
          "2021-12-17T00:00:00",
          "2021-12-22T00:00:00",
          "2021-12-23T00:00:00",
          "2021-12-24T00:00:00",
          "2021-12-25T00:00:00",
          "2021-12-26T00:00:00",
          "2021-12-27T00:00:00",
          "2021-12-28T00:00:00",
          "2021-12-29T00:00:00",
          "2021-12-30T00:00:00",
          "2022-01-06T00:00:00",
          "2022-01-07T00:00:00",
          "2022-01-08T00:00:00",
          "2022-01-09T00:00:00",
          "2022-01-10T00:00:00",
          "2022-01-11T00:00:00",
          "2022-01-12T00:00:00",
          "2022-01-13T00:00:00",
          "2022-01-14T00:00:00",
          "2022-01-15T00:00:00",
          "2022-01-16T00:00:00",
          "2022-01-17T00:00:00",
          "2022-01-18T00:00:00",
          "2022-01-19T00:00:00",
          "2022-01-20T00:00:00",
          "2022-01-21T00:00:00",
          "2022-01-22T00:00:00",
          "2022-01-29T00:00:00",
          "2022-01-30T00:00:00",
          "2022-01-31T00:00:00"
         ],
         "xaxis": "x",
         "y": [
          62,
          137,
          263,
          261,
          415,
          786,
          483,
          322,
          438,
          388,
          224,
          328,
          519,
          711,
          802,
          526,
          425,
          489,
          539,
          597,
          569,
          439,
          705,
          619,
          667,
          761,
          718,
          525,
          523,
          689,
          443,
          432,
          397,
          389,
          432,
          265,
          337,
          358,
          391,
          473,
          399,
          349,
          294,
          299,
          290,
          316,
          303,
          355,
          272,
          283,
          285,
          313,
          341,
          245,
          271,
          241,
          181,
          318,
          56,
          788,
          478,
          830,
          364,
          237,
          398,
          511,
          539,
          575,
          625,
          626,
          648,
          322,
          180,
          413,
          117,
          564,
          413,
          11,
          1,
          45,
          384,
          485,
          13,
          552,
          591,
          453,
          443,
          388,
          320,
          305,
          313,
          223,
          247,
          173,
          150,
          178,
          279,
          266,
          463,
          337,
          515,
          558,
          578,
          483,
          24,
          267,
          283,
          216,
          293,
          313,
          204,
          258,
          305,
          304,
          409,
          361,
          359,
          308,
          380,
          438,
          271,
          239,
          347,
          440,
          410,
          505,
          513,
          406,
          611,
          636,
          398,
          352,
          370,
          297,
          546,
          165,
          314,
          226,
          340,
          339,
          341,
          380,
          339,
          317,
          237,
          372,
          331,
          317,
          240,
          191,
          190,
          76,
          139,
          125,
          117,
          222,
          230,
          240,
          457,
          208,
          225,
          147,
          164,
          190,
          155,
          159,
          220,
          134,
          93,
          104,
          185,
          249,
          301,
          240,
          215,
          98,
          152,
          217,
          219,
          157,
          160,
          218,
          197,
          221,
          227,
          155,
          115,
          177,
          161,
          110,
          178,
          155,
          203,
          136,
          139,
          58,
          451,
          304,
          157,
          254,
          227,
          111,
          100,
          133,
          125,
          141,
          172,
          207,
          196,
          178,
          227,
          151,
          103,
          97,
          125,
          128,
          130,
          132,
          154,
          28,
          142,
          79,
          71,
          261,
          567,
          439,
          189,
          44,
          75,
          132,
          121,
          139,
          111,
          120,
          92,
          99,
          21,
          89,
          93
         ],
         "yaxis": "y"
        },
        {
         "hovertemplate": "label=neutral<br>date=%{x}<br>counts=%{y}<extra></extra>",
         "legendgroup": "neutral",
         "line": {
          "color": "#EF553B",
          "dash": "solid"
         },
         "marker": {
          "symbol": "circle"
         },
         "mode": "lines",
         "name": "neutral",
         "orientation": "v",
         "showlegend": true,
         "type": "scatter",
         "x": [
          "2020-12-25T00:00:00",
          "2020-12-26T00:00:00",
          "2020-12-27T00:00:00",
          "2020-12-28T00:00:00",
          "2020-12-29T00:00:00",
          "2020-12-30T00:00:00",
          "2020-12-31T00:00:00",
          "2021-01-01T00:00:00",
          "2021-01-08T00:00:00",
          "2021-01-09T00:00:00",
          "2021-01-10T00:00:00",
          "2021-01-11T00:00:00",
          "2021-01-12T00:00:00",
          "2021-01-13T00:00:00",
          "2021-01-14T00:00:00",
          "2021-01-15T00:00:00",
          "2021-01-19T00:00:00",
          "2021-01-20T00:00:00",
          "2021-01-21T00:00:00",
          "2021-01-22T00:00:00",
          "2021-01-23T00:00:00",
          "2021-01-24T00:00:00",
          "2021-01-25T00:00:00",
          "2021-01-26T00:00:00",
          "2021-01-27T00:00:00",
          "2021-01-28T00:00:00",
          "2021-01-29T00:00:00",
          "2021-01-30T00:00:00",
          "2021-01-31T00:00:00",
          "2021-02-01T00:00:00",
          "2021-02-02T00:00:00",
          "2021-02-03T00:00:00",
          "2021-02-04T00:00:00",
          "2021-02-05T00:00:00",
          "2021-02-06T00:00:00",
          "2021-02-07T00:00:00",
          "2021-02-08T00:00:00",
          "2021-02-09T00:00:00",
          "2021-02-10T00:00:00",
          "2021-02-11T00:00:00",
          "2021-02-12T00:00:00",
          "2021-02-13T00:00:00",
          "2021-02-14T00:00:00",
          "2021-02-15T00:00:00",
          "2021-02-16T00:00:00",
          "2021-02-17T00:00:00",
          "2021-02-18T00:00:00",
          "2021-02-19T00:00:00",
          "2021-02-20T00:00:00",
          "2021-02-21T00:00:00",
          "2021-02-22T00:00:00",
          "2021-02-23T00:00:00",
          "2021-02-24T00:00:00",
          "2021-02-25T00:00:00",
          "2021-02-26T00:00:00",
          "2021-02-27T00:00:00",
          "2021-02-28T00:00:00",
          "2021-03-04T00:00:00",
          "2021-03-11T00:00:00",
          "2021-03-12T00:00:00",
          "2021-03-18T00:00:00",
          "2021-03-19T00:00:00",
          "2021-03-20T00:00:00",
          "2021-03-21T00:00:00",
          "2021-03-22T00:00:00",
          "2021-03-23T00:00:00",
          "2021-03-24T00:00:00",
          "2021-03-25T00:00:00",
          "2021-04-07T00:00:00",
          "2021-04-08T00:00:00",
          "2021-04-09T00:00:00",
          "2021-04-10T00:00:00",
          "2021-04-11T00:00:00",
          "2021-04-12T00:00:00",
          "2021-04-20T00:00:00",
          "2021-04-21T00:00:00",
          "2021-04-22T00:00:00",
          "2021-04-23T00:00:00",
          "2021-04-25T00:00:00",
          "2021-04-26T00:00:00",
          "2021-04-27T00:00:00",
          "2021-05-23T00:00:00",
          "2021-05-24T00:00:00",
          "2021-05-25T00:00:00",
          "2021-05-26T00:00:00",
          "2021-05-27T00:00:00",
          "2021-05-28T00:00:00",
          "2021-05-29T00:00:00",
          "2021-06-15T00:00:00",
          "2021-06-16T00:00:00",
          "2021-06-17T00:00:00",
          "2021-06-18T00:00:00",
          "2021-06-19T00:00:00",
          "2021-06-20T00:00:00",
          "2021-06-21T00:00:00",
          "2021-06-22T00:00:00",
          "2021-06-23T00:00:00",
          "2021-06-30T00:00:00",
          "2021-07-01T00:00:00",
          "2021-07-02T00:00:00",
          "2021-07-03T00:00:00",
          "2021-07-04T00:00:00",
          "2021-07-05T00:00:00",
          "2021-07-08T00:00:00",
          "2021-07-09T00:00:00",
          "2021-07-10T00:00:00",
          "2021-07-11T00:00:00",
          "2021-07-12T00:00:00",
          "2021-07-13T00:00:00",
          "2021-07-14T00:00:00",
          "2021-07-15T00:00:00",
          "2021-07-16T00:00:00",
          "2021-07-17T00:00:00",
          "2021-07-18T00:00:00",
          "2021-07-19T00:00:00",
          "2021-07-20T00:00:00",
          "2021-07-21T00:00:00",
          "2021-07-22T00:00:00",
          "2021-07-23T00:00:00",
          "2021-07-24T00:00:00",
          "2021-07-25T00:00:00",
          "2021-07-26T00:00:00",
          "2021-07-27T00:00:00",
          "2021-07-28T00:00:00",
          "2021-07-29T00:00:00",
          "2021-07-30T00:00:00",
          "2021-08-02T00:00:00",
          "2021-08-03T00:00:00",
          "2021-08-04T00:00:00",
          "2021-08-05T00:00:00",
          "2021-08-06T00:00:00",
          "2021-08-07T00:00:00",
          "2021-08-08T00:00:00",
          "2021-08-09T00:00:00",
          "2021-08-13T00:00:00",
          "2021-08-14T00:00:00",
          "2021-08-15T00:00:00",
          "2021-08-16T00:00:00",
          "2021-08-17T00:00:00",
          "2021-08-18T00:00:00",
          "2021-08-19T00:00:00",
          "2021-08-20T00:00:00",
          "2021-08-21T00:00:00",
          "2021-08-22T00:00:00",
          "2021-08-23T00:00:00",
          "2021-08-24T00:00:00",
          "2021-08-25T00:00:00",
          "2021-08-26T00:00:00",
          "2021-09-07T00:00:00",
          "2021-09-08T00:00:00",
          "2021-10-14T00:00:00",
          "2021-10-15T00:00:00",
          "2021-10-16T00:00:00",
          "2021-10-17T00:00:00",
          "2021-10-18T00:00:00",
          "2021-10-19T00:00:00",
          "2021-10-20T00:00:00",
          "2021-10-21T00:00:00",
          "2021-10-22T00:00:00",
          "2021-10-23T00:00:00",
          "2021-10-24T00:00:00",
          "2021-10-25T00:00:00",
          "2021-10-26T00:00:00",
          "2021-10-27T00:00:00",
          "2021-10-28T00:00:00",
          "2021-10-29T00:00:00",
          "2021-10-30T00:00:00",
          "2021-10-31T00:00:00",
          "2021-11-01T00:00:00",
          "2021-11-02T00:00:00",
          "2021-11-03T00:00:00",
          "2021-11-04T00:00:00",
          "2021-11-05T00:00:00",
          "2021-11-06T00:00:00",
          "2021-11-07T00:00:00",
          "2021-11-08T00:00:00",
          "2021-11-09T00:00:00",
          "2021-11-10T00:00:00",
          "2021-11-11T00:00:00",
          "2021-11-12T00:00:00",
          "2021-11-13T00:00:00",
          "2021-11-14T00:00:00",
          "2021-11-15T00:00:00",
          "2021-11-16T00:00:00",
          "2021-11-17T00:00:00",
          "2021-11-18T00:00:00",
          "2021-11-19T00:00:00",
          "2021-11-20T00:00:00",
          "2021-11-21T00:00:00",
          "2021-11-22T00:00:00",
          "2021-11-23T00:00:00",
          "2021-11-24T00:00:00",
          "2021-11-25T00:00:00",
          "2021-11-26T00:00:00",
          "2021-12-03T00:00:00",
          "2021-12-04T00:00:00",
          "2021-12-05T00:00:00",
          "2021-12-06T00:00:00",
          "2021-12-07T00:00:00",
          "2021-12-08T00:00:00",
          "2021-12-09T00:00:00",
          "2021-12-10T00:00:00",
          "2021-12-11T00:00:00",
          "2021-12-12T00:00:00",
          "2021-12-13T00:00:00",
          "2021-12-14T00:00:00",
          "2021-12-15T00:00:00",
          "2021-12-16T00:00:00",
          "2021-12-17T00:00:00",
          "2021-12-22T00:00:00",
          "2021-12-23T00:00:00",
          "2021-12-24T00:00:00",
          "2021-12-25T00:00:00",
          "2021-12-26T00:00:00",
          "2021-12-27T00:00:00",
          "2021-12-28T00:00:00",
          "2021-12-29T00:00:00",
          "2021-12-30T00:00:00",
          "2022-01-06T00:00:00",
          "2022-01-07T00:00:00",
          "2022-01-08T00:00:00",
          "2022-01-09T00:00:00",
          "2022-01-10T00:00:00",
          "2022-01-11T00:00:00",
          "2022-01-12T00:00:00",
          "2022-01-13T00:00:00",
          "2022-01-14T00:00:00",
          "2022-01-15T00:00:00",
          "2022-01-16T00:00:00",
          "2022-01-17T00:00:00",
          "2022-01-18T00:00:00",
          "2022-01-19T00:00:00",
          "2022-01-20T00:00:00",
          "2022-01-21T00:00:00",
          "2022-01-22T00:00:00",
          "2022-01-29T00:00:00",
          "2022-01-30T00:00:00",
          "2022-01-31T00:00:00"
         ],
         "xaxis": "x",
         "y": [
          158,
          381,
          700,
          597,
          847,
          2133,
          996,
          691,
          926,
          710,
          504,
          633,
          978,
          1247,
          1467,
          1014,
          742,
          902,
          878,
          1117,
          904,
          714,
          1137,
          1307,
          1183,
          1532,
          1694,
          1199,
          1098,
          1398,
          887,
          949,
          835,
          840,
          791,
          585,
          763,
          835,
          905,
          1006,
          748,
          690,
          546,
          676,
          734,
          706,
          743,
          1058,
          781,
          715,
          835,
          774,
          953,
          537,
          576,
          582,
          594,
          762,
          155,
          1714,
          961,
          1495,
          742,
          588,
          974,
          1507,
          1454,
          1674,
          910,
          992,
          1017,
          514,
          299,
          978,
          166,
          650,
          720,
          27,
          81,
          632,
          706,
          17,
          510,
          610,
          639,
          533,
          612,
          400,
          323,
          336,
          228,
          187,
          139,
          134,
          261,
          281,
          276,
          519,
          244,
          449,
          241,
          152,
          342,
          35,
          331,
          262,
          167,
          277,
          340,
          313,
          252,
          297,
          280,
          399,
          389,
          374,
          343,
          330,
          323,
          319,
          319,
          355,
          467,
          480,
          500,
          601,
          549,
          736,
          832,
          508,
          412,
          351,
          298,
          488,
          220,
          409,
          306,
          346,
          383,
          377,
          374,
          421,
          313,
          251,
          418,
          396,
          306,
          303,
          238,
          226,
          81,
          148,
          147,
          122,
          159,
          217,
          223,
          444,
          243,
          162,
          143,
          182,
          224,
          206,
          139,
          222,
          134,
          98,
          139,
          137,
          252,
          212,
          210,
          180,
          118,
          159,
          196,
          277,
          190,
          192,
          205,
          197,
          199,
          243,
          179,
          219,
          242,
          127,
          124,
          173,
          144,
          122,
          105,
          133,
          39,
          521,
          365,
          199,
          171,
          201,
          140,
          206,
          140,
          112,
          148,
          169,
          154,
          144,
          158,
          256,
          174,
          80,
          116,
          85,
          101,
          141,
          146,
          144,
          54,
          145,
          167,
          156,
          242,
          448,
          429,
          223,
          32,
          121,
          160,
          156,
          206,
          141,
          116,
          99,
          100,
          30,
          81,
          99
         ],
         "yaxis": "y"
        },
        {
         "hovertemplate": "label=positive<br>date=%{x}<br>counts=%{y}<extra></extra>",
         "legendgroup": "positive",
         "line": {
          "color": "#00cc96",
          "dash": "solid"
         },
         "marker": {
          "symbol": "circle"
         },
         "mode": "lines",
         "name": "positive",
         "orientation": "v",
         "showlegend": true,
         "type": "scatter",
         "x": [
          "2020-12-25T00:00:00",
          "2020-12-26T00:00:00",
          "2020-12-27T00:00:00",
          "2020-12-28T00:00:00",
          "2020-12-29T00:00:00",
          "2020-12-30T00:00:00",
          "2020-12-31T00:00:00",
          "2021-01-01T00:00:00",
          "2021-01-08T00:00:00",
          "2021-01-09T00:00:00",
          "2021-01-10T00:00:00",
          "2021-01-11T00:00:00",
          "2021-01-12T00:00:00",
          "2021-01-13T00:00:00",
          "2021-01-14T00:00:00",
          "2021-01-15T00:00:00",
          "2021-01-19T00:00:00",
          "2021-01-20T00:00:00",
          "2021-01-21T00:00:00",
          "2021-01-22T00:00:00",
          "2021-01-23T00:00:00",
          "2021-01-24T00:00:00",
          "2021-01-25T00:00:00",
          "2021-01-26T00:00:00",
          "2021-01-27T00:00:00",
          "2021-01-28T00:00:00",
          "2021-01-29T00:00:00",
          "2021-01-30T00:00:00",
          "2021-01-31T00:00:00",
          "2021-02-01T00:00:00",
          "2021-02-02T00:00:00",
          "2021-02-03T00:00:00",
          "2021-02-04T00:00:00",
          "2021-02-05T00:00:00",
          "2021-02-06T00:00:00",
          "2021-02-07T00:00:00",
          "2021-02-08T00:00:00",
          "2021-02-09T00:00:00",
          "2021-02-10T00:00:00",
          "2021-02-11T00:00:00",
          "2021-02-12T00:00:00",
          "2021-02-13T00:00:00",
          "2021-02-14T00:00:00",
          "2021-02-15T00:00:00",
          "2021-02-16T00:00:00",
          "2021-02-17T00:00:00",
          "2021-02-18T00:00:00",
          "2021-02-19T00:00:00",
          "2021-02-20T00:00:00",
          "2021-02-21T00:00:00",
          "2021-02-22T00:00:00",
          "2021-02-23T00:00:00",
          "2021-02-24T00:00:00",
          "2021-02-25T00:00:00",
          "2021-02-26T00:00:00",
          "2021-02-27T00:00:00",
          "2021-02-28T00:00:00",
          "2021-03-04T00:00:00",
          "2021-03-11T00:00:00",
          "2021-03-12T00:00:00",
          "2021-03-18T00:00:00",
          "2021-03-19T00:00:00",
          "2021-03-20T00:00:00",
          "2021-03-21T00:00:00",
          "2021-03-22T00:00:00",
          "2021-03-23T00:00:00",
          "2021-03-24T00:00:00",
          "2021-03-25T00:00:00",
          "2021-04-07T00:00:00",
          "2021-04-08T00:00:00",
          "2021-04-09T00:00:00",
          "2021-04-10T00:00:00",
          "2021-04-11T00:00:00",
          "2021-04-12T00:00:00",
          "2021-04-20T00:00:00",
          "2021-04-21T00:00:00",
          "2021-04-22T00:00:00",
          "2021-04-23T00:00:00",
          "2021-04-24T00:00:00",
          "2021-04-25T00:00:00",
          "2021-04-26T00:00:00",
          "2021-04-27T00:00:00",
          "2021-05-23T00:00:00",
          "2021-05-24T00:00:00",
          "2021-05-25T00:00:00",
          "2021-05-26T00:00:00",
          "2021-05-27T00:00:00",
          "2021-05-28T00:00:00",
          "2021-05-29T00:00:00",
          "2021-06-15T00:00:00",
          "2021-06-16T00:00:00",
          "2021-06-17T00:00:00",
          "2021-06-18T00:00:00",
          "2021-06-19T00:00:00",
          "2021-06-20T00:00:00",
          "2021-06-21T00:00:00",
          "2021-06-22T00:00:00",
          "2021-06-23T00:00:00",
          "2021-06-30T00:00:00",
          "2021-07-01T00:00:00",
          "2021-07-02T00:00:00",
          "2021-07-03T00:00:00",
          "2021-07-04T00:00:00",
          "2021-07-05T00:00:00",
          "2021-07-08T00:00:00",
          "2021-07-09T00:00:00",
          "2021-07-10T00:00:00",
          "2021-07-11T00:00:00",
          "2021-07-12T00:00:00",
          "2021-07-13T00:00:00",
          "2021-07-14T00:00:00",
          "2021-07-15T00:00:00",
          "2021-07-16T00:00:00",
          "2021-07-17T00:00:00",
          "2021-07-18T00:00:00",
          "2021-07-19T00:00:00",
          "2021-07-20T00:00:00",
          "2021-07-21T00:00:00",
          "2021-07-22T00:00:00",
          "2021-07-23T00:00:00",
          "2021-07-24T00:00:00",
          "2021-07-25T00:00:00",
          "2021-07-26T00:00:00",
          "2021-07-27T00:00:00",
          "2021-07-28T00:00:00",
          "2021-07-29T00:00:00",
          "2021-07-30T00:00:00",
          "2021-08-02T00:00:00",
          "2021-08-03T00:00:00",
          "2021-08-04T00:00:00",
          "2021-08-05T00:00:00",
          "2021-08-06T00:00:00",
          "2021-08-07T00:00:00",
          "2021-08-08T00:00:00",
          "2021-08-09T00:00:00",
          "2021-08-13T00:00:00",
          "2021-08-14T00:00:00",
          "2021-08-15T00:00:00",
          "2021-08-16T00:00:00",
          "2021-08-17T00:00:00",
          "2021-08-18T00:00:00",
          "2021-08-19T00:00:00",
          "2021-08-20T00:00:00",
          "2021-08-21T00:00:00",
          "2021-08-22T00:00:00",
          "2021-08-23T00:00:00",
          "2021-08-24T00:00:00",
          "2021-08-25T00:00:00",
          "2021-08-26T00:00:00",
          "2021-09-07T00:00:00",
          "2021-09-08T00:00:00",
          "2021-10-14T00:00:00",
          "2021-10-15T00:00:00",
          "2021-10-16T00:00:00",
          "2021-10-17T00:00:00",
          "2021-10-18T00:00:00",
          "2021-10-19T00:00:00",
          "2021-10-20T00:00:00",
          "2021-10-21T00:00:00",
          "2021-10-22T00:00:00",
          "2021-10-23T00:00:00",
          "2021-10-24T00:00:00",
          "2021-10-25T00:00:00",
          "2021-10-26T00:00:00",
          "2021-10-27T00:00:00",
          "2021-10-28T00:00:00",
          "2021-10-29T00:00:00",
          "2021-10-30T00:00:00",
          "2021-10-31T00:00:00",
          "2021-11-01T00:00:00",
          "2021-11-02T00:00:00",
          "2021-11-03T00:00:00",
          "2021-11-04T00:00:00",
          "2021-11-05T00:00:00",
          "2021-11-06T00:00:00",
          "2021-11-07T00:00:00",
          "2021-11-08T00:00:00",
          "2021-11-09T00:00:00",
          "2021-11-10T00:00:00",
          "2021-11-11T00:00:00",
          "2021-11-12T00:00:00",
          "2021-11-13T00:00:00",
          "2021-11-14T00:00:00",
          "2021-11-15T00:00:00",
          "2021-11-16T00:00:00",
          "2021-11-17T00:00:00",
          "2021-11-18T00:00:00",
          "2021-11-19T00:00:00",
          "2021-11-20T00:00:00",
          "2021-11-21T00:00:00",
          "2021-11-22T00:00:00",
          "2021-11-23T00:00:00",
          "2021-11-24T00:00:00",
          "2021-11-25T00:00:00",
          "2021-11-26T00:00:00",
          "2021-12-03T00:00:00",
          "2021-12-04T00:00:00",
          "2021-12-05T00:00:00",
          "2021-12-06T00:00:00",
          "2021-12-07T00:00:00",
          "2021-12-08T00:00:00",
          "2021-12-09T00:00:00",
          "2021-12-10T00:00:00",
          "2021-12-11T00:00:00",
          "2021-12-12T00:00:00",
          "2021-12-13T00:00:00",
          "2021-12-14T00:00:00",
          "2021-12-15T00:00:00",
          "2021-12-16T00:00:00",
          "2021-12-17T00:00:00",
          "2021-12-22T00:00:00",
          "2021-12-23T00:00:00",
          "2021-12-24T00:00:00",
          "2021-12-25T00:00:00",
          "2021-12-26T00:00:00",
          "2021-12-27T00:00:00",
          "2021-12-28T00:00:00",
          "2021-12-29T00:00:00",
          "2021-12-30T00:00:00",
          "2022-01-06T00:00:00",
          "2022-01-07T00:00:00",
          "2022-01-08T00:00:00",
          "2022-01-09T00:00:00",
          "2022-01-10T00:00:00",
          "2022-01-11T00:00:00",
          "2022-01-12T00:00:00",
          "2022-01-13T00:00:00",
          "2022-01-14T00:00:00",
          "2022-01-15T00:00:00",
          "2022-01-16T00:00:00",
          "2022-01-17T00:00:00",
          "2022-01-18T00:00:00",
          "2022-01-19T00:00:00",
          "2022-01-20T00:00:00",
          "2022-01-21T00:00:00",
          "2022-01-22T00:00:00",
          "2022-01-29T00:00:00",
          "2022-01-30T00:00:00",
          "2022-01-31T00:00:00"
         ],
         "xaxis": "x",
         "y": [
          169,
          366,
          934,
          725,
          1019,
          2208,
          1158,
          708,
          1103,
          919,
          674,
          852,
          1331,
          1684,
          1737,
          1220,
          867,
          1098,
          1078,
          1410,
          1134,
          799,
          1290,
          1389,
          1564,
          1700,
          1886,
          1373,
          1239,
          1645,
          1079,
          1095,
          1060,
          1150,
          928,
          855,
          907,
          993,
          1073,
          1256,
          1088,
          803,
          582,
          741,
          786,
          762,
          978,
          965,
          654,
          594,
          866,
          764,
          899,
          555,
          595,
          474,
          503,
          869,
          205,
          1837,
          1191,
          1882,
          882,
          583,
          742,
          1145,
          1205,
          1285,
          1282,
          1346,
          1398,
          712,
          388,
          1056,
          249,
          1057,
          1092,
          32,
          1,
          124,
          981,
          1265,
          53,
          821,
          1219,
          1002,
          969,
          959,
          783,
          684,
          557,
          378,
          442,
          235,
          265,
          511,
          475,
          568,
          743,
          522,
          853,
          521,
          325,
          630,
          66,
          553,
          478,
          349,
          556,
          624,
          462,
          402,
          539,
          598,
          764,
          641,
          568,
          598,
          671,
          712,
          549,
          442,
          727,
          706,
          796,
          797,
          918,
          1002,
          1271,
          1430,
          1057,
          735,
          662,
          540,
          963,
          333,
          635,
          490,
          635,
          714,
          627,
          653,
          776,
          649,
          459,
          898,
          740,
          593,
          599,
          412,
          458,
          185,
          327,
          313,
          274,
          329,
          422,
          433,
          929,
          510,
          296,
          280,
          330,
          535,
          374,
          330,
          422,
          309,
          232,
          299,
          231,
          425,
          416,
          417,
          349,
          244,
          345,
          421,
          490,
          430,
          434,
          253,
          351,
          331,
          452,
          444,
          400,
          338,
          230,
          206,
          285,
          242,
          251,
          218,
          233,
          119,
          988,
          686,
          486,
          304,
          415,
          249,
          267,
          231,
          208,
          354,
          329,
          313,
          317,
          383,
          627,
          331,
          205,
          220,
          222,
          226,
          271,
          268,
          317,
          136,
          416,
          241,
          315,
          753,
          1147,
          1067,
          481,
          81,
          249,
          486,
          443,
          456,
          321,
          418,
          309,
          289,
          98,
          337,
          374
         ],
         "yaxis": "y"
        }
       ],
       "layout": {
        "legend": {
         "title": {
          "text": "label"
         },
         "tracegroupgap": 0
        },
        "template": {
         "data": {
          "bar": [
           {
            "error_x": {
             "color": "#2a3f5f"
            },
            "error_y": {
             "color": "#2a3f5f"
            },
            "marker": {
             "line": {
              "color": "#E5ECF6",
              "width": 0.5
             },
             "pattern": {
              "fillmode": "overlay",
              "size": 10,
              "solidity": 0.2
             }
            },
            "type": "bar"
           }
          ],
          "barpolar": [
           {
            "marker": {
             "line": {
              "color": "#E5ECF6",
              "width": 0.5
             },
             "pattern": {
              "fillmode": "overlay",
              "size": 10,
              "solidity": 0.2
             }
            },
            "type": "barpolar"
           }
          ],
          "carpet": [
           {
            "aaxis": {
             "endlinecolor": "#2a3f5f",
             "gridcolor": "white",
             "linecolor": "white",
             "minorgridcolor": "white",
             "startlinecolor": "#2a3f5f"
            },
            "baxis": {
             "endlinecolor": "#2a3f5f",
             "gridcolor": "white",
             "linecolor": "white",
             "minorgridcolor": "white",
             "startlinecolor": "#2a3f5f"
            },
            "type": "carpet"
           }
          ],
          "choropleth": [
           {
            "colorbar": {
             "outlinewidth": 0,
             "ticks": ""
            },
            "type": "choropleth"
           }
          ],
          "contour": [
           {
            "colorbar": {
             "outlinewidth": 0,
             "ticks": ""
            },
            "colorscale": [
             [
              0,
              "#0d0887"
             ],
             [
              0.1111111111111111,
              "#46039f"
             ],
             [
              0.2222222222222222,
              "#7201a8"
             ],
             [
              0.3333333333333333,
              "#9c179e"
             ],
             [
              0.4444444444444444,
              "#bd3786"
             ],
             [
              0.5555555555555556,
              "#d8576b"
             ],
             [
              0.6666666666666666,
              "#ed7953"
             ],
             [
              0.7777777777777778,
              "#fb9f3a"
             ],
             [
              0.8888888888888888,
              "#fdca26"
             ],
             [
              1,
              "#f0f921"
             ]
            ],
            "type": "contour"
           }
          ],
          "contourcarpet": [
           {
            "colorbar": {
             "outlinewidth": 0,
             "ticks": ""
            },
            "type": "contourcarpet"
           }
          ],
          "heatmap": [
           {
            "colorbar": {
             "outlinewidth": 0,
             "ticks": ""
            },
            "colorscale": [
             [
              0,
              "#0d0887"
             ],
             [
              0.1111111111111111,
              "#46039f"
             ],
             [
              0.2222222222222222,
              "#7201a8"
             ],
             [
              0.3333333333333333,
              "#9c179e"
             ],
             [
              0.4444444444444444,
              "#bd3786"
             ],
             [
              0.5555555555555556,
              "#d8576b"
             ],
             [
              0.6666666666666666,
              "#ed7953"
             ],
             [
              0.7777777777777778,
              "#fb9f3a"
             ],
             [
              0.8888888888888888,
              "#fdca26"
             ],
             [
              1,
              "#f0f921"
             ]
            ],
            "type": "heatmap"
           }
          ],
          "heatmapgl": [
           {
            "colorbar": {
             "outlinewidth": 0,
             "ticks": ""
            },
            "colorscale": [
             [
              0,
              "#0d0887"
             ],
             [
              0.1111111111111111,
              "#46039f"
             ],
             [
              0.2222222222222222,
              "#7201a8"
             ],
             [
              0.3333333333333333,
              "#9c179e"
             ],
             [
              0.4444444444444444,
              "#bd3786"
             ],
             [
              0.5555555555555556,
              "#d8576b"
             ],
             [
              0.6666666666666666,
              "#ed7953"
             ],
             [
              0.7777777777777778,
              "#fb9f3a"
             ],
             [
              0.8888888888888888,
              "#fdca26"
             ],
             [
              1,
              "#f0f921"
             ]
            ],
            "type": "heatmapgl"
           }
          ],
          "histogram": [
           {
            "marker": {
             "pattern": {
              "fillmode": "overlay",
              "size": 10,
              "solidity": 0.2
             }
            },
            "type": "histogram"
           }
          ],
          "histogram2d": [
           {
            "colorbar": {
             "outlinewidth": 0,
             "ticks": ""
            },
            "colorscale": [
             [
              0,
              "#0d0887"
             ],
             [
              0.1111111111111111,
              "#46039f"
             ],
             [
              0.2222222222222222,
              "#7201a8"
             ],
             [
              0.3333333333333333,
              "#9c179e"
             ],
             [
              0.4444444444444444,
              "#bd3786"
             ],
             [
              0.5555555555555556,
              "#d8576b"
             ],
             [
              0.6666666666666666,
              "#ed7953"
             ],
             [
              0.7777777777777778,
              "#fb9f3a"
             ],
             [
              0.8888888888888888,
              "#fdca26"
             ],
             [
              1,
              "#f0f921"
             ]
            ],
            "type": "histogram2d"
           }
          ],
          "histogram2dcontour": [
           {
            "colorbar": {
             "outlinewidth": 0,
             "ticks": ""
            },
            "colorscale": [
             [
              0,
              "#0d0887"
             ],
             [
              0.1111111111111111,
              "#46039f"
             ],
             [
              0.2222222222222222,
              "#7201a8"
             ],
             [
              0.3333333333333333,
              "#9c179e"
             ],
             [
              0.4444444444444444,
              "#bd3786"
             ],
             [
              0.5555555555555556,
              "#d8576b"
             ],
             [
              0.6666666666666666,
              "#ed7953"
             ],
             [
              0.7777777777777778,
              "#fb9f3a"
             ],
             [
              0.8888888888888888,
              "#fdca26"
             ],
             [
              1,
              "#f0f921"
             ]
            ],
            "type": "histogram2dcontour"
           }
          ],
          "mesh3d": [
           {
            "colorbar": {
             "outlinewidth": 0,
             "ticks": ""
            },
            "type": "mesh3d"
           }
          ],
          "parcoords": [
           {
            "line": {
             "colorbar": {
              "outlinewidth": 0,
              "ticks": ""
             }
            },
            "type": "parcoords"
           }
          ],
          "pie": [
           {
            "automargin": true,
            "type": "pie"
           }
          ],
          "scatter": [
           {
            "marker": {
             "colorbar": {
              "outlinewidth": 0,
              "ticks": ""
             }
            },
            "type": "scatter"
           }
          ],
          "scatter3d": [
           {
            "line": {
             "colorbar": {
              "outlinewidth": 0,
              "ticks": ""
             }
            },
            "marker": {
             "colorbar": {
              "outlinewidth": 0,
              "ticks": ""
             }
            },
            "type": "scatter3d"
           }
          ],
          "scattercarpet": [
           {
            "marker": {
             "colorbar": {
              "outlinewidth": 0,
              "ticks": ""
             }
            },
            "type": "scattercarpet"
           }
          ],
          "scattergeo": [
           {
            "marker": {
             "colorbar": {
              "outlinewidth": 0,
              "ticks": ""
             }
            },
            "type": "scattergeo"
           }
          ],
          "scattergl": [
           {
            "marker": {
             "colorbar": {
              "outlinewidth": 0,
              "ticks": ""
             }
            },
            "type": "scattergl"
           }
          ],
          "scattermapbox": [
           {
            "marker": {
             "colorbar": {
              "outlinewidth": 0,
              "ticks": ""
             }
            },
            "type": "scattermapbox"
           }
          ],
          "scatterpolar": [
           {
            "marker": {
             "colorbar": {
              "outlinewidth": 0,
              "ticks": ""
             }
            },
            "type": "scatterpolar"
           }
          ],
          "scatterpolargl": [
           {
            "marker": {
             "colorbar": {
              "outlinewidth": 0,
              "ticks": ""
             }
            },
            "type": "scatterpolargl"
           }
          ],
          "scatterternary": [
           {
            "marker": {
             "colorbar": {
              "outlinewidth": 0,
              "ticks": ""
             }
            },
            "type": "scatterternary"
           }
          ],
          "surface": [
           {
            "colorbar": {
             "outlinewidth": 0,
             "ticks": ""
            },
            "colorscale": [
             [
              0,
              "#0d0887"
             ],
             [
              0.1111111111111111,
              "#46039f"
             ],
             [
              0.2222222222222222,
              "#7201a8"
             ],
             [
              0.3333333333333333,
              "#9c179e"
             ],
             [
              0.4444444444444444,
              "#bd3786"
             ],
             [
              0.5555555555555556,
              "#d8576b"
             ],
             [
              0.6666666666666666,
              "#ed7953"
             ],
             [
              0.7777777777777778,
              "#fb9f3a"
             ],
             [
              0.8888888888888888,
              "#fdca26"
             ],
             [
              1,
              "#f0f921"
             ]
            ],
            "type": "surface"
           }
          ],
          "table": [
           {
            "cells": {
             "fill": {
              "color": "#EBF0F8"
             },
             "line": {
              "color": "white"
             }
            },
            "header": {
             "fill": {
              "color": "#C8D4E3"
             },
             "line": {
              "color": "white"
             }
            },
            "type": "table"
           }
          ]
         },
         "layout": {
          "annotationdefaults": {
           "arrowcolor": "#2a3f5f",
           "arrowhead": 0,
           "arrowwidth": 1
          },
          "autotypenumbers": "strict",
          "coloraxis": {
           "colorbar": {
            "outlinewidth": 0,
            "ticks": ""
           }
          },
          "colorscale": {
           "diverging": [
            [
             0,
             "#8e0152"
            ],
            [
             0.1,
             "#c51b7d"
            ],
            [
             0.2,
             "#de77ae"
            ],
            [
             0.3,
             "#f1b6da"
            ],
            [
             0.4,
             "#fde0ef"
            ],
            [
             0.5,
             "#f7f7f7"
            ],
            [
             0.6,
             "#e6f5d0"
            ],
            [
             0.7,
             "#b8e186"
            ],
            [
             0.8,
             "#7fbc41"
            ],
            [
             0.9,
             "#4d9221"
            ],
            [
             1,
             "#276419"
            ]
           ],
           "sequential": [
            [
             0,
             "#0d0887"
            ],
            [
             0.1111111111111111,
             "#46039f"
            ],
            [
             0.2222222222222222,
             "#7201a8"
            ],
            [
             0.3333333333333333,
             "#9c179e"
            ],
            [
             0.4444444444444444,
             "#bd3786"
            ],
            [
             0.5555555555555556,
             "#d8576b"
            ],
            [
             0.6666666666666666,
             "#ed7953"
            ],
            [
             0.7777777777777778,
             "#fb9f3a"
            ],
            [
             0.8888888888888888,
             "#fdca26"
            ],
            [
             1,
             "#f0f921"
            ]
           ],
           "sequentialminus": [
            [
             0,
             "#0d0887"
            ],
            [
             0.1111111111111111,
             "#46039f"
            ],
            [
             0.2222222222222222,
             "#7201a8"
            ],
            [
             0.3333333333333333,
             "#9c179e"
            ],
            [
             0.4444444444444444,
             "#bd3786"
            ],
            [
             0.5555555555555556,
             "#d8576b"
            ],
            [
             0.6666666666666666,
             "#ed7953"
            ],
            [
             0.7777777777777778,
             "#fb9f3a"
            ],
            [
             0.8888888888888888,
             "#fdca26"
            ],
            [
             1,
             "#f0f921"
            ]
           ]
          },
          "colorway": [
           "#636efa",
           "#EF553B",
           "#00cc96",
           "#ab63fa",
           "#FFA15A",
           "#19d3f3",
           "#FF6692",
           "#B6E880",
           "#FF97FF",
           "#FECB52"
          ],
          "font": {
           "color": "#2a3f5f"
          },
          "geo": {
           "bgcolor": "white",
           "lakecolor": "white",
           "landcolor": "#E5ECF6",
           "showlakes": true,
           "showland": true,
           "subunitcolor": "white"
          },
          "hoverlabel": {
           "align": "left"
          },
          "hovermode": "closest",
          "mapbox": {
           "style": "light"
          },
          "paper_bgcolor": "white",
          "plot_bgcolor": "#E5ECF6",
          "polar": {
           "angularaxis": {
            "gridcolor": "white",
            "linecolor": "white",
            "ticks": ""
           },
           "bgcolor": "#E5ECF6",
           "radialaxis": {
            "gridcolor": "white",
            "linecolor": "white",
            "ticks": ""
           }
          },
          "scene": {
           "xaxis": {
            "backgroundcolor": "#E5ECF6",
            "gridcolor": "white",
            "gridwidth": 2,
            "linecolor": "white",
            "showbackground": true,
            "ticks": "",
            "zerolinecolor": "white"
           },
           "yaxis": {
            "backgroundcolor": "#E5ECF6",
            "gridcolor": "white",
            "gridwidth": 2,
            "linecolor": "white",
            "showbackground": true,
            "ticks": "",
            "zerolinecolor": "white"
           },
           "zaxis": {
            "backgroundcolor": "#E5ECF6",
            "gridcolor": "white",
            "gridwidth": 2,
            "linecolor": "white",
            "showbackground": true,
            "ticks": "",
            "zerolinecolor": "white"
           }
          },
          "shapedefaults": {
           "line": {
            "color": "#2a3f5f"
           }
          },
          "ternary": {
           "aaxis": {
            "gridcolor": "white",
            "linecolor": "white",
            "ticks": ""
           },
           "baxis": {
            "gridcolor": "white",
            "linecolor": "white",
            "ticks": ""
           },
           "bgcolor": "#E5ECF6",
           "caxis": {
            "gridcolor": "white",
            "linecolor": "white",
            "ticks": ""
           }
          },
          "title": {
           "x": 0.05
          },
          "xaxis": {
           "automargin": true,
           "gridcolor": "white",
           "linecolor": "white",
           "ticks": "",
           "title": {
            "standoff": 15
           },
           "zerolinecolor": "white",
           "zerolinewidth": 2
          },
          "yaxis": {
           "automargin": true,
           "gridcolor": "white",
           "linecolor": "white",
           "ticks": "",
           "title": {
            "standoff": 15
           },
           "zerolinecolor": "white",
           "zerolinewidth": 2
          }
         }
        },
        "title": {
         "text": "COVID-19 Vaccinations Sentiment Analysis"
        },
        "xaxis": {
         "anchor": "y",
         "domain": [
          0,
          1
         ],
         "title": {
          "text": "date"
         }
        },
        "yaxis": {
         "anchor": "x",
         "domain": [
          0,
          1
         ],
         "title": {
          "text": "counts"
         }
        }
       }
      },
      "text/html": [
       "<div>                            <div id=\"7fca5af4-25d7-4283-bef9-1b65b186f2c5\" class=\"plotly-graph-div\" style=\"height:525px; width:100%;\"></div>            <script type=\"text/javascript\">                require([\"plotly\"], function(Plotly) {                    window.PLOTLYENV=window.PLOTLYENV || {};                                    if (document.getElementById(\"7fca5af4-25d7-4283-bef9-1b65b186f2c5\")) {                    Plotly.newPlot(                        \"7fca5af4-25d7-4283-bef9-1b65b186f2c5\",                        [{\"hovertemplate\":\"label=negative<br>date=%{x}<br>counts=%{y}<extra></extra>\",\"legendgroup\":\"negative\",\"line\":{\"color\":\"#636efa\",\"dash\":\"solid\"},\"marker\":{\"symbol\":\"circle\"},\"mode\":\"lines\",\"name\":\"negative\",\"orientation\":\"v\",\"showlegend\":true,\"x\":[\"2020-12-25T00:00:00\",\"2020-12-26T00:00:00\",\"2020-12-27T00:00:00\",\"2020-12-28T00:00:00\",\"2020-12-29T00:00:00\",\"2020-12-30T00:00:00\",\"2020-12-31T00:00:00\",\"2021-01-01T00:00:00\",\"2021-01-08T00:00:00\",\"2021-01-09T00:00:00\",\"2021-01-10T00:00:00\",\"2021-01-11T00:00:00\",\"2021-01-12T00:00:00\",\"2021-01-13T00:00:00\",\"2021-01-14T00:00:00\",\"2021-01-15T00:00:00\",\"2021-01-19T00:00:00\",\"2021-01-20T00:00:00\",\"2021-01-21T00:00:00\",\"2021-01-22T00:00:00\",\"2021-01-23T00:00:00\",\"2021-01-24T00:00:00\",\"2021-01-25T00:00:00\",\"2021-01-26T00:00:00\",\"2021-01-27T00:00:00\",\"2021-01-28T00:00:00\",\"2021-01-29T00:00:00\",\"2021-01-30T00:00:00\",\"2021-01-31T00:00:00\",\"2021-02-01T00:00:00\",\"2021-02-02T00:00:00\",\"2021-02-03T00:00:00\",\"2021-02-04T00:00:00\",\"2021-02-05T00:00:00\",\"2021-02-06T00:00:00\",\"2021-02-07T00:00:00\",\"2021-02-08T00:00:00\",\"2021-02-09T00:00:00\",\"2021-02-10T00:00:00\",\"2021-02-11T00:00:00\",\"2021-02-12T00:00:00\",\"2021-02-13T00:00:00\",\"2021-02-14T00:00:00\",\"2021-02-15T00:00:00\",\"2021-02-16T00:00:00\",\"2021-02-17T00:00:00\",\"2021-02-18T00:00:00\",\"2021-02-19T00:00:00\",\"2021-02-20T00:00:00\",\"2021-02-21T00:00:00\",\"2021-02-22T00:00:00\",\"2021-02-23T00:00:00\",\"2021-02-24T00:00:00\",\"2021-02-25T00:00:00\",\"2021-02-26T00:00:00\",\"2021-02-27T00:00:00\",\"2021-02-28T00:00:00\",\"2021-03-04T00:00:00\",\"2021-03-11T00:00:00\",\"2021-03-12T00:00:00\",\"2021-03-18T00:00:00\",\"2021-03-19T00:00:00\",\"2021-03-20T00:00:00\",\"2021-03-21T00:00:00\",\"2021-03-22T00:00:00\",\"2021-03-23T00:00:00\",\"2021-03-24T00:00:00\",\"2021-03-25T00:00:00\",\"2021-04-07T00:00:00\",\"2021-04-08T00:00:00\",\"2021-04-09T00:00:00\",\"2021-04-10T00:00:00\",\"2021-04-11T00:00:00\",\"2021-04-12T00:00:00\",\"2021-04-20T00:00:00\",\"2021-04-21T00:00:00\",\"2021-04-22T00:00:00\",\"2021-04-23T00:00:00\",\"2021-04-24T00:00:00\",\"2021-04-25T00:00:00\",\"2021-04-26T00:00:00\",\"2021-04-27T00:00:00\",\"2021-05-23T00:00:00\",\"2021-05-24T00:00:00\",\"2021-05-25T00:00:00\",\"2021-05-26T00:00:00\",\"2021-05-27T00:00:00\",\"2021-05-28T00:00:00\",\"2021-05-29T00:00:00\",\"2021-06-15T00:00:00\",\"2021-06-16T00:00:00\",\"2021-06-17T00:00:00\",\"2021-06-18T00:00:00\",\"2021-06-19T00:00:00\",\"2021-06-20T00:00:00\",\"2021-06-21T00:00:00\",\"2021-06-22T00:00:00\",\"2021-06-23T00:00:00\",\"2021-06-30T00:00:00\",\"2021-07-01T00:00:00\",\"2021-07-02T00:00:00\",\"2021-07-03T00:00:00\",\"2021-07-04T00:00:00\",\"2021-07-05T00:00:00\",\"2021-07-08T00:00:00\",\"2021-07-09T00:00:00\",\"2021-07-10T00:00:00\",\"2021-07-11T00:00:00\",\"2021-07-12T00:00:00\",\"2021-07-13T00:00:00\",\"2021-07-14T00:00:00\",\"2021-07-15T00:00:00\",\"2021-07-16T00:00:00\",\"2021-07-17T00:00:00\",\"2021-07-18T00:00:00\",\"2021-07-19T00:00:00\",\"2021-07-20T00:00:00\",\"2021-07-21T00:00:00\",\"2021-07-22T00:00:00\",\"2021-07-23T00:00:00\",\"2021-07-24T00:00:00\",\"2021-07-25T00:00:00\",\"2021-07-26T00:00:00\",\"2021-07-27T00:00:00\",\"2021-07-28T00:00:00\",\"2021-07-29T00:00:00\",\"2021-07-30T00:00:00\",\"2021-08-02T00:00:00\",\"2021-08-03T00:00:00\",\"2021-08-04T00:00:00\",\"2021-08-05T00:00:00\",\"2021-08-06T00:00:00\",\"2021-08-07T00:00:00\",\"2021-08-08T00:00:00\",\"2021-08-09T00:00:00\",\"2021-08-13T00:00:00\",\"2021-08-14T00:00:00\",\"2021-08-15T00:00:00\",\"2021-08-16T00:00:00\",\"2021-08-17T00:00:00\",\"2021-08-18T00:00:00\",\"2021-08-19T00:00:00\",\"2021-08-20T00:00:00\",\"2021-08-21T00:00:00\",\"2021-08-22T00:00:00\",\"2021-08-23T00:00:00\",\"2021-08-24T00:00:00\",\"2021-08-25T00:00:00\",\"2021-08-26T00:00:00\",\"2021-09-07T00:00:00\",\"2021-09-08T00:00:00\",\"2021-10-14T00:00:00\",\"2021-10-15T00:00:00\",\"2021-10-16T00:00:00\",\"2021-10-17T00:00:00\",\"2021-10-18T00:00:00\",\"2021-10-19T00:00:00\",\"2021-10-20T00:00:00\",\"2021-10-21T00:00:00\",\"2021-10-22T00:00:00\",\"2021-10-23T00:00:00\",\"2021-10-24T00:00:00\",\"2021-10-25T00:00:00\",\"2021-10-26T00:00:00\",\"2021-10-27T00:00:00\",\"2021-10-28T00:00:00\",\"2021-10-29T00:00:00\",\"2021-10-30T00:00:00\",\"2021-10-31T00:00:00\",\"2021-11-01T00:00:00\",\"2021-11-02T00:00:00\",\"2021-11-03T00:00:00\",\"2021-11-04T00:00:00\",\"2021-11-05T00:00:00\",\"2021-11-06T00:00:00\",\"2021-11-07T00:00:00\",\"2021-11-08T00:00:00\",\"2021-11-09T00:00:00\",\"2021-11-10T00:00:00\",\"2021-11-11T00:00:00\",\"2021-11-12T00:00:00\",\"2021-11-13T00:00:00\",\"2021-11-14T00:00:00\",\"2021-11-15T00:00:00\",\"2021-11-16T00:00:00\",\"2021-11-17T00:00:00\",\"2021-11-18T00:00:00\",\"2021-11-19T00:00:00\",\"2021-11-20T00:00:00\",\"2021-11-21T00:00:00\",\"2021-11-22T00:00:00\",\"2021-11-23T00:00:00\",\"2021-11-24T00:00:00\",\"2021-11-25T00:00:00\",\"2021-11-26T00:00:00\",\"2021-12-03T00:00:00\",\"2021-12-04T00:00:00\",\"2021-12-05T00:00:00\",\"2021-12-06T00:00:00\",\"2021-12-07T00:00:00\",\"2021-12-08T00:00:00\",\"2021-12-09T00:00:00\",\"2021-12-10T00:00:00\",\"2021-12-11T00:00:00\",\"2021-12-12T00:00:00\",\"2021-12-13T00:00:00\",\"2021-12-14T00:00:00\",\"2021-12-15T00:00:00\",\"2021-12-16T00:00:00\",\"2021-12-17T00:00:00\",\"2021-12-22T00:00:00\",\"2021-12-23T00:00:00\",\"2021-12-24T00:00:00\",\"2021-12-25T00:00:00\",\"2021-12-26T00:00:00\",\"2021-12-27T00:00:00\",\"2021-12-28T00:00:00\",\"2021-12-29T00:00:00\",\"2021-12-30T00:00:00\",\"2022-01-06T00:00:00\",\"2022-01-07T00:00:00\",\"2022-01-08T00:00:00\",\"2022-01-09T00:00:00\",\"2022-01-10T00:00:00\",\"2022-01-11T00:00:00\",\"2022-01-12T00:00:00\",\"2022-01-13T00:00:00\",\"2022-01-14T00:00:00\",\"2022-01-15T00:00:00\",\"2022-01-16T00:00:00\",\"2022-01-17T00:00:00\",\"2022-01-18T00:00:00\",\"2022-01-19T00:00:00\",\"2022-01-20T00:00:00\",\"2022-01-21T00:00:00\",\"2022-01-22T00:00:00\",\"2022-01-29T00:00:00\",\"2022-01-30T00:00:00\",\"2022-01-31T00:00:00\"],\"xaxis\":\"x\",\"y\":[62,137,263,261,415,786,483,322,438,388,224,328,519,711,802,526,425,489,539,597,569,439,705,619,667,761,718,525,523,689,443,432,397,389,432,265,337,358,391,473,399,349,294,299,290,316,303,355,272,283,285,313,341,245,271,241,181,318,56,788,478,830,364,237,398,511,539,575,625,626,648,322,180,413,117,564,413,11,1,45,384,485,13,552,591,453,443,388,320,305,313,223,247,173,150,178,279,266,463,337,515,558,578,483,24,267,283,216,293,313,204,258,305,304,409,361,359,308,380,438,271,239,347,440,410,505,513,406,611,636,398,352,370,297,546,165,314,226,340,339,341,380,339,317,237,372,331,317,240,191,190,76,139,125,117,222,230,240,457,208,225,147,164,190,155,159,220,134,93,104,185,249,301,240,215,98,152,217,219,157,160,218,197,221,227,155,115,177,161,110,178,155,203,136,139,58,451,304,157,254,227,111,100,133,125,141,172,207,196,178,227,151,103,97,125,128,130,132,154,28,142,79,71,261,567,439,189,44,75,132,121,139,111,120,92,99,21,89,93],\"yaxis\":\"y\",\"type\":\"scatter\"},{\"hovertemplate\":\"label=neutral<br>date=%{x}<br>counts=%{y}<extra></extra>\",\"legendgroup\":\"neutral\",\"line\":{\"color\":\"#EF553B\",\"dash\":\"solid\"},\"marker\":{\"symbol\":\"circle\"},\"mode\":\"lines\",\"name\":\"neutral\",\"orientation\":\"v\",\"showlegend\":true,\"x\":[\"2020-12-25T00:00:00\",\"2020-12-26T00:00:00\",\"2020-12-27T00:00:00\",\"2020-12-28T00:00:00\",\"2020-12-29T00:00:00\",\"2020-12-30T00:00:00\",\"2020-12-31T00:00:00\",\"2021-01-01T00:00:00\",\"2021-01-08T00:00:00\",\"2021-01-09T00:00:00\",\"2021-01-10T00:00:00\",\"2021-01-11T00:00:00\",\"2021-01-12T00:00:00\",\"2021-01-13T00:00:00\",\"2021-01-14T00:00:00\",\"2021-01-15T00:00:00\",\"2021-01-19T00:00:00\",\"2021-01-20T00:00:00\",\"2021-01-21T00:00:00\",\"2021-01-22T00:00:00\",\"2021-01-23T00:00:00\",\"2021-01-24T00:00:00\",\"2021-01-25T00:00:00\",\"2021-01-26T00:00:00\",\"2021-01-27T00:00:00\",\"2021-01-28T00:00:00\",\"2021-01-29T00:00:00\",\"2021-01-30T00:00:00\",\"2021-01-31T00:00:00\",\"2021-02-01T00:00:00\",\"2021-02-02T00:00:00\",\"2021-02-03T00:00:00\",\"2021-02-04T00:00:00\",\"2021-02-05T00:00:00\",\"2021-02-06T00:00:00\",\"2021-02-07T00:00:00\",\"2021-02-08T00:00:00\",\"2021-02-09T00:00:00\",\"2021-02-10T00:00:00\",\"2021-02-11T00:00:00\",\"2021-02-12T00:00:00\",\"2021-02-13T00:00:00\",\"2021-02-14T00:00:00\",\"2021-02-15T00:00:00\",\"2021-02-16T00:00:00\",\"2021-02-17T00:00:00\",\"2021-02-18T00:00:00\",\"2021-02-19T00:00:00\",\"2021-02-20T00:00:00\",\"2021-02-21T00:00:00\",\"2021-02-22T00:00:00\",\"2021-02-23T00:00:00\",\"2021-02-24T00:00:00\",\"2021-02-25T00:00:00\",\"2021-02-26T00:00:00\",\"2021-02-27T00:00:00\",\"2021-02-28T00:00:00\",\"2021-03-04T00:00:00\",\"2021-03-11T00:00:00\",\"2021-03-12T00:00:00\",\"2021-03-18T00:00:00\",\"2021-03-19T00:00:00\",\"2021-03-20T00:00:00\",\"2021-03-21T00:00:00\",\"2021-03-22T00:00:00\",\"2021-03-23T00:00:00\",\"2021-03-24T00:00:00\",\"2021-03-25T00:00:00\",\"2021-04-07T00:00:00\",\"2021-04-08T00:00:00\",\"2021-04-09T00:00:00\",\"2021-04-10T00:00:00\",\"2021-04-11T00:00:00\",\"2021-04-12T00:00:00\",\"2021-04-20T00:00:00\",\"2021-04-21T00:00:00\",\"2021-04-22T00:00:00\",\"2021-04-23T00:00:00\",\"2021-04-25T00:00:00\",\"2021-04-26T00:00:00\",\"2021-04-27T00:00:00\",\"2021-05-23T00:00:00\",\"2021-05-24T00:00:00\",\"2021-05-25T00:00:00\",\"2021-05-26T00:00:00\",\"2021-05-27T00:00:00\",\"2021-05-28T00:00:00\",\"2021-05-29T00:00:00\",\"2021-06-15T00:00:00\",\"2021-06-16T00:00:00\",\"2021-06-17T00:00:00\",\"2021-06-18T00:00:00\",\"2021-06-19T00:00:00\",\"2021-06-20T00:00:00\",\"2021-06-21T00:00:00\",\"2021-06-22T00:00:00\",\"2021-06-23T00:00:00\",\"2021-06-30T00:00:00\",\"2021-07-01T00:00:00\",\"2021-07-02T00:00:00\",\"2021-07-03T00:00:00\",\"2021-07-04T00:00:00\",\"2021-07-05T00:00:00\",\"2021-07-08T00:00:00\",\"2021-07-09T00:00:00\",\"2021-07-10T00:00:00\",\"2021-07-11T00:00:00\",\"2021-07-12T00:00:00\",\"2021-07-13T00:00:00\",\"2021-07-14T00:00:00\",\"2021-07-15T00:00:00\",\"2021-07-16T00:00:00\",\"2021-07-17T00:00:00\",\"2021-07-18T00:00:00\",\"2021-07-19T00:00:00\",\"2021-07-20T00:00:00\",\"2021-07-21T00:00:00\",\"2021-07-22T00:00:00\",\"2021-07-23T00:00:00\",\"2021-07-24T00:00:00\",\"2021-07-25T00:00:00\",\"2021-07-26T00:00:00\",\"2021-07-27T00:00:00\",\"2021-07-28T00:00:00\",\"2021-07-29T00:00:00\",\"2021-07-30T00:00:00\",\"2021-08-02T00:00:00\",\"2021-08-03T00:00:00\",\"2021-08-04T00:00:00\",\"2021-08-05T00:00:00\",\"2021-08-06T00:00:00\",\"2021-08-07T00:00:00\",\"2021-08-08T00:00:00\",\"2021-08-09T00:00:00\",\"2021-08-13T00:00:00\",\"2021-08-14T00:00:00\",\"2021-08-15T00:00:00\",\"2021-08-16T00:00:00\",\"2021-08-17T00:00:00\",\"2021-08-18T00:00:00\",\"2021-08-19T00:00:00\",\"2021-08-20T00:00:00\",\"2021-08-21T00:00:00\",\"2021-08-22T00:00:00\",\"2021-08-23T00:00:00\",\"2021-08-24T00:00:00\",\"2021-08-25T00:00:00\",\"2021-08-26T00:00:00\",\"2021-09-07T00:00:00\",\"2021-09-08T00:00:00\",\"2021-10-14T00:00:00\",\"2021-10-15T00:00:00\",\"2021-10-16T00:00:00\",\"2021-10-17T00:00:00\",\"2021-10-18T00:00:00\",\"2021-10-19T00:00:00\",\"2021-10-20T00:00:00\",\"2021-10-21T00:00:00\",\"2021-10-22T00:00:00\",\"2021-10-23T00:00:00\",\"2021-10-24T00:00:00\",\"2021-10-25T00:00:00\",\"2021-10-26T00:00:00\",\"2021-10-27T00:00:00\",\"2021-10-28T00:00:00\",\"2021-10-29T00:00:00\",\"2021-10-30T00:00:00\",\"2021-10-31T00:00:00\",\"2021-11-01T00:00:00\",\"2021-11-02T00:00:00\",\"2021-11-03T00:00:00\",\"2021-11-04T00:00:00\",\"2021-11-05T00:00:00\",\"2021-11-06T00:00:00\",\"2021-11-07T00:00:00\",\"2021-11-08T00:00:00\",\"2021-11-09T00:00:00\",\"2021-11-10T00:00:00\",\"2021-11-11T00:00:00\",\"2021-11-12T00:00:00\",\"2021-11-13T00:00:00\",\"2021-11-14T00:00:00\",\"2021-11-15T00:00:00\",\"2021-11-16T00:00:00\",\"2021-11-17T00:00:00\",\"2021-11-18T00:00:00\",\"2021-11-19T00:00:00\",\"2021-11-20T00:00:00\",\"2021-11-21T00:00:00\",\"2021-11-22T00:00:00\",\"2021-11-23T00:00:00\",\"2021-11-24T00:00:00\",\"2021-11-25T00:00:00\",\"2021-11-26T00:00:00\",\"2021-12-03T00:00:00\",\"2021-12-04T00:00:00\",\"2021-12-05T00:00:00\",\"2021-12-06T00:00:00\",\"2021-12-07T00:00:00\",\"2021-12-08T00:00:00\",\"2021-12-09T00:00:00\",\"2021-12-10T00:00:00\",\"2021-12-11T00:00:00\",\"2021-12-12T00:00:00\",\"2021-12-13T00:00:00\",\"2021-12-14T00:00:00\",\"2021-12-15T00:00:00\",\"2021-12-16T00:00:00\",\"2021-12-17T00:00:00\",\"2021-12-22T00:00:00\",\"2021-12-23T00:00:00\",\"2021-12-24T00:00:00\",\"2021-12-25T00:00:00\",\"2021-12-26T00:00:00\",\"2021-12-27T00:00:00\",\"2021-12-28T00:00:00\",\"2021-12-29T00:00:00\",\"2021-12-30T00:00:00\",\"2022-01-06T00:00:00\",\"2022-01-07T00:00:00\",\"2022-01-08T00:00:00\",\"2022-01-09T00:00:00\",\"2022-01-10T00:00:00\",\"2022-01-11T00:00:00\",\"2022-01-12T00:00:00\",\"2022-01-13T00:00:00\",\"2022-01-14T00:00:00\",\"2022-01-15T00:00:00\",\"2022-01-16T00:00:00\",\"2022-01-17T00:00:00\",\"2022-01-18T00:00:00\",\"2022-01-19T00:00:00\",\"2022-01-20T00:00:00\",\"2022-01-21T00:00:00\",\"2022-01-22T00:00:00\",\"2022-01-29T00:00:00\",\"2022-01-30T00:00:00\",\"2022-01-31T00:00:00\"],\"xaxis\":\"x\",\"y\":[158,381,700,597,847,2133,996,691,926,710,504,633,978,1247,1467,1014,742,902,878,1117,904,714,1137,1307,1183,1532,1694,1199,1098,1398,887,949,835,840,791,585,763,835,905,1006,748,690,546,676,734,706,743,1058,781,715,835,774,953,537,576,582,594,762,155,1714,961,1495,742,588,974,1507,1454,1674,910,992,1017,514,299,978,166,650,720,27,81,632,706,17,510,610,639,533,612,400,323,336,228,187,139,134,261,281,276,519,244,449,241,152,342,35,331,262,167,277,340,313,252,297,280,399,389,374,343,330,323,319,319,355,467,480,500,601,549,736,832,508,412,351,298,488,220,409,306,346,383,377,374,421,313,251,418,396,306,303,238,226,81,148,147,122,159,217,223,444,243,162,143,182,224,206,139,222,134,98,139,137,252,212,210,180,118,159,196,277,190,192,205,197,199,243,179,219,242,127,124,173,144,122,105,133,39,521,365,199,171,201,140,206,140,112,148,169,154,144,158,256,174,80,116,85,101,141,146,144,54,145,167,156,242,448,429,223,32,121,160,156,206,141,116,99,100,30,81,99],\"yaxis\":\"y\",\"type\":\"scatter\"},{\"hovertemplate\":\"label=positive<br>date=%{x}<br>counts=%{y}<extra></extra>\",\"legendgroup\":\"positive\",\"line\":{\"color\":\"#00cc96\",\"dash\":\"solid\"},\"marker\":{\"symbol\":\"circle\"},\"mode\":\"lines\",\"name\":\"positive\",\"orientation\":\"v\",\"showlegend\":true,\"x\":[\"2020-12-25T00:00:00\",\"2020-12-26T00:00:00\",\"2020-12-27T00:00:00\",\"2020-12-28T00:00:00\",\"2020-12-29T00:00:00\",\"2020-12-30T00:00:00\",\"2020-12-31T00:00:00\",\"2021-01-01T00:00:00\",\"2021-01-08T00:00:00\",\"2021-01-09T00:00:00\",\"2021-01-10T00:00:00\",\"2021-01-11T00:00:00\",\"2021-01-12T00:00:00\",\"2021-01-13T00:00:00\",\"2021-01-14T00:00:00\",\"2021-01-15T00:00:00\",\"2021-01-19T00:00:00\",\"2021-01-20T00:00:00\",\"2021-01-21T00:00:00\",\"2021-01-22T00:00:00\",\"2021-01-23T00:00:00\",\"2021-01-24T00:00:00\",\"2021-01-25T00:00:00\",\"2021-01-26T00:00:00\",\"2021-01-27T00:00:00\",\"2021-01-28T00:00:00\",\"2021-01-29T00:00:00\",\"2021-01-30T00:00:00\",\"2021-01-31T00:00:00\",\"2021-02-01T00:00:00\",\"2021-02-02T00:00:00\",\"2021-02-03T00:00:00\",\"2021-02-04T00:00:00\",\"2021-02-05T00:00:00\",\"2021-02-06T00:00:00\",\"2021-02-07T00:00:00\",\"2021-02-08T00:00:00\",\"2021-02-09T00:00:00\",\"2021-02-10T00:00:00\",\"2021-02-11T00:00:00\",\"2021-02-12T00:00:00\",\"2021-02-13T00:00:00\",\"2021-02-14T00:00:00\",\"2021-02-15T00:00:00\",\"2021-02-16T00:00:00\",\"2021-02-17T00:00:00\",\"2021-02-18T00:00:00\",\"2021-02-19T00:00:00\",\"2021-02-20T00:00:00\",\"2021-02-21T00:00:00\",\"2021-02-22T00:00:00\",\"2021-02-23T00:00:00\",\"2021-02-24T00:00:00\",\"2021-02-25T00:00:00\",\"2021-02-26T00:00:00\",\"2021-02-27T00:00:00\",\"2021-02-28T00:00:00\",\"2021-03-04T00:00:00\",\"2021-03-11T00:00:00\",\"2021-03-12T00:00:00\",\"2021-03-18T00:00:00\",\"2021-03-19T00:00:00\",\"2021-03-20T00:00:00\",\"2021-03-21T00:00:00\",\"2021-03-22T00:00:00\",\"2021-03-23T00:00:00\",\"2021-03-24T00:00:00\",\"2021-03-25T00:00:00\",\"2021-04-07T00:00:00\",\"2021-04-08T00:00:00\",\"2021-04-09T00:00:00\",\"2021-04-10T00:00:00\",\"2021-04-11T00:00:00\",\"2021-04-12T00:00:00\",\"2021-04-20T00:00:00\",\"2021-04-21T00:00:00\",\"2021-04-22T00:00:00\",\"2021-04-23T00:00:00\",\"2021-04-24T00:00:00\",\"2021-04-25T00:00:00\",\"2021-04-26T00:00:00\",\"2021-04-27T00:00:00\",\"2021-05-23T00:00:00\",\"2021-05-24T00:00:00\",\"2021-05-25T00:00:00\",\"2021-05-26T00:00:00\",\"2021-05-27T00:00:00\",\"2021-05-28T00:00:00\",\"2021-05-29T00:00:00\",\"2021-06-15T00:00:00\",\"2021-06-16T00:00:00\",\"2021-06-17T00:00:00\",\"2021-06-18T00:00:00\",\"2021-06-19T00:00:00\",\"2021-06-20T00:00:00\",\"2021-06-21T00:00:00\",\"2021-06-22T00:00:00\",\"2021-06-23T00:00:00\",\"2021-06-30T00:00:00\",\"2021-07-01T00:00:00\",\"2021-07-02T00:00:00\",\"2021-07-03T00:00:00\",\"2021-07-04T00:00:00\",\"2021-07-05T00:00:00\",\"2021-07-08T00:00:00\",\"2021-07-09T00:00:00\",\"2021-07-10T00:00:00\",\"2021-07-11T00:00:00\",\"2021-07-12T00:00:00\",\"2021-07-13T00:00:00\",\"2021-07-14T00:00:00\",\"2021-07-15T00:00:00\",\"2021-07-16T00:00:00\",\"2021-07-17T00:00:00\",\"2021-07-18T00:00:00\",\"2021-07-19T00:00:00\",\"2021-07-20T00:00:00\",\"2021-07-21T00:00:00\",\"2021-07-22T00:00:00\",\"2021-07-23T00:00:00\",\"2021-07-24T00:00:00\",\"2021-07-25T00:00:00\",\"2021-07-26T00:00:00\",\"2021-07-27T00:00:00\",\"2021-07-28T00:00:00\",\"2021-07-29T00:00:00\",\"2021-07-30T00:00:00\",\"2021-08-02T00:00:00\",\"2021-08-03T00:00:00\",\"2021-08-04T00:00:00\",\"2021-08-05T00:00:00\",\"2021-08-06T00:00:00\",\"2021-08-07T00:00:00\",\"2021-08-08T00:00:00\",\"2021-08-09T00:00:00\",\"2021-08-13T00:00:00\",\"2021-08-14T00:00:00\",\"2021-08-15T00:00:00\",\"2021-08-16T00:00:00\",\"2021-08-17T00:00:00\",\"2021-08-18T00:00:00\",\"2021-08-19T00:00:00\",\"2021-08-20T00:00:00\",\"2021-08-21T00:00:00\",\"2021-08-22T00:00:00\",\"2021-08-23T00:00:00\",\"2021-08-24T00:00:00\",\"2021-08-25T00:00:00\",\"2021-08-26T00:00:00\",\"2021-09-07T00:00:00\",\"2021-09-08T00:00:00\",\"2021-10-14T00:00:00\",\"2021-10-15T00:00:00\",\"2021-10-16T00:00:00\",\"2021-10-17T00:00:00\",\"2021-10-18T00:00:00\",\"2021-10-19T00:00:00\",\"2021-10-20T00:00:00\",\"2021-10-21T00:00:00\",\"2021-10-22T00:00:00\",\"2021-10-23T00:00:00\",\"2021-10-24T00:00:00\",\"2021-10-25T00:00:00\",\"2021-10-26T00:00:00\",\"2021-10-27T00:00:00\",\"2021-10-28T00:00:00\",\"2021-10-29T00:00:00\",\"2021-10-30T00:00:00\",\"2021-10-31T00:00:00\",\"2021-11-01T00:00:00\",\"2021-11-02T00:00:00\",\"2021-11-03T00:00:00\",\"2021-11-04T00:00:00\",\"2021-11-05T00:00:00\",\"2021-11-06T00:00:00\",\"2021-11-07T00:00:00\",\"2021-11-08T00:00:00\",\"2021-11-09T00:00:00\",\"2021-11-10T00:00:00\",\"2021-11-11T00:00:00\",\"2021-11-12T00:00:00\",\"2021-11-13T00:00:00\",\"2021-11-14T00:00:00\",\"2021-11-15T00:00:00\",\"2021-11-16T00:00:00\",\"2021-11-17T00:00:00\",\"2021-11-18T00:00:00\",\"2021-11-19T00:00:00\",\"2021-11-20T00:00:00\",\"2021-11-21T00:00:00\",\"2021-11-22T00:00:00\",\"2021-11-23T00:00:00\",\"2021-11-24T00:00:00\",\"2021-11-25T00:00:00\",\"2021-11-26T00:00:00\",\"2021-12-03T00:00:00\",\"2021-12-04T00:00:00\",\"2021-12-05T00:00:00\",\"2021-12-06T00:00:00\",\"2021-12-07T00:00:00\",\"2021-12-08T00:00:00\",\"2021-12-09T00:00:00\",\"2021-12-10T00:00:00\",\"2021-12-11T00:00:00\",\"2021-12-12T00:00:00\",\"2021-12-13T00:00:00\",\"2021-12-14T00:00:00\",\"2021-12-15T00:00:00\",\"2021-12-16T00:00:00\",\"2021-12-17T00:00:00\",\"2021-12-22T00:00:00\",\"2021-12-23T00:00:00\",\"2021-12-24T00:00:00\",\"2021-12-25T00:00:00\",\"2021-12-26T00:00:00\",\"2021-12-27T00:00:00\",\"2021-12-28T00:00:00\",\"2021-12-29T00:00:00\",\"2021-12-30T00:00:00\",\"2022-01-06T00:00:00\",\"2022-01-07T00:00:00\",\"2022-01-08T00:00:00\",\"2022-01-09T00:00:00\",\"2022-01-10T00:00:00\",\"2022-01-11T00:00:00\",\"2022-01-12T00:00:00\",\"2022-01-13T00:00:00\",\"2022-01-14T00:00:00\",\"2022-01-15T00:00:00\",\"2022-01-16T00:00:00\",\"2022-01-17T00:00:00\",\"2022-01-18T00:00:00\",\"2022-01-19T00:00:00\",\"2022-01-20T00:00:00\",\"2022-01-21T00:00:00\",\"2022-01-22T00:00:00\",\"2022-01-29T00:00:00\",\"2022-01-30T00:00:00\",\"2022-01-31T00:00:00\"],\"xaxis\":\"x\",\"y\":[169,366,934,725,1019,2208,1158,708,1103,919,674,852,1331,1684,1737,1220,867,1098,1078,1410,1134,799,1290,1389,1564,1700,1886,1373,1239,1645,1079,1095,1060,1150,928,855,907,993,1073,1256,1088,803,582,741,786,762,978,965,654,594,866,764,899,555,595,474,503,869,205,1837,1191,1882,882,583,742,1145,1205,1285,1282,1346,1398,712,388,1056,249,1057,1092,32,1,124,981,1265,53,821,1219,1002,969,959,783,684,557,378,442,235,265,511,475,568,743,522,853,521,325,630,66,553,478,349,556,624,462,402,539,598,764,641,568,598,671,712,549,442,727,706,796,797,918,1002,1271,1430,1057,735,662,540,963,333,635,490,635,714,627,653,776,649,459,898,740,593,599,412,458,185,327,313,274,329,422,433,929,510,296,280,330,535,374,330,422,309,232,299,231,425,416,417,349,244,345,421,490,430,434,253,351,331,452,444,400,338,230,206,285,242,251,218,233,119,988,686,486,304,415,249,267,231,208,354,329,313,317,383,627,331,205,220,222,226,271,268,317,136,416,241,315,753,1147,1067,481,81,249,486,443,456,321,418,309,289,98,337,374],\"yaxis\":\"y\",\"type\":\"scatter\"}],                        {\"template\":{\"data\":{\"bar\":[{\"error_x\":{\"color\":\"#2a3f5f\"},\"error_y\":{\"color\":\"#2a3f5f\"},\"marker\":{\"line\":{\"color\":\"#E5ECF6\",\"width\":0.5},\"pattern\":{\"fillmode\":\"overlay\",\"size\":10,\"solidity\":0.2}},\"type\":\"bar\"}],\"barpolar\":[{\"marker\":{\"line\":{\"color\":\"#E5ECF6\",\"width\":0.5},\"pattern\":{\"fillmode\":\"overlay\",\"size\":10,\"solidity\":0.2}},\"type\":\"barpolar\"}],\"carpet\":[{\"aaxis\":{\"endlinecolor\":\"#2a3f5f\",\"gridcolor\":\"white\",\"linecolor\":\"white\",\"minorgridcolor\":\"white\",\"startlinecolor\":\"#2a3f5f\"},\"baxis\":{\"endlinecolor\":\"#2a3f5f\",\"gridcolor\":\"white\",\"linecolor\":\"white\",\"minorgridcolor\":\"white\",\"startlinecolor\":\"#2a3f5f\"},\"type\":\"carpet\"}],\"choropleth\":[{\"colorbar\":{\"outlinewidth\":0,\"ticks\":\"\"},\"type\":\"choropleth\"}],\"contour\":[{\"colorbar\":{\"outlinewidth\":0,\"ticks\":\"\"},\"colorscale\":[[0.0,\"#0d0887\"],[0.1111111111111111,\"#46039f\"],[0.2222222222222222,\"#7201a8\"],[0.3333333333333333,\"#9c179e\"],[0.4444444444444444,\"#bd3786\"],[0.5555555555555556,\"#d8576b\"],[0.6666666666666666,\"#ed7953\"],[0.7777777777777778,\"#fb9f3a\"],[0.8888888888888888,\"#fdca26\"],[1.0,\"#f0f921\"]],\"type\":\"contour\"}],\"contourcarpet\":[{\"colorbar\":{\"outlinewidth\":0,\"ticks\":\"\"},\"type\":\"contourcarpet\"}],\"heatmap\":[{\"colorbar\":{\"outlinewidth\":0,\"ticks\":\"\"},\"colorscale\":[[0.0,\"#0d0887\"],[0.1111111111111111,\"#46039f\"],[0.2222222222222222,\"#7201a8\"],[0.3333333333333333,\"#9c179e\"],[0.4444444444444444,\"#bd3786\"],[0.5555555555555556,\"#d8576b\"],[0.6666666666666666,\"#ed7953\"],[0.7777777777777778,\"#fb9f3a\"],[0.8888888888888888,\"#fdca26\"],[1.0,\"#f0f921\"]],\"type\":\"heatmap\"}],\"heatmapgl\":[{\"colorbar\":{\"outlinewidth\":0,\"ticks\":\"\"},\"colorscale\":[[0.0,\"#0d0887\"],[0.1111111111111111,\"#46039f\"],[0.2222222222222222,\"#7201a8\"],[0.3333333333333333,\"#9c179e\"],[0.4444444444444444,\"#bd3786\"],[0.5555555555555556,\"#d8576b\"],[0.6666666666666666,\"#ed7953\"],[0.7777777777777778,\"#fb9f3a\"],[0.8888888888888888,\"#fdca26\"],[1.0,\"#f0f921\"]],\"type\":\"heatmapgl\"}],\"histogram\":[{\"marker\":{\"pattern\":{\"fillmode\":\"overlay\",\"size\":10,\"solidity\":0.2}},\"type\":\"histogram\"}],\"histogram2d\":[{\"colorbar\":{\"outlinewidth\":0,\"ticks\":\"\"},\"colorscale\":[[0.0,\"#0d0887\"],[0.1111111111111111,\"#46039f\"],[0.2222222222222222,\"#7201a8\"],[0.3333333333333333,\"#9c179e\"],[0.4444444444444444,\"#bd3786\"],[0.5555555555555556,\"#d8576b\"],[0.6666666666666666,\"#ed7953\"],[0.7777777777777778,\"#fb9f3a\"],[0.8888888888888888,\"#fdca26\"],[1.0,\"#f0f921\"]],\"type\":\"histogram2d\"}],\"histogram2dcontour\":[{\"colorbar\":{\"outlinewidth\":0,\"ticks\":\"\"},\"colorscale\":[[0.0,\"#0d0887\"],[0.1111111111111111,\"#46039f\"],[0.2222222222222222,\"#7201a8\"],[0.3333333333333333,\"#9c179e\"],[0.4444444444444444,\"#bd3786\"],[0.5555555555555556,\"#d8576b\"],[0.6666666666666666,\"#ed7953\"],[0.7777777777777778,\"#fb9f3a\"],[0.8888888888888888,\"#fdca26\"],[1.0,\"#f0f921\"]],\"type\":\"histogram2dcontour\"}],\"mesh3d\":[{\"colorbar\":{\"outlinewidth\":0,\"ticks\":\"\"},\"type\":\"mesh3d\"}],\"parcoords\":[{\"line\":{\"colorbar\":{\"outlinewidth\":0,\"ticks\":\"\"}},\"type\":\"parcoords\"}],\"pie\":[{\"automargin\":true,\"type\":\"pie\"}],\"scatter\":[{\"marker\":{\"colorbar\":{\"outlinewidth\":0,\"ticks\":\"\"}},\"type\":\"scatter\"}],\"scatter3d\":[{\"line\":{\"colorbar\":{\"outlinewidth\":0,\"ticks\":\"\"}},\"marker\":{\"colorbar\":{\"outlinewidth\":0,\"ticks\":\"\"}},\"type\":\"scatter3d\"}],\"scattercarpet\":[{\"marker\":{\"colorbar\":{\"outlinewidth\":0,\"ticks\":\"\"}},\"type\":\"scattercarpet\"}],\"scattergeo\":[{\"marker\":{\"colorbar\":{\"outlinewidth\":0,\"ticks\":\"\"}},\"type\":\"scattergeo\"}],\"scattergl\":[{\"marker\":{\"colorbar\":{\"outlinewidth\":0,\"ticks\":\"\"}},\"type\":\"scattergl\"}],\"scattermapbox\":[{\"marker\":{\"colorbar\":{\"outlinewidth\":0,\"ticks\":\"\"}},\"type\":\"scattermapbox\"}],\"scatterpolar\":[{\"marker\":{\"colorbar\":{\"outlinewidth\":0,\"ticks\":\"\"}},\"type\":\"scatterpolar\"}],\"scatterpolargl\":[{\"marker\":{\"colorbar\":{\"outlinewidth\":0,\"ticks\":\"\"}},\"type\":\"scatterpolargl\"}],\"scatterternary\":[{\"marker\":{\"colorbar\":{\"outlinewidth\":0,\"ticks\":\"\"}},\"type\":\"scatterternary\"}],\"surface\":[{\"colorbar\":{\"outlinewidth\":0,\"ticks\":\"\"},\"colorscale\":[[0.0,\"#0d0887\"],[0.1111111111111111,\"#46039f\"],[0.2222222222222222,\"#7201a8\"],[0.3333333333333333,\"#9c179e\"],[0.4444444444444444,\"#bd3786\"],[0.5555555555555556,\"#d8576b\"],[0.6666666666666666,\"#ed7953\"],[0.7777777777777778,\"#fb9f3a\"],[0.8888888888888888,\"#fdca26\"],[1.0,\"#f0f921\"]],\"type\":\"surface\"}],\"table\":[{\"cells\":{\"fill\":{\"color\":\"#EBF0F8\"},\"line\":{\"color\":\"white\"}},\"header\":{\"fill\":{\"color\":\"#C8D4E3\"},\"line\":{\"color\":\"white\"}},\"type\":\"table\"}]},\"layout\":{\"annotationdefaults\":{\"arrowcolor\":\"#2a3f5f\",\"arrowhead\":0,\"arrowwidth\":1},\"autotypenumbers\":\"strict\",\"coloraxis\":{\"colorbar\":{\"outlinewidth\":0,\"ticks\":\"\"}},\"colorscale\":{\"diverging\":[[0,\"#8e0152\"],[0.1,\"#c51b7d\"],[0.2,\"#de77ae\"],[0.3,\"#f1b6da\"],[0.4,\"#fde0ef\"],[0.5,\"#f7f7f7\"],[0.6,\"#e6f5d0\"],[0.7,\"#b8e186\"],[0.8,\"#7fbc41\"],[0.9,\"#4d9221\"],[1,\"#276419\"]],\"sequential\":[[0.0,\"#0d0887\"],[0.1111111111111111,\"#46039f\"],[0.2222222222222222,\"#7201a8\"],[0.3333333333333333,\"#9c179e\"],[0.4444444444444444,\"#bd3786\"],[0.5555555555555556,\"#d8576b\"],[0.6666666666666666,\"#ed7953\"],[0.7777777777777778,\"#fb9f3a\"],[0.8888888888888888,\"#fdca26\"],[1.0,\"#f0f921\"]],\"sequentialminus\":[[0.0,\"#0d0887\"],[0.1111111111111111,\"#46039f\"],[0.2222222222222222,\"#7201a8\"],[0.3333333333333333,\"#9c179e\"],[0.4444444444444444,\"#bd3786\"],[0.5555555555555556,\"#d8576b\"],[0.6666666666666666,\"#ed7953\"],[0.7777777777777778,\"#fb9f3a\"],[0.8888888888888888,\"#fdca26\"],[1.0,\"#f0f921\"]]},\"colorway\":[\"#636efa\",\"#EF553B\",\"#00cc96\",\"#ab63fa\",\"#FFA15A\",\"#19d3f3\",\"#FF6692\",\"#B6E880\",\"#FF97FF\",\"#FECB52\"],\"font\":{\"color\":\"#2a3f5f\"},\"geo\":{\"bgcolor\":\"white\",\"lakecolor\":\"white\",\"landcolor\":\"#E5ECF6\",\"showlakes\":true,\"showland\":true,\"subunitcolor\":\"white\"},\"hoverlabel\":{\"align\":\"left\"},\"hovermode\":\"closest\",\"mapbox\":{\"style\":\"light\"},\"paper_bgcolor\":\"white\",\"plot_bgcolor\":\"#E5ECF6\",\"polar\":{\"angularaxis\":{\"gridcolor\":\"white\",\"linecolor\":\"white\",\"ticks\":\"\"},\"bgcolor\":\"#E5ECF6\",\"radialaxis\":{\"gridcolor\":\"white\",\"linecolor\":\"white\",\"ticks\":\"\"}},\"scene\":{\"xaxis\":{\"backgroundcolor\":\"#E5ECF6\",\"gridcolor\":\"white\",\"gridwidth\":2,\"linecolor\":\"white\",\"showbackground\":true,\"ticks\":\"\",\"zerolinecolor\":\"white\"},\"yaxis\":{\"backgroundcolor\":\"#E5ECF6\",\"gridcolor\":\"white\",\"gridwidth\":2,\"linecolor\":\"white\",\"showbackground\":true,\"ticks\":\"\",\"zerolinecolor\":\"white\"},\"zaxis\":{\"backgroundcolor\":\"#E5ECF6\",\"gridcolor\":\"white\",\"gridwidth\":2,\"linecolor\":\"white\",\"showbackground\":true,\"ticks\":\"\",\"zerolinecolor\":\"white\"}},\"shapedefaults\":{\"line\":{\"color\":\"#2a3f5f\"}},\"ternary\":{\"aaxis\":{\"gridcolor\":\"white\",\"linecolor\":\"white\",\"ticks\":\"\"},\"baxis\":{\"gridcolor\":\"white\",\"linecolor\":\"white\",\"ticks\":\"\"},\"bgcolor\":\"#E5ECF6\",\"caxis\":{\"gridcolor\":\"white\",\"linecolor\":\"white\",\"ticks\":\"\"}},\"title\":{\"x\":0.05},\"xaxis\":{\"automargin\":true,\"gridcolor\":\"white\",\"linecolor\":\"white\",\"ticks\":\"\",\"title\":{\"standoff\":15},\"zerolinecolor\":\"white\",\"zerolinewidth\":2},\"yaxis\":{\"automargin\":true,\"gridcolor\":\"white\",\"linecolor\":\"white\",\"ticks\":\"\",\"title\":{\"standoff\":15},\"zerolinecolor\":\"white\",\"zerolinewidth\":2}}},\"xaxis\":{\"anchor\":\"y\",\"domain\":[0.0,1.0],\"title\":{\"text\":\"date\"}},\"yaxis\":{\"anchor\":\"x\",\"domain\":[0.0,1.0],\"title\":{\"text\":\"counts\"}},\"legend\":{\"title\":{\"text\":\"label\"},\"tracegroupgap\":0},\"title\":{\"text\":\"COVID-19 Vaccinations Sentiment Analysis\"}},                        {\"responsive\": true}                    ).then(function(){\n",
       "                            \n",
       "var gd = document.getElementById('7fca5af4-25d7-4283-bef9-1b65b186f2c5');\n",
       "var x = new MutationObserver(function (mutations, observer) {{\n",
       "        var display = window.getComputedStyle(gd).display;\n",
       "        if (!display || display === 'none') {{\n",
       "            console.log([gd, 'removed!']);\n",
       "            Plotly.purge(gd);\n",
       "            observer.disconnect();\n",
       "        }}\n",
       "}});\n",
       "\n",
       "// Listen for the removal of the full notebook cells\n",
       "var notebookContainer = gd.closest('#notebook-container');\n",
       "if (notebookContainer) {{\n",
       "    x.observe(notebookContainer, {childList: true});\n",
       "}}\n",
       "\n",
       "// Listen for the clearing of the current output cell\n",
       "var outputEl = gd.closest('.output');\n",
       "if (outputEl) {{\n",
       "    x.observe(outputEl, {childList: true});\n",
       "}}\n",
       "\n",
       "                        })                };                });            </script>        </div>"
      ]
     },
     "metadata": {},
     "output_type": "display_data"
    }
   ],
   "source": [
    "ex.line(data_agg, x='date', y='counts', color='label', title='COVID-19 Vaccinations Sentiment Analysis')"
   ]
  },
  {
   "cell_type": "code",
   "execution_count": 87,
   "id": "45304700",
   "metadata": {},
   "outputs": [],
   "source": [
    "ft_data=data.copy()"
   ]
  },
  {
   "cell_type": "code",
   "execution_count": 88,
   "id": "e381cbb8",
   "metadata": {},
   "outputs": [],
   "source": [
    "ft_data=filtered_df.join(sentiment_df)"
   ]
  },
  {
   "cell_type": "code",
   "execution_count": 89,
   "id": "dceacbca",
   "metadata": {},
   "outputs": [
    {
     "data": {
      "text/html": [
       "<div>\n",
       "<style scoped>\n",
       "    .dataframe tbody tr th:only-of-type {\n",
       "        vertical-align: middle;\n",
       "    }\n",
       "\n",
       "    .dataframe tbody tr th {\n",
       "        vertical-align: top;\n",
       "    }\n",
       "\n",
       "    .dataframe thead th {\n",
       "        text-align: right;\n",
       "    }\n",
       "</style>\n",
       "<table border=\"1\" class=\"dataframe\">\n",
       "  <thead>\n",
       "    <tr style=\"text-align: right;\">\n",
       "      <th></th>\n",
       "      <th>user_name</th>\n",
       "      <th>date</th>\n",
       "      <th>text</th>\n",
       "      <th>neg</th>\n",
       "      <th>neu</th>\n",
       "      <th>pos</th>\n",
       "      <th>compound</th>\n",
       "      <th>label</th>\n",
       "    </tr>\n",
       "  </thead>\n",
       "  <tbody>\n",
       "    <tr>\n",
       "      <th>21939</th>\n",
       "      <td>8650</td>\n",
       "      <td>2020-12-26</td>\n",
       "      <td>covidvaccine coronavirusstrain oxfordvaccine v...</td>\n",
       "      <td>0.292</td>\n",
       "      <td>0.708</td>\n",
       "      <td>0.00</td>\n",
       "      <td>-0.5106</td>\n",
       "      <td>negative</td>\n",
       "    </tr>\n",
       "    <tr>\n",
       "      <th>21940</th>\n",
       "      <td>14396</td>\n",
       "      <td>2020-12-26</td>\n",
       "      <td>christmas 2020 conspiracy theorists spent seas...</td>\n",
       "      <td>0.000</td>\n",
       "      <td>1.000</td>\n",
       "      <td>0.00</td>\n",
       "      <td>0.0000</td>\n",
       "      <td>neutral</td>\n",
       "    </tr>\n",
       "    <tr>\n",
       "      <th>21941</th>\n",
       "      <td>131540</td>\n",
       "      <td>2020-12-26</td>\n",
       "      <td>looking forward dosetwo covidvaccine minus two...</td>\n",
       "      <td>0.000</td>\n",
       "      <td>0.610</td>\n",
       "      <td>0.39</td>\n",
       "      <td>0.7506</td>\n",
       "      <td>positive</td>\n",
       "    </tr>\n",
       "    <tr>\n",
       "      <th>21942</th>\n",
       "      <td>76125</td>\n",
       "      <td>2020-12-26</td>\n",
       "      <td>oxford vaccine approved within days could end ...</td>\n",
       "      <td>0.000</td>\n",
       "      <td>1.000</td>\n",
       "      <td>0.00</td>\n",
       "      <td>0.0000</td>\n",
       "      <td>neutral</td>\n",
       "    </tr>\n",
       "    <tr>\n",
       "      <th>21943</th>\n",
       "      <td>15663</td>\n",
       "      <td>2020-12-26</td>\n",
       "      <td>murphypix many nursing home residents staffnot...</td>\n",
       "      <td>0.000</td>\n",
       "      <td>1.000</td>\n",
       "      <td>0.00</td>\n",
       "      <td>0.0000</td>\n",
       "      <td>neutral</td>\n",
       "    </tr>\n",
       "  </tbody>\n",
       "</table>\n",
       "</div>"
      ],
      "text/plain": [
       "       user_name       date  \\\n",
       "21939       8650 2020-12-26   \n",
       "21940      14396 2020-12-26   \n",
       "21941     131540 2020-12-26   \n",
       "21942      76125 2020-12-26   \n",
       "21943      15663 2020-12-26   \n",
       "\n",
       "                                                    text    neg    neu   pos  \\\n",
       "21939  covidvaccine coronavirusstrain oxfordvaccine v...  0.292  0.708  0.00   \n",
       "21940  christmas 2020 conspiracy theorists spent seas...  0.000  1.000  0.00   \n",
       "21941  looking forward dosetwo covidvaccine minus two...  0.000  0.610  0.39   \n",
       "21942  oxford vaccine approved within days could end ...  0.000  1.000  0.00   \n",
       "21943  murphypix many nursing home residents staffnot...  0.000  1.000  0.00   \n",
       "\n",
       "       compound     label  \n",
       "21939   -0.5106  negative  \n",
       "21940    0.0000   neutral  \n",
       "21941    0.7506  positive  \n",
       "21942    0.0000   neutral  \n",
       "21943    0.0000   neutral  "
      ]
     },
     "execution_count": 89,
     "metadata": {},
     "output_type": "execute_result"
    }
   ],
   "source": [
    "ft_data.head()"
   ]
  },
  {
   "cell_type": "code",
   "execution_count": 90,
   "id": "8ccb9ede",
   "metadata": {},
   "outputs": [
    {
     "data": {
      "application/vnd.plotly.v1+json": {
       "config": {
        "plotlyServerURL": "https://plot.ly"
       },
       "data": [
        {
         "hovertemplate": "date=%{x}<br>Tweets Per Day=%{y}<extra></extra>",
         "legendgroup": "",
         "line": {
          "color": "#636efa",
          "dash": "solid"
         },
         "marker": {
          "symbol": "circle"
         },
         "mode": "markers+lines",
         "name": "",
         "orientation": "v",
         "showlegend": false,
         "type": "scatter",
         "x": [
          "2020-12-25",
          "2020-12-26",
          "2020-12-27",
          "2020-12-28",
          "2020-12-29",
          "2020-12-30",
          "2020-12-31",
          "2021-01-01",
          "2021-01-08",
          "2021-01-09",
          "2021-01-10",
          "2021-01-11",
          "2021-01-12",
          "2021-01-13",
          "2021-01-14",
          "2021-01-15",
          "2021-01-19",
          "2021-01-20",
          "2021-01-21",
          "2021-01-22",
          "2021-01-23",
          "2021-01-24",
          "2021-01-25",
          "2021-01-26",
          "2021-01-27",
          "2021-01-28",
          "2021-01-29",
          "2021-01-30",
          "2021-01-31",
          "2021-02-01",
          "2021-02-02",
          "2021-02-03",
          "2021-02-04",
          "2021-02-05",
          "2021-02-06",
          "2021-02-07",
          "2021-02-08",
          "2021-02-09",
          "2021-02-10",
          "2021-02-11",
          "2021-02-12",
          "2021-02-13",
          "2021-02-14",
          "2021-02-15",
          "2021-02-16",
          "2021-02-17",
          "2021-02-18",
          "2021-02-19",
          "2021-02-20",
          "2021-02-21",
          "2021-02-22",
          "2021-02-23",
          "2021-02-24",
          "2021-02-25",
          "2021-02-26",
          "2021-02-27",
          "2021-02-28",
          "2021-03-04",
          "2021-03-11",
          "2021-03-12",
          "2021-03-18",
          "2021-03-19",
          "2021-03-20",
          "2021-03-21",
          "2021-03-22",
          "2021-03-23",
          "2021-03-24",
          "2021-03-25",
          "2021-04-07",
          "2021-04-08",
          "2021-04-09",
          "2021-04-10",
          "2021-04-11",
          "2021-04-12",
          "2021-04-20",
          "2021-04-21",
          "2021-04-22",
          "2021-04-23",
          "2021-04-24",
          "2021-04-25",
          "2021-04-26",
          "2021-04-27",
          "2021-05-23",
          "2021-05-24",
          "2021-05-25",
          "2021-05-26",
          "2021-05-27",
          "2021-05-28",
          "2021-05-29",
          "2021-06-15",
          "2021-06-16",
          "2021-06-17",
          "2021-06-18",
          "2021-06-19",
          "2021-06-20",
          "2021-06-21",
          "2021-06-22",
          "2021-06-23",
          "2021-06-30",
          "2021-07-01",
          "2021-07-02",
          "2021-07-03",
          "2021-07-04",
          "2021-07-05",
          "2021-07-08",
          "2021-07-09",
          "2021-07-10",
          "2021-07-11",
          "2021-07-12",
          "2021-07-13",
          "2021-07-14",
          "2021-07-15",
          "2021-07-16",
          "2021-07-17",
          "2021-07-18",
          "2021-07-19",
          "2021-07-20",
          "2021-07-21",
          "2021-07-22",
          "2021-07-23",
          "2021-07-24",
          "2021-07-25",
          "2021-07-26",
          "2021-07-27",
          "2021-07-28",
          "2021-07-29",
          "2021-07-30",
          "2021-08-02",
          "2021-08-03",
          "2021-08-04",
          "2021-08-05",
          "2021-08-06",
          "2021-08-07",
          "2021-08-08",
          "2021-08-09",
          "2021-08-13",
          "2021-08-14",
          "2021-08-15",
          "2021-08-16",
          "2021-08-17",
          "2021-08-18",
          "2021-08-19",
          "2021-08-20",
          "2021-08-21",
          "2021-08-22",
          "2021-08-23",
          "2021-08-24",
          "2021-08-25",
          "2021-08-26",
          "2021-09-07",
          "2021-09-08",
          "2021-10-14",
          "2021-10-15",
          "2021-10-16",
          "2021-10-17",
          "2021-10-18",
          "2021-10-19",
          "2021-10-20",
          "2021-10-21",
          "2021-10-22",
          "2021-10-23",
          "2021-10-24",
          "2021-10-25",
          "2021-10-26",
          "2021-10-27",
          "2021-10-28",
          "2021-10-29",
          "2021-10-30",
          "2021-10-31",
          "2021-11-01",
          "2021-11-02",
          "2021-11-03",
          "2021-11-04",
          "2021-11-05",
          "2021-11-06",
          "2021-11-07",
          "2021-11-08",
          "2021-11-09",
          "2021-11-10",
          "2021-11-11",
          "2021-11-12",
          "2021-11-13",
          "2021-11-14",
          "2021-11-15",
          "2021-11-16",
          "2021-11-17",
          "2021-11-18",
          "2021-11-19",
          "2021-11-20",
          "2021-11-21",
          "2021-11-22",
          "2021-11-23",
          "2021-11-24",
          "2021-11-25",
          "2021-11-26",
          "2021-12-03",
          "2021-12-04",
          "2021-12-05",
          "2021-12-06",
          "2021-12-07",
          "2021-12-08",
          "2021-12-09",
          "2021-12-10",
          "2021-12-11",
          "2021-12-12",
          "2021-12-13",
          "2021-12-14",
          "2021-12-15",
          "2021-12-16",
          "2021-12-17",
          "2021-12-22",
          "2021-12-23",
          "2021-12-24",
          "2021-12-25",
          "2021-12-26",
          "2021-12-27",
          "2021-12-28",
          "2021-12-29",
          "2021-12-30",
          "2022-01-06",
          "2022-01-07",
          "2022-01-08",
          "2022-01-09",
          "2022-01-10",
          "2022-01-11",
          "2022-01-12",
          "2022-01-13",
          "2022-01-14",
          "2022-01-15",
          "2022-01-16",
          "2022-01-17",
          "2022-01-18",
          "2022-01-19",
          "2022-01-20",
          "2022-01-21",
          "2022-01-22",
          "2022-01-24",
          "2022-01-25",
          "2022-01-26",
          "2022-01-27",
          "2022-01-28",
          "2022-01-29",
          "2022-01-30",
          "2022-01-31",
          "2022-02-02",
          "2022-02-03",
          "2022-02-04",
          "2022-02-05",
          "2022-02-06",
          "2022-02-07",
          "2022-02-08",
          "2022-02-09",
          "2022-02-11",
          "2022-02-12",
          "2022-02-13",
          "2022-02-14",
          "2022-02-15",
          "2022-02-16",
          "2022-02-17",
          "2022-02-18",
          "2022-02-19",
          "2022-02-20",
          "2022-02-21",
          "2022-02-22",
          "2022-02-23",
          "2022-02-24",
          "2022-02-25",
          "2022-02-26",
          "2022-02-27",
          "2022-03-03",
          "2022-03-04",
          "2022-03-05",
          "2022-03-06",
          "2022-03-07",
          "2022-03-08",
          "2022-03-09",
          "2022-03-10",
          "2022-03-12",
          "2022-03-13",
          "2022-03-14",
          "2022-03-15",
          "2022-03-16",
          "2022-03-17",
          "2022-03-18",
          "2022-03-19",
          "2022-03-20",
          "2022-03-21",
          "2022-03-22",
          "2022-03-23",
          "2022-03-24",
          "2022-03-27",
          "2022-03-28",
          "2022-03-29",
          "2022-03-30",
          "2022-03-31",
          "2022-04-01",
          "2022-04-02",
          "2022-04-03",
          "2022-04-04",
          "2022-04-05",
          "2022-04-06",
          "2022-04-07",
          "2022-04-08",
          "2022-04-09",
          "2022-04-10",
          "2022-04-11",
          "2022-04-12",
          "2022-04-13",
          "2022-04-14",
          "2022-04-15",
          "2022-04-16",
          "2022-04-17",
          "2022-04-18",
          "2022-04-19",
          "2022-04-20",
          "2022-04-21",
          "2022-04-22"
         ],
         "xaxis": "x",
         "y": [
          389,
          884,
          1897,
          1583,
          2281,
          5127,
          2637,
          1721,
          2467,
          2017,
          1402,
          1813,
          2828,
          3642,
          4006,
          2760,
          2034,
          2489,
          2495,
          3124,
          2607,
          1952,
          3132,
          3315,
          3414,
          3993,
          4298,
          3097,
          2860,
          3732,
          2409,
          2476,
          2292,
          2379,
          2151,
          1705,
          2007,
          2186,
          2369,
          2735,
          2235,
          1842,
          1422,
          1716,
          1810,
          1784,
          2024,
          2378,
          1707,
          1592,
          1986,
          1851,
          2193,
          1337,
          1442,
          1297,
          1278,
          1949,
          416,
          4339,
          2630,
          4207,
          1988,
          1408,
          2114,
          3163,
          3198,
          3534,
          2817,
          2964,
          3063,
          1548,
          867,
          2447,
          532,
          2271,
          2225,
          70,
          2,
          250,
          1997,
          2456,
          83,
          1883,
          2420,
          2094,
          1945,
          1959,
          1503,
          1312,
          1206,
          829,
          876,
          547,
          549,
          950,
          1035,
          1110,
          1725,
          1103,
          1817,
          1320,
          1055,
          1455,
          125,
          1151,
          1023,
          732,
          1126,
          1277,
          979,
          912,
          1141,
          1182,
          1572,
          1391,
          1301,
          1249,
          1381,
          1473,
          1139,
          1000,
          1429,
          1613,
          1686,
          1802,
          2032,
          1957,
          2618,
          2898,
          1963,
          1499,
          1383,
          1135,
          1997,
          718,
          1358,
          1022,
          1321,
          1436,
          1345,
          1407,
          1536,
          1279,
          947,
          1688,
          1467,
          1216,
          1142,
          841,
          874,
          342,
          614,
          585,
          513,
          710,
          869,
          896,
          1830,
          961,
          683,
          570,
          676,
          949,
          735,
          628,
          864,
          577,
          423,
          542,
          553,
          926,
          929,
          867,
          744,
          460,
          656,
          834,
          986,
          777,
          786,
          676,
          745,
          751,
          922,
          778,
          734,
          757,
          518,
          440,
          636,
          541,
          576,
          459,
          505,
          216,
          1960,
          1355,
          842,
          729,
          843,
          500,
          573,
          504,
          445,
          643,
          670,
          674,
          657,
          719,
          1110,
          656,
          388,
          433,
          432,
          455,
          542,
          546,
          615,
          218,
          703,
          487,
          542,
          1256,
          2162,
          1935,
          893,
          157,
          445,
          778,
          720,
          801,
          573,
          654,
          500,
          488,
          448,
          511,
          392,
          568,
          544,
          518,
          507,
          566,
          377,
          428,
          409,
          419,
          438,
          506,
          539,
          492,
          280,
          343,
          279,
          329,
          430,
          428,
          328,
          308,
          72,
          237,
          374,
          376,
          339,
          253,
          301,
          218,
          177,
          80,
          275,
          211,
          219,
          300,
          368,
          285,
          243,
          179,
          193,
          299,
          247,
          286,
          232,
          212,
          174,
          216,
          250,
          231,
          247,
          245,
          36,
          188,
          241,
          210,
          215,
          191,
          153,
          149,
          232,
          218,
          230,
          210,
          278,
          267,
          204,
          256,
          234,
          223,
          213,
          217,
          182,
          140,
          182,
          195,
          187,
          213,
          206
         ],
         "yaxis": "y"
        }
       ],
       "layout": {
        "annotations": [
         {
          "arrowhead": 3,
          "bordercolor": "#c7c7c7",
          "showarrow": true,
          "text": "1st covid vaccine talk",
          "x": "2020-12-30T00:00:00",
          "y": 5127
         },
         {
          "arrowhead": 3,
          "bordercolor": "#c7c7c7",
          "showarrow": true,
          "text": "vaccination rollout",
          "x": "2021-03-12T00:00:00",
          "y": 4339,
          "yshift": 5
         },
         {
          "arrowhead": 3,
          "ay": -30,
          "bordercolor": "#c7c7c7",
          "showarrow": true,
          "text": "fda approve moderna vaccine",
          "x": "2022-01-11T00:00:00",
          "y": 2162,
          "yshift": 5
         }
        ],
        "hovermode": "x unified",
        "legend": {
         "tracegroupgap": 0
        },
        "margin": {
         "t": 60
        },
        "shapes": [
         {
          "line": {
           "color": "Red",
           "dash": "dashdot",
           "width": 2
          },
          "name": "Mean",
          "type": "line",
          "x0": "2020-12-25",
          "x1": "2022-04-22",
          "y0": 1073.05047318612,
          "y1": 1073.05047318612
         }
        ],
        "template": {
         "data": {
          "bar": [
           {
            "error_x": {
             "color": "#2a3f5f"
            },
            "error_y": {
             "color": "#2a3f5f"
            },
            "marker": {
             "line": {
              "color": "#E5ECF6",
              "width": 0.5
             },
             "pattern": {
              "fillmode": "overlay",
              "size": 10,
              "solidity": 0.2
             }
            },
            "type": "bar"
           }
          ],
          "barpolar": [
           {
            "marker": {
             "line": {
              "color": "#E5ECF6",
              "width": 0.5
             },
             "pattern": {
              "fillmode": "overlay",
              "size": 10,
              "solidity": 0.2
             }
            },
            "type": "barpolar"
           }
          ],
          "carpet": [
           {
            "aaxis": {
             "endlinecolor": "#2a3f5f",
             "gridcolor": "white",
             "linecolor": "white",
             "minorgridcolor": "white",
             "startlinecolor": "#2a3f5f"
            },
            "baxis": {
             "endlinecolor": "#2a3f5f",
             "gridcolor": "white",
             "linecolor": "white",
             "minorgridcolor": "white",
             "startlinecolor": "#2a3f5f"
            },
            "type": "carpet"
           }
          ],
          "choropleth": [
           {
            "colorbar": {
             "outlinewidth": 0,
             "ticks": ""
            },
            "type": "choropleth"
           }
          ],
          "contour": [
           {
            "colorbar": {
             "outlinewidth": 0,
             "ticks": ""
            },
            "colorscale": [
             [
              0,
              "#0d0887"
             ],
             [
              0.1111111111111111,
              "#46039f"
             ],
             [
              0.2222222222222222,
              "#7201a8"
             ],
             [
              0.3333333333333333,
              "#9c179e"
             ],
             [
              0.4444444444444444,
              "#bd3786"
             ],
             [
              0.5555555555555556,
              "#d8576b"
             ],
             [
              0.6666666666666666,
              "#ed7953"
             ],
             [
              0.7777777777777778,
              "#fb9f3a"
             ],
             [
              0.8888888888888888,
              "#fdca26"
             ],
             [
              1,
              "#f0f921"
             ]
            ],
            "type": "contour"
           }
          ],
          "contourcarpet": [
           {
            "colorbar": {
             "outlinewidth": 0,
             "ticks": ""
            },
            "type": "contourcarpet"
           }
          ],
          "heatmap": [
           {
            "colorbar": {
             "outlinewidth": 0,
             "ticks": ""
            },
            "colorscale": [
             [
              0,
              "#0d0887"
             ],
             [
              0.1111111111111111,
              "#46039f"
             ],
             [
              0.2222222222222222,
              "#7201a8"
             ],
             [
              0.3333333333333333,
              "#9c179e"
             ],
             [
              0.4444444444444444,
              "#bd3786"
             ],
             [
              0.5555555555555556,
              "#d8576b"
             ],
             [
              0.6666666666666666,
              "#ed7953"
             ],
             [
              0.7777777777777778,
              "#fb9f3a"
             ],
             [
              0.8888888888888888,
              "#fdca26"
             ],
             [
              1,
              "#f0f921"
             ]
            ],
            "type": "heatmap"
           }
          ],
          "heatmapgl": [
           {
            "colorbar": {
             "outlinewidth": 0,
             "ticks": ""
            },
            "colorscale": [
             [
              0,
              "#0d0887"
             ],
             [
              0.1111111111111111,
              "#46039f"
             ],
             [
              0.2222222222222222,
              "#7201a8"
             ],
             [
              0.3333333333333333,
              "#9c179e"
             ],
             [
              0.4444444444444444,
              "#bd3786"
             ],
             [
              0.5555555555555556,
              "#d8576b"
             ],
             [
              0.6666666666666666,
              "#ed7953"
             ],
             [
              0.7777777777777778,
              "#fb9f3a"
             ],
             [
              0.8888888888888888,
              "#fdca26"
             ],
             [
              1,
              "#f0f921"
             ]
            ],
            "type": "heatmapgl"
           }
          ],
          "histogram": [
           {
            "marker": {
             "pattern": {
              "fillmode": "overlay",
              "size": 10,
              "solidity": 0.2
             }
            },
            "type": "histogram"
           }
          ],
          "histogram2d": [
           {
            "colorbar": {
             "outlinewidth": 0,
             "ticks": ""
            },
            "colorscale": [
             [
              0,
              "#0d0887"
             ],
             [
              0.1111111111111111,
              "#46039f"
             ],
             [
              0.2222222222222222,
              "#7201a8"
             ],
             [
              0.3333333333333333,
              "#9c179e"
             ],
             [
              0.4444444444444444,
              "#bd3786"
             ],
             [
              0.5555555555555556,
              "#d8576b"
             ],
             [
              0.6666666666666666,
              "#ed7953"
             ],
             [
              0.7777777777777778,
              "#fb9f3a"
             ],
             [
              0.8888888888888888,
              "#fdca26"
             ],
             [
              1,
              "#f0f921"
             ]
            ],
            "type": "histogram2d"
           }
          ],
          "histogram2dcontour": [
           {
            "colorbar": {
             "outlinewidth": 0,
             "ticks": ""
            },
            "colorscale": [
             [
              0,
              "#0d0887"
             ],
             [
              0.1111111111111111,
              "#46039f"
             ],
             [
              0.2222222222222222,
              "#7201a8"
             ],
             [
              0.3333333333333333,
              "#9c179e"
             ],
             [
              0.4444444444444444,
              "#bd3786"
             ],
             [
              0.5555555555555556,
              "#d8576b"
             ],
             [
              0.6666666666666666,
              "#ed7953"
             ],
             [
              0.7777777777777778,
              "#fb9f3a"
             ],
             [
              0.8888888888888888,
              "#fdca26"
             ],
             [
              1,
              "#f0f921"
             ]
            ],
            "type": "histogram2dcontour"
           }
          ],
          "mesh3d": [
           {
            "colorbar": {
             "outlinewidth": 0,
             "ticks": ""
            },
            "type": "mesh3d"
           }
          ],
          "parcoords": [
           {
            "line": {
             "colorbar": {
              "outlinewidth": 0,
              "ticks": ""
             }
            },
            "type": "parcoords"
           }
          ],
          "pie": [
           {
            "automargin": true,
            "type": "pie"
           }
          ],
          "scatter": [
           {
            "marker": {
             "colorbar": {
              "outlinewidth": 0,
              "ticks": ""
             }
            },
            "type": "scatter"
           }
          ],
          "scatter3d": [
           {
            "line": {
             "colorbar": {
              "outlinewidth": 0,
              "ticks": ""
             }
            },
            "marker": {
             "colorbar": {
              "outlinewidth": 0,
              "ticks": ""
             }
            },
            "type": "scatter3d"
           }
          ],
          "scattercarpet": [
           {
            "marker": {
             "colorbar": {
              "outlinewidth": 0,
              "ticks": ""
             }
            },
            "type": "scattercarpet"
           }
          ],
          "scattergeo": [
           {
            "marker": {
             "colorbar": {
              "outlinewidth": 0,
              "ticks": ""
             }
            },
            "type": "scattergeo"
           }
          ],
          "scattergl": [
           {
            "marker": {
             "colorbar": {
              "outlinewidth": 0,
              "ticks": ""
             }
            },
            "type": "scattergl"
           }
          ],
          "scattermapbox": [
           {
            "marker": {
             "colorbar": {
              "outlinewidth": 0,
              "ticks": ""
             }
            },
            "type": "scattermapbox"
           }
          ],
          "scatterpolar": [
           {
            "marker": {
             "colorbar": {
              "outlinewidth": 0,
              "ticks": ""
             }
            },
            "type": "scatterpolar"
           }
          ],
          "scatterpolargl": [
           {
            "marker": {
             "colorbar": {
              "outlinewidth": 0,
              "ticks": ""
             }
            },
            "type": "scatterpolargl"
           }
          ],
          "scatterternary": [
           {
            "marker": {
             "colorbar": {
              "outlinewidth": 0,
              "ticks": ""
             }
            },
            "type": "scatterternary"
           }
          ],
          "surface": [
           {
            "colorbar": {
             "outlinewidth": 0,
             "ticks": ""
            },
            "colorscale": [
             [
              0,
              "#0d0887"
             ],
             [
              0.1111111111111111,
              "#46039f"
             ],
             [
              0.2222222222222222,
              "#7201a8"
             ],
             [
              0.3333333333333333,
              "#9c179e"
             ],
             [
              0.4444444444444444,
              "#bd3786"
             ],
             [
              0.5555555555555556,
              "#d8576b"
             ],
             [
              0.6666666666666666,
              "#ed7953"
             ],
             [
              0.7777777777777778,
              "#fb9f3a"
             ],
             [
              0.8888888888888888,
              "#fdca26"
             ],
             [
              1,
              "#f0f921"
             ]
            ],
            "type": "surface"
           }
          ],
          "table": [
           {
            "cells": {
             "fill": {
              "color": "#EBF0F8"
             },
             "line": {
              "color": "white"
             }
            },
            "header": {
             "fill": {
              "color": "#C8D4E3"
             },
             "line": {
              "color": "white"
             }
            },
            "type": "table"
           }
          ]
         },
         "layout": {
          "annotationdefaults": {
           "arrowcolor": "#2a3f5f",
           "arrowhead": 0,
           "arrowwidth": 1
          },
          "autotypenumbers": "strict",
          "coloraxis": {
           "colorbar": {
            "outlinewidth": 0,
            "ticks": ""
           }
          },
          "colorscale": {
           "diverging": [
            [
             0,
             "#8e0152"
            ],
            [
             0.1,
             "#c51b7d"
            ],
            [
             0.2,
             "#de77ae"
            ],
            [
             0.3,
             "#f1b6da"
            ],
            [
             0.4,
             "#fde0ef"
            ],
            [
             0.5,
             "#f7f7f7"
            ],
            [
             0.6,
             "#e6f5d0"
            ],
            [
             0.7,
             "#b8e186"
            ],
            [
             0.8,
             "#7fbc41"
            ],
            [
             0.9,
             "#4d9221"
            ],
            [
             1,
             "#276419"
            ]
           ],
           "sequential": [
            [
             0,
             "#0d0887"
            ],
            [
             0.1111111111111111,
             "#46039f"
            ],
            [
             0.2222222222222222,
             "#7201a8"
            ],
            [
             0.3333333333333333,
             "#9c179e"
            ],
            [
             0.4444444444444444,
             "#bd3786"
            ],
            [
             0.5555555555555556,
             "#d8576b"
            ],
            [
             0.6666666666666666,
             "#ed7953"
            ],
            [
             0.7777777777777778,
             "#fb9f3a"
            ],
            [
             0.8888888888888888,
             "#fdca26"
            ],
            [
             1,
             "#f0f921"
            ]
           ],
           "sequentialminus": [
            [
             0,
             "#0d0887"
            ],
            [
             0.1111111111111111,
             "#46039f"
            ],
            [
             0.2222222222222222,
             "#7201a8"
            ],
            [
             0.3333333333333333,
             "#9c179e"
            ],
            [
             0.4444444444444444,
             "#bd3786"
            ],
            [
             0.5555555555555556,
             "#d8576b"
            ],
            [
             0.6666666666666666,
             "#ed7953"
            ],
            [
             0.7777777777777778,
             "#fb9f3a"
            ],
            [
             0.8888888888888888,
             "#fdca26"
            ],
            [
             1,
             "#f0f921"
            ]
           ]
          },
          "colorway": [
           "#636efa",
           "#EF553B",
           "#00cc96",
           "#ab63fa",
           "#FFA15A",
           "#19d3f3",
           "#FF6692",
           "#B6E880",
           "#FF97FF",
           "#FECB52"
          ],
          "font": {
           "color": "#2a3f5f"
          },
          "geo": {
           "bgcolor": "white",
           "lakecolor": "white",
           "landcolor": "#E5ECF6",
           "showlakes": true,
           "showland": true,
           "subunitcolor": "white"
          },
          "hoverlabel": {
           "align": "left"
          },
          "hovermode": "closest",
          "mapbox": {
           "style": "light"
          },
          "paper_bgcolor": "white",
          "plot_bgcolor": "#E5ECF6",
          "polar": {
           "angularaxis": {
            "gridcolor": "white",
            "linecolor": "white",
            "ticks": ""
           },
           "bgcolor": "#E5ECF6",
           "radialaxis": {
            "gridcolor": "white",
            "linecolor": "white",
            "ticks": ""
           }
          },
          "scene": {
           "xaxis": {
            "backgroundcolor": "#E5ECF6",
            "gridcolor": "white",
            "gridwidth": 2,
            "linecolor": "white",
            "showbackground": true,
            "ticks": "",
            "zerolinecolor": "white"
           },
           "yaxis": {
            "backgroundcolor": "#E5ECF6",
            "gridcolor": "white",
            "gridwidth": 2,
            "linecolor": "white",
            "showbackground": true,
            "ticks": "",
            "zerolinecolor": "white"
           },
           "zaxis": {
            "backgroundcolor": "#E5ECF6",
            "gridcolor": "white",
            "gridwidth": 2,
            "linecolor": "white",
            "showbackground": true,
            "ticks": "",
            "zerolinecolor": "white"
           }
          },
          "shapedefaults": {
           "line": {
            "color": "#2a3f5f"
           }
          },
          "ternary": {
           "aaxis": {
            "gridcolor": "white",
            "linecolor": "white",
            "ticks": ""
           },
           "baxis": {
            "gridcolor": "white",
            "linecolor": "white",
            "ticks": ""
           },
           "bgcolor": "#E5ECF6",
           "caxis": {
            "gridcolor": "white",
            "linecolor": "white",
            "ticks": ""
           }
          },
          "title": {
           "x": 0.05
          },
          "xaxis": {
           "automargin": true,
           "gridcolor": "white",
           "linecolor": "white",
           "ticks": "",
           "title": {
            "standoff": 15
           },
           "zerolinecolor": "white",
           "zerolinewidth": 2
          },
          "yaxis": {
           "automargin": true,
           "gridcolor": "white",
           "linecolor": "white",
           "ticks": "",
           "title": {
            "standoff": 15
           },
           "zerolinecolor": "white",
           "zerolinewidth": 2
          }
         }
        },
        "title": {
         "text": "<b>Daily Tweets<b>"
        },
        "width": 1000,
        "xaxis": {
         "anchor": "y",
         "domain": [
          0,
          1
         ],
         "title": {
          "text": "date"
         }
        },
        "yaxis": {
         "anchor": "x",
         "domain": [
          0,
          1
         ],
         "title": {
          "text": "Tweets Per Day"
         }
        }
       }
      },
      "text/html": [
       "<div>                            <div id=\"4904569a-bcb2-4381-ac53-06afdbca0522\" class=\"plotly-graph-div\" style=\"height:525px; width:1000px;\"></div>            <script type=\"text/javascript\">                require([\"plotly\"], function(Plotly) {                    window.PLOTLYENV=window.PLOTLYENV || {};                                    if (document.getElementById(\"4904569a-bcb2-4381-ac53-06afdbca0522\")) {                    Plotly.newPlot(                        \"4904569a-bcb2-4381-ac53-06afdbca0522\",                        [{\"hovertemplate\":\"date=%{x}<br>Tweets Per Day=%{y}<extra></extra>\",\"legendgroup\":\"\",\"line\":{\"color\":\"#636efa\",\"dash\":\"solid\"},\"marker\":{\"symbol\":\"circle\"},\"mode\":\"markers+lines\",\"name\":\"\",\"orientation\":\"v\",\"showlegend\":false,\"x\":[\"2020-12-25\",\"2020-12-26\",\"2020-12-27\",\"2020-12-28\",\"2020-12-29\",\"2020-12-30\",\"2020-12-31\",\"2021-01-01\",\"2021-01-08\",\"2021-01-09\",\"2021-01-10\",\"2021-01-11\",\"2021-01-12\",\"2021-01-13\",\"2021-01-14\",\"2021-01-15\",\"2021-01-19\",\"2021-01-20\",\"2021-01-21\",\"2021-01-22\",\"2021-01-23\",\"2021-01-24\",\"2021-01-25\",\"2021-01-26\",\"2021-01-27\",\"2021-01-28\",\"2021-01-29\",\"2021-01-30\",\"2021-01-31\",\"2021-02-01\",\"2021-02-02\",\"2021-02-03\",\"2021-02-04\",\"2021-02-05\",\"2021-02-06\",\"2021-02-07\",\"2021-02-08\",\"2021-02-09\",\"2021-02-10\",\"2021-02-11\",\"2021-02-12\",\"2021-02-13\",\"2021-02-14\",\"2021-02-15\",\"2021-02-16\",\"2021-02-17\",\"2021-02-18\",\"2021-02-19\",\"2021-02-20\",\"2021-02-21\",\"2021-02-22\",\"2021-02-23\",\"2021-02-24\",\"2021-02-25\",\"2021-02-26\",\"2021-02-27\",\"2021-02-28\",\"2021-03-04\",\"2021-03-11\",\"2021-03-12\",\"2021-03-18\",\"2021-03-19\",\"2021-03-20\",\"2021-03-21\",\"2021-03-22\",\"2021-03-23\",\"2021-03-24\",\"2021-03-25\",\"2021-04-07\",\"2021-04-08\",\"2021-04-09\",\"2021-04-10\",\"2021-04-11\",\"2021-04-12\",\"2021-04-20\",\"2021-04-21\",\"2021-04-22\",\"2021-04-23\",\"2021-04-24\",\"2021-04-25\",\"2021-04-26\",\"2021-04-27\",\"2021-05-23\",\"2021-05-24\",\"2021-05-25\",\"2021-05-26\",\"2021-05-27\",\"2021-05-28\",\"2021-05-29\",\"2021-06-15\",\"2021-06-16\",\"2021-06-17\",\"2021-06-18\",\"2021-06-19\",\"2021-06-20\",\"2021-06-21\",\"2021-06-22\",\"2021-06-23\",\"2021-06-30\",\"2021-07-01\",\"2021-07-02\",\"2021-07-03\",\"2021-07-04\",\"2021-07-05\",\"2021-07-08\",\"2021-07-09\",\"2021-07-10\",\"2021-07-11\",\"2021-07-12\",\"2021-07-13\",\"2021-07-14\",\"2021-07-15\",\"2021-07-16\",\"2021-07-17\",\"2021-07-18\",\"2021-07-19\",\"2021-07-20\",\"2021-07-21\",\"2021-07-22\",\"2021-07-23\",\"2021-07-24\",\"2021-07-25\",\"2021-07-26\",\"2021-07-27\",\"2021-07-28\",\"2021-07-29\",\"2021-07-30\",\"2021-08-02\",\"2021-08-03\",\"2021-08-04\",\"2021-08-05\",\"2021-08-06\",\"2021-08-07\",\"2021-08-08\",\"2021-08-09\",\"2021-08-13\",\"2021-08-14\",\"2021-08-15\",\"2021-08-16\",\"2021-08-17\",\"2021-08-18\",\"2021-08-19\",\"2021-08-20\",\"2021-08-21\",\"2021-08-22\",\"2021-08-23\",\"2021-08-24\",\"2021-08-25\",\"2021-08-26\",\"2021-09-07\",\"2021-09-08\",\"2021-10-14\",\"2021-10-15\",\"2021-10-16\",\"2021-10-17\",\"2021-10-18\",\"2021-10-19\",\"2021-10-20\",\"2021-10-21\",\"2021-10-22\",\"2021-10-23\",\"2021-10-24\",\"2021-10-25\",\"2021-10-26\",\"2021-10-27\",\"2021-10-28\",\"2021-10-29\",\"2021-10-30\",\"2021-10-31\",\"2021-11-01\",\"2021-11-02\",\"2021-11-03\",\"2021-11-04\",\"2021-11-05\",\"2021-11-06\",\"2021-11-07\",\"2021-11-08\",\"2021-11-09\",\"2021-11-10\",\"2021-11-11\",\"2021-11-12\",\"2021-11-13\",\"2021-11-14\",\"2021-11-15\",\"2021-11-16\",\"2021-11-17\",\"2021-11-18\",\"2021-11-19\",\"2021-11-20\",\"2021-11-21\",\"2021-11-22\",\"2021-11-23\",\"2021-11-24\",\"2021-11-25\",\"2021-11-26\",\"2021-12-03\",\"2021-12-04\",\"2021-12-05\",\"2021-12-06\",\"2021-12-07\",\"2021-12-08\",\"2021-12-09\",\"2021-12-10\",\"2021-12-11\",\"2021-12-12\",\"2021-12-13\",\"2021-12-14\",\"2021-12-15\",\"2021-12-16\",\"2021-12-17\",\"2021-12-22\",\"2021-12-23\",\"2021-12-24\",\"2021-12-25\",\"2021-12-26\",\"2021-12-27\",\"2021-12-28\",\"2021-12-29\",\"2021-12-30\",\"2022-01-06\",\"2022-01-07\",\"2022-01-08\",\"2022-01-09\",\"2022-01-10\",\"2022-01-11\",\"2022-01-12\",\"2022-01-13\",\"2022-01-14\",\"2022-01-15\",\"2022-01-16\",\"2022-01-17\",\"2022-01-18\",\"2022-01-19\",\"2022-01-20\",\"2022-01-21\",\"2022-01-22\",\"2022-01-24\",\"2022-01-25\",\"2022-01-26\",\"2022-01-27\",\"2022-01-28\",\"2022-01-29\",\"2022-01-30\",\"2022-01-31\",\"2022-02-02\",\"2022-02-03\",\"2022-02-04\",\"2022-02-05\",\"2022-02-06\",\"2022-02-07\",\"2022-02-08\",\"2022-02-09\",\"2022-02-11\",\"2022-02-12\",\"2022-02-13\",\"2022-02-14\",\"2022-02-15\",\"2022-02-16\",\"2022-02-17\",\"2022-02-18\",\"2022-02-19\",\"2022-02-20\",\"2022-02-21\",\"2022-02-22\",\"2022-02-23\",\"2022-02-24\",\"2022-02-25\",\"2022-02-26\",\"2022-02-27\",\"2022-03-03\",\"2022-03-04\",\"2022-03-05\",\"2022-03-06\",\"2022-03-07\",\"2022-03-08\",\"2022-03-09\",\"2022-03-10\",\"2022-03-12\",\"2022-03-13\",\"2022-03-14\",\"2022-03-15\",\"2022-03-16\",\"2022-03-17\",\"2022-03-18\",\"2022-03-19\",\"2022-03-20\",\"2022-03-21\",\"2022-03-22\",\"2022-03-23\",\"2022-03-24\",\"2022-03-27\",\"2022-03-28\",\"2022-03-29\",\"2022-03-30\",\"2022-03-31\",\"2022-04-01\",\"2022-04-02\",\"2022-04-03\",\"2022-04-04\",\"2022-04-05\",\"2022-04-06\",\"2022-04-07\",\"2022-04-08\",\"2022-04-09\",\"2022-04-10\",\"2022-04-11\",\"2022-04-12\",\"2022-04-13\",\"2022-04-14\",\"2022-04-15\",\"2022-04-16\",\"2022-04-17\",\"2022-04-18\",\"2022-04-19\",\"2022-04-20\",\"2022-04-21\",\"2022-04-22\"],\"xaxis\":\"x\",\"y\":[389,884,1897,1583,2281,5127,2637,1721,2467,2017,1402,1813,2828,3642,4006,2760,2034,2489,2495,3124,2607,1952,3132,3315,3414,3993,4298,3097,2860,3732,2409,2476,2292,2379,2151,1705,2007,2186,2369,2735,2235,1842,1422,1716,1810,1784,2024,2378,1707,1592,1986,1851,2193,1337,1442,1297,1278,1949,416,4339,2630,4207,1988,1408,2114,3163,3198,3534,2817,2964,3063,1548,867,2447,532,2271,2225,70,2,250,1997,2456,83,1883,2420,2094,1945,1959,1503,1312,1206,829,876,547,549,950,1035,1110,1725,1103,1817,1320,1055,1455,125,1151,1023,732,1126,1277,979,912,1141,1182,1572,1391,1301,1249,1381,1473,1139,1000,1429,1613,1686,1802,2032,1957,2618,2898,1963,1499,1383,1135,1997,718,1358,1022,1321,1436,1345,1407,1536,1279,947,1688,1467,1216,1142,841,874,342,614,585,513,710,869,896,1830,961,683,570,676,949,735,628,864,577,423,542,553,926,929,867,744,460,656,834,986,777,786,676,745,751,922,778,734,757,518,440,636,541,576,459,505,216,1960,1355,842,729,843,500,573,504,445,643,670,674,657,719,1110,656,388,433,432,455,542,546,615,218,703,487,542,1256,2162,1935,893,157,445,778,720,801,573,654,500,488,448,511,392,568,544,518,507,566,377,428,409,419,438,506,539,492,280,343,279,329,430,428,328,308,72,237,374,376,339,253,301,218,177,80,275,211,219,300,368,285,243,179,193,299,247,286,232,212,174,216,250,231,247,245,36,188,241,210,215,191,153,149,232,218,230,210,278,267,204,256,234,223,213,217,182,140,182,195,187,213,206],\"yaxis\":\"y\",\"type\":\"scatter\"}],                        {\"template\":{\"data\":{\"bar\":[{\"error_x\":{\"color\":\"#2a3f5f\"},\"error_y\":{\"color\":\"#2a3f5f\"},\"marker\":{\"line\":{\"color\":\"#E5ECF6\",\"width\":0.5},\"pattern\":{\"fillmode\":\"overlay\",\"size\":10,\"solidity\":0.2}},\"type\":\"bar\"}],\"barpolar\":[{\"marker\":{\"line\":{\"color\":\"#E5ECF6\",\"width\":0.5},\"pattern\":{\"fillmode\":\"overlay\",\"size\":10,\"solidity\":0.2}},\"type\":\"barpolar\"}],\"carpet\":[{\"aaxis\":{\"endlinecolor\":\"#2a3f5f\",\"gridcolor\":\"white\",\"linecolor\":\"white\",\"minorgridcolor\":\"white\",\"startlinecolor\":\"#2a3f5f\"},\"baxis\":{\"endlinecolor\":\"#2a3f5f\",\"gridcolor\":\"white\",\"linecolor\":\"white\",\"minorgridcolor\":\"white\",\"startlinecolor\":\"#2a3f5f\"},\"type\":\"carpet\"}],\"choropleth\":[{\"colorbar\":{\"outlinewidth\":0,\"ticks\":\"\"},\"type\":\"choropleth\"}],\"contour\":[{\"colorbar\":{\"outlinewidth\":0,\"ticks\":\"\"},\"colorscale\":[[0.0,\"#0d0887\"],[0.1111111111111111,\"#46039f\"],[0.2222222222222222,\"#7201a8\"],[0.3333333333333333,\"#9c179e\"],[0.4444444444444444,\"#bd3786\"],[0.5555555555555556,\"#d8576b\"],[0.6666666666666666,\"#ed7953\"],[0.7777777777777778,\"#fb9f3a\"],[0.8888888888888888,\"#fdca26\"],[1.0,\"#f0f921\"]],\"type\":\"contour\"}],\"contourcarpet\":[{\"colorbar\":{\"outlinewidth\":0,\"ticks\":\"\"},\"type\":\"contourcarpet\"}],\"heatmap\":[{\"colorbar\":{\"outlinewidth\":0,\"ticks\":\"\"},\"colorscale\":[[0.0,\"#0d0887\"],[0.1111111111111111,\"#46039f\"],[0.2222222222222222,\"#7201a8\"],[0.3333333333333333,\"#9c179e\"],[0.4444444444444444,\"#bd3786\"],[0.5555555555555556,\"#d8576b\"],[0.6666666666666666,\"#ed7953\"],[0.7777777777777778,\"#fb9f3a\"],[0.8888888888888888,\"#fdca26\"],[1.0,\"#f0f921\"]],\"type\":\"heatmap\"}],\"heatmapgl\":[{\"colorbar\":{\"outlinewidth\":0,\"ticks\":\"\"},\"colorscale\":[[0.0,\"#0d0887\"],[0.1111111111111111,\"#46039f\"],[0.2222222222222222,\"#7201a8\"],[0.3333333333333333,\"#9c179e\"],[0.4444444444444444,\"#bd3786\"],[0.5555555555555556,\"#d8576b\"],[0.6666666666666666,\"#ed7953\"],[0.7777777777777778,\"#fb9f3a\"],[0.8888888888888888,\"#fdca26\"],[1.0,\"#f0f921\"]],\"type\":\"heatmapgl\"}],\"histogram\":[{\"marker\":{\"pattern\":{\"fillmode\":\"overlay\",\"size\":10,\"solidity\":0.2}},\"type\":\"histogram\"}],\"histogram2d\":[{\"colorbar\":{\"outlinewidth\":0,\"ticks\":\"\"},\"colorscale\":[[0.0,\"#0d0887\"],[0.1111111111111111,\"#46039f\"],[0.2222222222222222,\"#7201a8\"],[0.3333333333333333,\"#9c179e\"],[0.4444444444444444,\"#bd3786\"],[0.5555555555555556,\"#d8576b\"],[0.6666666666666666,\"#ed7953\"],[0.7777777777777778,\"#fb9f3a\"],[0.8888888888888888,\"#fdca26\"],[1.0,\"#f0f921\"]],\"type\":\"histogram2d\"}],\"histogram2dcontour\":[{\"colorbar\":{\"outlinewidth\":0,\"ticks\":\"\"},\"colorscale\":[[0.0,\"#0d0887\"],[0.1111111111111111,\"#46039f\"],[0.2222222222222222,\"#7201a8\"],[0.3333333333333333,\"#9c179e\"],[0.4444444444444444,\"#bd3786\"],[0.5555555555555556,\"#d8576b\"],[0.6666666666666666,\"#ed7953\"],[0.7777777777777778,\"#fb9f3a\"],[0.8888888888888888,\"#fdca26\"],[1.0,\"#f0f921\"]],\"type\":\"histogram2dcontour\"}],\"mesh3d\":[{\"colorbar\":{\"outlinewidth\":0,\"ticks\":\"\"},\"type\":\"mesh3d\"}],\"parcoords\":[{\"line\":{\"colorbar\":{\"outlinewidth\":0,\"ticks\":\"\"}},\"type\":\"parcoords\"}],\"pie\":[{\"automargin\":true,\"type\":\"pie\"}],\"scatter\":[{\"marker\":{\"colorbar\":{\"outlinewidth\":0,\"ticks\":\"\"}},\"type\":\"scatter\"}],\"scatter3d\":[{\"line\":{\"colorbar\":{\"outlinewidth\":0,\"ticks\":\"\"}},\"marker\":{\"colorbar\":{\"outlinewidth\":0,\"ticks\":\"\"}},\"type\":\"scatter3d\"}],\"scattercarpet\":[{\"marker\":{\"colorbar\":{\"outlinewidth\":0,\"ticks\":\"\"}},\"type\":\"scattercarpet\"}],\"scattergeo\":[{\"marker\":{\"colorbar\":{\"outlinewidth\":0,\"ticks\":\"\"}},\"type\":\"scattergeo\"}],\"scattergl\":[{\"marker\":{\"colorbar\":{\"outlinewidth\":0,\"ticks\":\"\"}},\"type\":\"scattergl\"}],\"scattermapbox\":[{\"marker\":{\"colorbar\":{\"outlinewidth\":0,\"ticks\":\"\"}},\"type\":\"scattermapbox\"}],\"scatterpolar\":[{\"marker\":{\"colorbar\":{\"outlinewidth\":0,\"ticks\":\"\"}},\"type\":\"scatterpolar\"}],\"scatterpolargl\":[{\"marker\":{\"colorbar\":{\"outlinewidth\":0,\"ticks\":\"\"}},\"type\":\"scatterpolargl\"}],\"scatterternary\":[{\"marker\":{\"colorbar\":{\"outlinewidth\":0,\"ticks\":\"\"}},\"type\":\"scatterternary\"}],\"surface\":[{\"colorbar\":{\"outlinewidth\":0,\"ticks\":\"\"},\"colorscale\":[[0.0,\"#0d0887\"],[0.1111111111111111,\"#46039f\"],[0.2222222222222222,\"#7201a8\"],[0.3333333333333333,\"#9c179e\"],[0.4444444444444444,\"#bd3786\"],[0.5555555555555556,\"#d8576b\"],[0.6666666666666666,\"#ed7953\"],[0.7777777777777778,\"#fb9f3a\"],[0.8888888888888888,\"#fdca26\"],[1.0,\"#f0f921\"]],\"type\":\"surface\"}],\"table\":[{\"cells\":{\"fill\":{\"color\":\"#EBF0F8\"},\"line\":{\"color\":\"white\"}},\"header\":{\"fill\":{\"color\":\"#C8D4E3\"},\"line\":{\"color\":\"white\"}},\"type\":\"table\"}]},\"layout\":{\"annotationdefaults\":{\"arrowcolor\":\"#2a3f5f\",\"arrowhead\":0,\"arrowwidth\":1},\"autotypenumbers\":\"strict\",\"coloraxis\":{\"colorbar\":{\"outlinewidth\":0,\"ticks\":\"\"}},\"colorscale\":{\"diverging\":[[0,\"#8e0152\"],[0.1,\"#c51b7d\"],[0.2,\"#de77ae\"],[0.3,\"#f1b6da\"],[0.4,\"#fde0ef\"],[0.5,\"#f7f7f7\"],[0.6,\"#e6f5d0\"],[0.7,\"#b8e186\"],[0.8,\"#7fbc41\"],[0.9,\"#4d9221\"],[1,\"#276419\"]],\"sequential\":[[0.0,\"#0d0887\"],[0.1111111111111111,\"#46039f\"],[0.2222222222222222,\"#7201a8\"],[0.3333333333333333,\"#9c179e\"],[0.4444444444444444,\"#bd3786\"],[0.5555555555555556,\"#d8576b\"],[0.6666666666666666,\"#ed7953\"],[0.7777777777777778,\"#fb9f3a\"],[0.8888888888888888,\"#fdca26\"],[1.0,\"#f0f921\"]],\"sequentialminus\":[[0.0,\"#0d0887\"],[0.1111111111111111,\"#46039f\"],[0.2222222222222222,\"#7201a8\"],[0.3333333333333333,\"#9c179e\"],[0.4444444444444444,\"#bd3786\"],[0.5555555555555556,\"#d8576b\"],[0.6666666666666666,\"#ed7953\"],[0.7777777777777778,\"#fb9f3a\"],[0.8888888888888888,\"#fdca26\"],[1.0,\"#f0f921\"]]},\"colorway\":[\"#636efa\",\"#EF553B\",\"#00cc96\",\"#ab63fa\",\"#FFA15A\",\"#19d3f3\",\"#FF6692\",\"#B6E880\",\"#FF97FF\",\"#FECB52\"],\"font\":{\"color\":\"#2a3f5f\"},\"geo\":{\"bgcolor\":\"white\",\"lakecolor\":\"white\",\"landcolor\":\"#E5ECF6\",\"showlakes\":true,\"showland\":true,\"subunitcolor\":\"white\"},\"hoverlabel\":{\"align\":\"left\"},\"hovermode\":\"closest\",\"mapbox\":{\"style\":\"light\"},\"paper_bgcolor\":\"white\",\"plot_bgcolor\":\"#E5ECF6\",\"polar\":{\"angularaxis\":{\"gridcolor\":\"white\",\"linecolor\":\"white\",\"ticks\":\"\"},\"bgcolor\":\"#E5ECF6\",\"radialaxis\":{\"gridcolor\":\"white\",\"linecolor\":\"white\",\"ticks\":\"\"}},\"scene\":{\"xaxis\":{\"backgroundcolor\":\"#E5ECF6\",\"gridcolor\":\"white\",\"gridwidth\":2,\"linecolor\":\"white\",\"showbackground\":true,\"ticks\":\"\",\"zerolinecolor\":\"white\"},\"yaxis\":{\"backgroundcolor\":\"#E5ECF6\",\"gridcolor\":\"white\",\"gridwidth\":2,\"linecolor\":\"white\",\"showbackground\":true,\"ticks\":\"\",\"zerolinecolor\":\"white\"},\"zaxis\":{\"backgroundcolor\":\"#E5ECF6\",\"gridcolor\":\"white\",\"gridwidth\":2,\"linecolor\":\"white\",\"showbackground\":true,\"ticks\":\"\",\"zerolinecolor\":\"white\"}},\"shapedefaults\":{\"line\":{\"color\":\"#2a3f5f\"}},\"ternary\":{\"aaxis\":{\"gridcolor\":\"white\",\"linecolor\":\"white\",\"ticks\":\"\"},\"baxis\":{\"gridcolor\":\"white\",\"linecolor\":\"white\",\"ticks\":\"\"},\"bgcolor\":\"#E5ECF6\",\"caxis\":{\"gridcolor\":\"white\",\"linecolor\":\"white\",\"ticks\":\"\"}},\"title\":{\"x\":0.05},\"xaxis\":{\"automargin\":true,\"gridcolor\":\"white\",\"linecolor\":\"white\",\"ticks\":\"\",\"title\":{\"standoff\":15},\"zerolinecolor\":\"white\",\"zerolinewidth\":2},\"yaxis\":{\"automargin\":true,\"gridcolor\":\"white\",\"linecolor\":\"white\",\"ticks\":\"\",\"title\":{\"standoff\":15},\"zerolinecolor\":\"white\",\"zerolinewidth\":2}}},\"xaxis\":{\"anchor\":\"y\",\"domain\":[0.0,1.0],\"title\":{\"text\":\"date\"}},\"yaxis\":{\"anchor\":\"x\",\"domain\":[0.0,1.0],\"title\":{\"text\":\"Tweets Per Day\"}},\"legend\":{\"tracegroupgap\":0},\"margin\":{\"t\":60},\"shapes\":[{\"line\":{\"color\":\"Red\",\"dash\":\"dashdot\",\"width\":2},\"name\":\"Mean\",\"type\":\"line\",\"x0\":\"2020-12-25\",\"x1\":\"2022-04-22\",\"y0\":1073.05047318612,\"y1\":1073.05047318612}],\"hovermode\":\"x unified\",\"annotations\":[{\"arrowhead\":3,\"bordercolor\":\"#c7c7c7\",\"showarrow\":true,\"text\":\"1st covid vaccine talk\",\"x\":\"2020-12-30T00:00:00\",\"y\":5127},{\"arrowhead\":3,\"bordercolor\":\"#c7c7c7\",\"showarrow\":true,\"text\":\"vaccination rollout\",\"x\":\"2021-03-12T00:00:00\",\"y\":4339,\"yshift\":5},{\"arrowhead\":3,\"ay\":-30,\"bordercolor\":\"#c7c7c7\",\"showarrow\":true,\"text\":\"fda approve moderna vaccine\",\"x\":\"2022-01-11T00:00:00\",\"y\":2162,\"yshift\":5}],\"title\":{\"text\":\"<b>Daily Tweets<b>\"},\"width\":1000},                        {\"responsive\": true}                    ).then(function(){\n",
       "                            \n",
       "var gd = document.getElementById('4904569a-bcb2-4381-ac53-06afdbca0522');\n",
       "var x = new MutationObserver(function (mutations, observer) {{\n",
       "        var display = window.getComputedStyle(gd).display;\n",
       "        if (!display || display === 'none') {{\n",
       "            console.log([gd, 'removed!']);\n",
       "            Plotly.purge(gd);\n",
       "            observer.disconnect();\n",
       "        }}\n",
       "}});\n",
       "\n",
       "// Listen for the removal of the full notebook cells\n",
       "var notebookContainer = gd.closest('#notebook-container');\n",
       "if (notebookContainer) {{\n",
       "    x.observe(notebookContainer, {childList: true});\n",
       "}}\n",
       "\n",
       "// Listen for the clearing of the current output cell\n",
       "var outputEl = gd.closest('.output');\n",
       "if (outputEl) {{\n",
       "    x.observe(outputEl, {childList: true});\n",
       "}}\n",
       "\n",
       "                        })                };                });            </script>        </div>"
      ]
     },
     "metadata": {},
     "output_type": "display_data"
    }
   ],
   "source": [
    "ft_data['date'] = pd.to_datetime(data['date']).dt.date\n",
    "ft_data['year'] = pd.DatetimeIndex(ft_data['date']).year\n",
    "b_date_count = ft_data.groupby(by='date').count().reset_index()\n",
    "b_date_count = b_date_count.rename(columns={'user_name':'Tweets Per Day'})\n",
    "fig = ex.line(b_date_count,x='date',y='Tweets Per Day')\n",
    "\n",
    "fig.add_shape(type=\"line\",\n",
    "    x0=b_date_count['date'].values[0], y0=b_date_count['neg'].mean(), x1=b_date_count['date'].values[-1], y1=b_date_count['neg'].mean(),\n",
    "    line=dict(\n",
    "        color=\"Red\",\n",
    "        width=2,\n",
    "        dash=\"dashdot\",\n",
    "    ),\n",
    "        name='Mean',\n",
    ")\n",
    "\n",
    "fig.update_traces(mode=\"markers+lines\")\n",
    "fig.update_layout(hovermode=\"x unified\")\n",
    "\n",
    "\n",
    "#annotations\n",
    "b_date_count.date = pd.to_datetime(b_date_count.date)\n",
    "b_date_count_dt = b_date_count.set_index('date')\n",
    "\n",
    "fig.add_annotation(x=datetime.datetime(2020,12,30), y=b_date_count_dt.loc[pd.Timestamp('2020-12-30'),'year'],\n",
    "            text=r\"1st covid vaccine talk\",\n",
    "            showarrow=True,\n",
    "            arrowhead= 3,\n",
    "            bordercolor=\"#c7c7c7\")\n",
    "\n",
    "fig.add_annotation(x=datetime.datetime(2021,3,12), y=b_date_count_dt.loc[pd.Timestamp('2021-03-12'),'year'],\n",
    "            text=r\"vaccination rollout\",\n",
    "            showarrow=True,\n",
    "            arrowhead=3,\n",
    "            yshift=5,bordercolor=\"#c7c7c7\")\n",
    "\n",
    "fig.add_annotation(x=datetime.datetime(2022,1,11), y=b_date_count_dt.loc[pd.Timestamp('2022-01-11'),'year'],\n",
    "            text=r\"fda approve moderna vaccine\",\n",
    "            showarrow=True,\n",
    "            arrowhead=3,\n",
    "            yshift=5,ay=-30,bordercolor=\"#c7c7c7\")\n",
    "\n",
    "fig.update_layout(title='<b>Daily Tweets<b>',width=1000)\n",
    "fig.show()"
   ]
  },
  {
   "cell_type": "code",
   "execution_count": 91,
   "id": "c9a08757",
   "metadata": {},
   "outputs": [],
   "source": [
    "import pywedge as pw"
   ]
  },
  {
   "cell_type": "markdown",
   "id": "ade3a5bf",
   "metadata": {},
   "source": [
    "# Time series forecast-1 week, 1 month, 3 months"
   ]
  },
  {
   "cell_type": "code",
   "execution_count": 92,
   "id": "40b275ea",
   "metadata": {
    "scrolled": true
   },
   "outputs": [
    {
     "name": "stdout",
     "output_type": "stream",
     "text": [
      "Requirement already satisfied: prophet in c:\\users\\keith\\anaconda3\\lib\\site-packages (1.1.3)\n",
      "Requirement already satisfied: numpy>=1.15.4 in c:\\users\\keith\\anaconda3\\lib\\site-packages (from prophet) (1.22.4)\n",
      "Requirement already satisfied: pandas>=1.0.4 in c:\\users\\keith\\anaconda3\\lib\\site-packages (from prophet) (1.4.2)\n",
      "Requirement already satisfied: matplotlib>=2.0.0 in c:\\users\\keith\\anaconda3\\lib\\site-packages (from prophet) (3.5.1)\n",
      "Requirement already satisfied: holidays>=0.14.2 in c:\\users\\keith\\anaconda3\\lib\\site-packages (from prophet) (0.25)\n",
      "Requirement already satisfied: convertdate>=2.1.2 in c:\\users\\keith\\anaconda3\\lib\\site-packages (from prophet) (2.4.0)\n",
      "Requirement already satisfied: tqdm>=4.36.1 in c:\\users\\keith\\anaconda3\\lib\\site-packages (from prophet) (4.64.0)\n",
      "Requirement already satisfied: python-dateutil>=2.8.0 in c:\\users\\keith\\anaconda3\\lib\\site-packages (from prophet) (2.8.2)\n",
      "Requirement already satisfied: LunarCalendar>=0.0.9 in c:\\users\\keith\\anaconda3\\lib\\site-packages (from prophet) (0.0.9)\n",
      "Requirement already satisfied: importlib-resources in c:\\users\\keith\\anaconda3\\lib\\site-packages (from prophet) (5.12.0)\n",
      "Collecting cmdstanpy>=1.0.4\n",
      "  Using cached cmdstanpy-1.1.0-py3-none-any.whl (83 kB)\n",
      "Requirement already satisfied: pymeeus<=1,>=0.3.13 in c:\\users\\keith\\anaconda3\\lib\\site-packages (from convertdate>=2.1.2->prophet) (0.5.12)\n",
      "Requirement already satisfied: korean-lunar-calendar in c:\\users\\keith\\anaconda3\\lib\\site-packages (from holidays>=0.14.2->prophet) (0.3.1)\n",
      "Requirement already satisfied: ephem>=3.7.5.3 in c:\\users\\keith\\anaconda3\\lib\\site-packages (from LunarCalendar>=0.0.9->prophet) (4.1.4)\n",
      "Requirement already satisfied: pytz in c:\\users\\keith\\anaconda3\\lib\\site-packages (from LunarCalendar>=0.0.9->prophet) (2021.3)\n",
      "Requirement already satisfied: pyparsing>=2.2.1 in c:\\users\\keith\\anaconda3\\lib\\site-packages (from matplotlib>=2.0.0->prophet) (3.0.4)\n",
      "Requirement already satisfied: packaging>=20.0 in c:\\users\\keith\\anaconda3\\lib\\site-packages (from matplotlib>=2.0.0->prophet) (21.3)\n",
      "Requirement already satisfied: pillow>=6.2.0 in c:\\users\\keith\\anaconda3\\lib\\site-packages (from matplotlib>=2.0.0->prophet) (9.0.1)\n",
      "Requirement already satisfied: fonttools>=4.22.0 in c:\\users\\keith\\anaconda3\\lib\\site-packages (from matplotlib>=2.0.0->prophet) (4.25.0)\n",
      "Requirement already satisfied: cycler>=0.10 in c:\\users\\keith\\anaconda3\\lib\\site-packages (from matplotlib>=2.0.0->prophet) (0.11.0)\n",
      "Requirement already satisfied: kiwisolver>=1.0.1 in c:\\users\\keith\\anaconda3\\lib\\site-packages (from matplotlib>=2.0.0->prophet) (1.3.2)\n",
      "Requirement already satisfied: six>=1.5 in c:\\users\\keith\\anaconda3\\lib\\site-packages (from python-dateutil>=2.8.0->prophet) (1.16.0)\n",
      "Requirement already satisfied: colorama in c:\\users\\keith\\anaconda3\\lib\\site-packages (from tqdm>=4.36.1->prophet) (0.4.4)\n",
      "Requirement already satisfied: zipp>=3.1.0 in c:\\users\\keith\\anaconda3\\lib\\site-packages (from importlib-resources->prophet) (3.7.0)\n",
      "Installing collected packages: cmdstanpy\n",
      "  Attempting uninstall: cmdstanpy\n",
      "    Found existing installation: cmdstanpy 0.9.5\n",
      "    Uninstalling cmdstanpy-0.9.5:\n",
      "      Successfully uninstalled cmdstanpy-0.9.5\n",
      "Successfully installed cmdstanpy-1.1.0\n"
     ]
    }
   ],
   "source": [
    "!pip install prophet\n",
    "\n",
    "from prophet import Prophet"
   ]
  },
  {
   "cell_type": "code",
   "execution_count": 93,
   "id": "23efed65",
   "metadata": {
    "scrolled": true
   },
   "outputs": [
    {
     "name": "stdout",
     "output_type": "stream",
     "text": [
      "Requirement already satisfied: pystan in c:\\users\\keith\\anaconda3\\lib\\site-packages (2.19.1.1)\n",
      "Requirement already satisfied: numpy>=1.7 in c:\\users\\keith\\anaconda3\\lib\\site-packages (from pystan) (1.22.4)\n",
      "Requirement already satisfied: Cython!=0.25.1,>=0.22 in c:\\users\\keith\\anaconda3\\lib\\site-packages (from pystan) (0.29.28)\n",
      "Collecting fbprophet"
     ]
    },
    {
     "name": "stderr",
     "output_type": "stream",
     "text": [
      "  ERROR: Command errored out with exit status 1:\n",
      "   command: 'C:\\Users\\Keith\\anaconda3\\python.exe' -u -c 'import io, os, sys, setuptools, tokenize; sys.argv[0] = '\"'\"'C:\\\\Users\\\\Keith\\\\AppData\\\\Local\\\\Temp\\\\pip-install-4v8a5zlq\\\\fbprophet_669c226ac8fc45959826d33de5e1cbd9\\\\setup.py'\"'\"'; __file__='\"'\"'C:\\\\Users\\\\Keith\\\\AppData\\\\Local\\\\Temp\\\\pip-install-4v8a5zlq\\\\fbprophet_669c226ac8fc45959826d33de5e1cbd9\\\\setup.py'\"'\"';f = getattr(tokenize, '\"'\"'open'\"'\"', open)(__file__) if os.path.exists(__file__) else io.StringIO('\"'\"'from setuptools import setup; setup()'\"'\"');code = f.read().replace('\"'\"'\\r\\n'\"'\"', '\"'\"'\\n'\"'\"');f.close();exec(compile(code, __file__, '\"'\"'exec'\"'\"'))' bdist_wheel -d 'C:\\Users\\Keith\\AppData\\Local\\Temp\\pip-wheel-4o2h_51h'\n",
      "       cwd: C:\\Users\\Keith\\AppData\\Local\\Temp\\pip-install-4v8a5zlq\\fbprophet_669c226ac8fc45959826d33de5e1cbd9\\\n",
      "  Complete output (338 lines):\n",
      "  running bdist_wheel\n",
      "  running build\n",
      "  running build_py\n",
      "  creating build\n",
      "  creating build\\lib\n",
      "  creating build\\lib\\fbprophet\n",
      "  creating build\\lib\\fbprophet\\stan_model\n",
      "  --- Logging error ---\n",
      "  Traceback (most recent call last):\n",
      "    File \"C:\\Users\\Keith\\anaconda3\\lib\\logging\\__init__.py\", line 1086, in emit\n",
      "      stream.write(msg + self.terminator)\n",
      "  ValueError: underlying buffer has been detached\n",
      "  Call stack:\n",
      "    File \"<string>\", line 1, in <module>\n",
      "    File \"C:\\Users\\Keith\\AppData\\Local\\Temp\\pip-install-4v8a5zlq\\fbprophet_669c226ac8fc45959826d33de5e1cbd9\\setup.py\", line 122, in <module>\n",
      "      setup(\n",
      "    File \"C:\\Users\\Keith\\anaconda3\\lib\\site-packages\\setuptools\\__init__.py\", line 87, in setup\n",
      "      return distutils.core.setup(**attrs)\n",
      "    File \"C:\\Users\\Keith\\anaconda3\\lib\\site-packages\\setuptools\\_distutils\\core.py\", line 148, in setup\n",
      "      return run_commands(dist)\n",
      "    File \"C:\\Users\\Keith\\anaconda3\\lib\\site-packages\\setuptools\\_distutils\\core.py\", line 163, in run_commands\n",
      "      dist.run_commands()\n",
      "    File \"C:\\Users\\Keith\\anaconda3\\lib\\site-packages\\setuptools\\_distutils\\dist.py\", line 967, in run_commands\n",
      "      self.run_command(cmd)\n",
      "    File \"C:\\Users\\Keith\\anaconda3\\lib\\site-packages\\setuptools\\dist.py\", line 1214, in run_command\n",
      "      super().run_command(command)\n",
      "    File \"C:\\Users\\Keith\\anaconda3\\lib\\site-packages\\setuptools\\_distutils\\dist.py\", line 986, in run_command\n",
      "      cmd_obj.run()\n",
      "    File \"C:\\Users\\Keith\\anaconda3\\lib\\site-packages\\wheel\\bdist_wheel.py\", line 299, in run\n",
      "      self.run_command('build')\n",
      "    File \"C:\\Users\\Keith\\anaconda3\\lib\\site-packages\\setuptools\\_distutils\\cmd.py\", line 313, in run_command\n",
      "      self.distribution.run_command(command)\n",
      "    File \"C:\\Users\\Keith\\anaconda3\\lib\\site-packages\\setuptools\\dist.py\", line 1214, in run_command\n",
      "      super().run_command(command)\n",
      "    File \"C:\\Users\\Keith\\anaconda3\\lib\\site-packages\\setuptools\\_distutils\\dist.py\", line 986, in run_command\n",
      "      cmd_obj.run()\n",
      "    File \"C:\\Users\\Keith\\anaconda3\\lib\\site-packages\\setuptools\\_distutils\\command\\build.py\", line 135, in run\n",
      "      self.run_command(cmd_name)\n",
      "    File \"C:\\Users\\Keith\\anaconda3\\lib\\site-packages\\setuptools\\_distutils\\cmd.py\", line 313, in run_command\n",
      "      self.distribution.run_command(command)\n",
      "    File \"C:\\Users\\Keith\\anaconda3\\lib\\site-packages\\setuptools\\dist.py\", line 1214, in run_command\n",
      "      super().run_command(command)\n",
      "    File \"C:\\Users\\Keith\\anaconda3\\lib\\site-packages\\setuptools\\_distutils\\dist.py\", line 986, in run_command\n",
      "      cmd_obj.run()\n",
      "    File \"C:\\Users\\Keith\\AppData\\Local\\Temp\\pip-install-4v8a5zlq\\fbprophet_669c226ac8fc45959826d33de5e1cbd9\\setup.py\", line 48, in run\n",
      "      build_models(target_dir)\n",
      "    File \"C:\\Users\\Keith\\AppData\\Local\\Temp\\pip-install-4v8a5zlq\\fbprophet_669c226ac8fc45959826d33de5e1cbd9\\setup.py\", line 36, in build_models\n",
      "      from fbprophet.models import StanBackendEnum\n",
      "    File \"<frozen importlib._bootstrap>\", line 1007, in _find_and_load\n",
      "    File \"<frozen importlib._bootstrap>\", line 972, in _find_and_load_unlocked\n",
      "    File \"<frozen importlib._bootstrap>\", line 228, in _call_with_frames_removed\n",
      "    File \"<frozen importlib._bootstrap>\", line 1007, in _find_and_load\n",
      "    File \"<frozen importlib._bootstrap>\", line 986, in _find_and_load_unlocked\n",
      "    File \"<frozen importlib._bootstrap>\", line 680, in _load_unlocked\n",
      "    File \"<frozen importlib._bootstrap_external>\", line 850, in exec_module\n",
      "    File \"<frozen importlib._bootstrap>\", line 228, in _call_with_frames_removed\n",
      "    File \"C:\\Users\\Keith\\AppData\\Local\\Temp\\pip-install-4v8a5zlq\\fbprophet_669c226ac8fc45959826d33de5e1cbd9\\fbprophet\\__init__.py\", line 8, in <module>\n",
      "      from fbprophet.forecaster import Prophet\n",
      "    File \"<frozen importlib._bootstrap>\", line 1007, in _find_and_load\n",
      "    File \"<frozen importlib._bootstrap>\", line 986, in _find_and_load_unlocked\n",
      "    File \"<frozen importlib._bootstrap>\", line 680, in _load_unlocked\n",
      "    File \"<frozen importlib._bootstrap_external>\", line 850, in exec_module\n",
      "    File \"<frozen importlib._bootstrap>\", line 228, in _call_with_frames_removed\n",
      "    File \"C:\\Users\\Keith\\AppData\\Local\\Temp\\pip-install-4v8a5zlq\\fbprophet_669c226ac8fc45959826d33de5e1cbd9\\fbprophet\\forecaster.py\", line 15, in <module>\n",
      "      import pandas as pd\n",
      "    File \"<frozen importlib._bootstrap>\", line 1007, in _find_and_load\n",
      "    File \"<frozen importlib._bootstrap>\", line 986, in _find_and_load_unlocked\n",
      "    File \"<frozen importlib._bootstrap>\", line 680, in _load_unlocked\n",
      "    File \"<frozen importlib._bootstrap_external>\", line 850, in exec_module\n",
      "    File \"<frozen importlib._bootstrap>\", line 228, in _call_with_frames_removed\n",
      "    File \"C:\\Users\\Keith\\anaconda3\\lib\\site-packages\\pandas\\__init__.py\", line 48, in <module>\n",
      "      from pandas.core.api import (\n",
      "    File \"<frozen importlib._bootstrap>\", line 1007, in _find_and_load\n",
      "    File \"<frozen importlib._bootstrap>\", line 986, in _find_and_load_unlocked\n",
      "    File \"<frozen importlib._bootstrap>\", line 680, in _load_unlocked\n",
      "    File \"<frozen importlib._bootstrap_external>\", line 850, in exec_module\n",
      "    File \"<frozen importlib._bootstrap>\", line 228, in _call_with_frames_removed\n",
      "    File \"C:\\Users\\Keith\\anaconda3\\lib\\site-packages\\pandas\\core\\api.py\", line 29, in <module>\n",
      "      from pandas.core.arrays import Categorical\n",
      "    File \"<frozen importlib._bootstrap>\", line 1007, in _find_and_load\n",
      "    File \"<frozen importlib._bootstrap>\", line 986, in _find_and_load_unlocked\n",
      "    File \"<frozen importlib._bootstrap>\", line 680, in _load_unlocked\n",
      "    File \"<frozen importlib._bootstrap_external>\", line 850, in exec_module\n",
      "    File \"<frozen importlib._bootstrap>\", line 228, in _call_with_frames_removed\n",
      "    File \"C:\\Users\\Keith\\anaconda3\\lib\\site-packages\\pandas\\core\\arrays\\__init__.py\", line 1, in <module>\n",
      "      from pandas.core.arrays.base import (\n",
      "    File \"<frozen importlib._bootstrap>\", line 1007, in _find_and_load\n",
      "    File \"<frozen importlib._bootstrap>\", line 986, in _find_and_load_unlocked\n",
      "    File \"<frozen importlib._bootstrap>\", line 680, in _load_unlocked\n",
      "    File \"<frozen importlib._bootstrap_external>\", line 850, in exec_module\n",
      "    File \"<frozen importlib._bootstrap>\", line 228, in _call_with_frames_removed\n",
      "    File \"C:\\Users\\Keith\\anaconda3\\lib\\site-packages\\pandas\\core\\arrays\\base.py\", line 68, in <module>\n",
      "      from pandas.core import (\n",
      "    File \"<frozen importlib._bootstrap>\", line 1058, in _handle_fromlist\n",
      "    File \"<frozen importlib._bootstrap>\", line 228, in _call_with_frames_removed\n",
      "    File \"<frozen importlib._bootstrap>\", line 1007, in _find_and_load\n",
      "    File \"<frozen importlib._bootstrap>\", line 986, in _find_and_load_unlocked\n",
      "    File \"<frozen importlib._bootstrap>\", line 680, in _load_unlocked\n",
      "    File \"<frozen importlib._bootstrap_external>\", line 850, in exec_module\n",
      "    File \"<frozen importlib._bootstrap>\", line 228, in _call_with_frames_removed\n",
      "    File \"C:\\Users\\Keith\\anaconda3\\lib\\site-packages\\pandas\\core\\arraylike.py\", line 21, in <module>\n",
      "      from pandas.core.ops.common import unpack_zerodim_and_defer\n",
      "    File \"<frozen importlib._bootstrap>\", line 1007, in _find_and_load\n",
      "    File \"<frozen importlib._bootstrap>\", line 972, in _find_and_load_unlocked\n",
      "    File \"<frozen importlib._bootstrap>\", line 228, in _call_with_frames_removed\n",
      "    File \"<frozen importlib._bootstrap>\", line 1007, in _find_and_load\n",
      "    File \"<frozen importlib._bootstrap>\", line 986, in _find_and_load_unlocked\n",
      "    File \"<frozen importlib._bootstrap>\", line 680, in _load_unlocked\n",
      "    File \"<frozen importlib._bootstrap_external>\", line 850, in exec_module\n",
      "    File \"<frozen importlib._bootstrap>\", line 228, in _call_with_frames_removed\n",
      "    File \"C:\\Users\\Keith\\anaconda3\\lib\\site-packages\\pandas\\core\\ops\\__init__.py\", line 33, in <module>\n",
      "      from pandas.core.ops.array_ops import (  # noqa:F401\n",
      "    File \"<frozen importlib._bootstrap>\", line 1007, in _find_and_load\n",
      "    File \"<frozen importlib._bootstrap>\", line 986, in _find_and_load_unlocked\n",
      "    File \"<frozen importlib._bootstrap>\", line 680, in _load_unlocked\n",
      "    File \"<frozen importlib._bootstrap_external>\", line 850, in exec_module\n",
      "    File \"<frozen importlib._bootstrap>\", line 228, in _call_with_frames_removed\n",
      "    File \"C:\\Users\\Keith\\anaconda3\\lib\\site-packages\\pandas\\core\\ops\\array_ops.py\", line 48, in <module>\n",
      "      import pandas.core.computation.expressions as expressions\n",
      "    File \"<frozen importlib._bootstrap>\", line 1007, in _find_and_load\n",
      "    File \"<frozen importlib._bootstrap>\", line 986, in _find_and_load_unlocked\n",
      "    File \"<frozen importlib._bootstrap>\", line 680, in _load_unlocked\n",
      "    File \"<frozen importlib._bootstrap_external>\", line 850, in exec_module\n",
      "    File \"<frozen importlib._bootstrap>\", line 228, in _call_with_frames_removed\n",
      "    File \"C:\\Users\\Keith\\anaconda3\\lib\\site-packages\\pandas\\core\\computation\\expressions.py\", line 19, in <module>\n",
      "      from pandas.core.computation.check import NUMEXPR_INSTALLED\n",
      "    File \"<frozen importlib._bootstrap>\", line 1007, in _find_and_load\n"
     ]
    },
    {
     "name": "stdout",
     "output_type": "stream",
     "text": [
      "\n",
      "  Using cached fbprophet-0.7.1.tar.gz (64 kB)\n",
      "Requirement already satisfied: Cython>=0.22 in c:\\users\\keith\\anaconda3\\lib\\site-packages (from fbprophet) (0.29.28)\n",
      "Collecting cmdstanpy==0.9.5\n",
      "  Using cached cmdstanpy-0.9.5-py3-none-any.whl (37 kB)\n",
      "Requirement already satisfied: pystan>=2.14 in c:\\users\\keith\\anaconda3\\lib\\site-packages (from fbprophet) (2.19.1.1)\n",
      "Requirement already satisfied: numpy>=1.15.4 in c:\\users\\keith\\anaconda3\\lib\\site-packages (from fbprophet) (1.22.4)\n",
      "Requirement already satisfied: pandas>=1.0.4 in c:\\users\\keith\\anaconda3\\lib\\site-packages (from fbprophet) (1.4.2)\n",
      "Requirement already satisfied: matplotlib>=2.0.0 in c:\\users\\keith\\anaconda3\\lib\\site-packages (from fbprophet) (3.5.1)\n",
      "Requirement already satisfied: LunarCalendar>=0.0.9 in c:\\users\\keith\\anaconda3\\lib\\site-packages (from fbprophet) (0.0.9)\n",
      "Requirement already satisfied: convertdate>=2.1.2 in c:\\users\\keith\\anaconda3\\lib\\site-packages (from fbprophet) (2.4.0)\n",
      "Requirement already satisfied: holidays>=0.10.2 in c:\\users\\keith\\anaconda3\\lib\\site-packages (from fbprophet) (0.25)\n",
      "Requirement already satisfied: setuptools-git>=1.2 in c:\\users\\keith\\anaconda3\\lib\\site-packages (from fbprophet) (1.2)\n",
      "Requirement already satisfied: python-dateutil>=2.8.0 in c:\\users\\keith\\anaconda3\\lib\\site-packages (from fbprophet) (2.8.2)\n",
      "Requirement already satisfied: tqdm>=4.36.1 in c:\\users\\keith\\anaconda3\\lib\\site-packages (from fbprophet) (4.64.0)\n",
      "Requirement already satisfied: pymeeus<=1,>=0.3.13 in c:\\users\\keith\\anaconda3\\lib\\site-packages (from convertdate>=2.1.2->fbprophet) (0.5.12)\n",
      "Requirement already satisfied: korean-lunar-calendar in c:\\users\\keith\\anaconda3\\lib\\site-packages (from holidays>=0.10.2->fbprophet) (0.3.1)\n",
      "Requirement already satisfied: ephem>=3.7.5.3 in c:\\users\\keith\\anaconda3\\lib\\site-packages (from LunarCalendar>=0.0.9->fbprophet) (4.1.4)\n",
      "Requirement already satisfied: pytz in c:\\users\\keith\\anaconda3\\lib\\site-packages (from LunarCalendar>=0.0.9->fbprophet) (2021.3)\n",
      "Requirement already satisfied: packaging>=20.0 in c:\\users\\keith\\anaconda3\\lib\\site-packages (from matplotlib>=2.0.0->fbprophet) (21.3)\n",
      "Requirement already satisfied: cycler>=0.10 in c:\\users\\keith\\anaconda3\\lib\\site-packages (from matplotlib>=2.0.0->fbprophet) (0.11.0)\n",
      "Requirement already satisfied: kiwisolver>=1.0.1 in c:\\users\\keith\\anaconda3\\lib\\site-packages (from matplotlib>=2.0.0->fbprophet) (1.3.2)\n",
      "Requirement already satisfied: fonttools>=4.22.0 in c:\\users\\keith\\anaconda3\\lib\\site-packages (from matplotlib>=2.0.0->fbprophet) (4.25.0)\n",
      "Requirement already satisfied: pillow>=6.2.0 in c:\\users\\keith\\anaconda3\\lib\\site-packages (from matplotlib>=2.0.0->fbprophet) (9.0.1)\n",
      "Requirement already satisfied: pyparsing>=2.2.1 in c:\\users\\keith\\anaconda3\\lib\\site-packages (from matplotlib>=2.0.0->fbprophet) (3.0.4)\n",
      "Requirement already satisfied: six>=1.5 in c:\\users\\keith\\anaconda3\\lib\\site-packages (from python-dateutil>=2.8.0->fbprophet) (1.16.0)\n",
      "Requirement already satisfied: colorama in c:\\users\\keith\\anaconda3\\lib\\site-packages (from tqdm>=4.36.1->fbprophet) (0.4.4)\n",
      "Building wheels for collected packages: fbprophet\n",
      "  Building wheel for fbprophet (setup.py): started\n",
      "  Building wheel for fbprophet (setup.py): finished with status 'error'\n",
      "  Running setup.py clean for fbprophet\n",
      "Failed to build fbprophet\n",
      "Installing collected packages: cmdstanpy, fbprophet\n",
      "  Attempting uninstall: cmdstanpy\n",
      "    Found existing installation: cmdstanpy 1.1.0\n",
      "    Uninstalling cmdstanpy-1.1.0:\n",
      "      Successfully uninstalled cmdstanpy-1.1.0\n",
      "    Running setup.py install for fbprophet: started\n",
      "    Running setup.py install for fbprophet: finished with status 'error'\n"
     ]
    },
    {
     "name": "stderr",
     "output_type": "stream",
     "text": [
      "    File \"<frozen importlib._bootstrap>\", line 986, in _find_and_load_unlocked\n",
      "    File \"<frozen importlib._bootstrap>\", line 680, in _load_unlocked\n",
      "    File \"<frozen importlib._bootstrap_external>\", line 850, in exec_module\n",
      "    File \"<frozen importlib._bootstrap>\", line 228, in _call_with_frames_removed\n",
      "    File \"C:\\Users\\Keith\\anaconda3\\lib\\site-packages\\pandas\\core\\computation\\check.py\", line 3, in <module>\n",
      "      ne = import_optional_dependency(\"numexpr\", errors=\"warn\")\n",
      "    File \"C:\\Users\\Keith\\anaconda3\\lib\\site-packages\\pandas\\compat\\_optional.py\", line 138, in import_optional_dependency\n",
      "      module = importlib.import_module(name)\n",
      "    File \"C:\\Users\\Keith\\anaconda3\\lib\\importlib\\__init__.py\", line 127, in import_module\n",
      "      return _bootstrap._gcd_import(name[level:], package, level)\n",
      "    File \"<frozen importlib._bootstrap>\", line 1030, in _gcd_import\n",
      "    File \"<frozen importlib._bootstrap>\", line 1007, in _find_and_load\n",
      "    File \"<frozen importlib._bootstrap>\", line 986, in _find_and_load_unlocked\n",
      "    File \"<frozen importlib._bootstrap>\", line 680, in _load_unlocked\n",
      "    File \"<frozen importlib._bootstrap_external>\", line 850, in exec_module\n",
      "    File \"<frozen importlib._bootstrap>\", line 228, in _call_with_frames_removed\n",
      "    File \"C:\\Users\\Keith\\anaconda3\\lib\\site-packages\\numexpr\\__init__.py\", line 44, in <module>\n",
      "      nthreads = _init_num_threads()\n",
      "    File \"C:\\Users\\Keith\\anaconda3\\lib\\site-packages\\numexpr\\utils.py\", line 147, in _init_num_threads\n",
      "      log.info('Note: NumExpr detected %d cores but \"NUMEXPR_MAX_THREADS\" not set, so enforcing safe limit of 8.'%n_cores)\n",
      "  Message: 'Note: NumExpr detected 12 cores but \"NUMEXPR_MAX_THREADS\" not set, so enforcing safe limit of 8.'\n",
      "  Arguments: ()\n",
      "  --- Logging error ---\n",
      "  Traceback (most recent call last):\n",
      "    File \"C:\\Users\\Keith\\anaconda3\\lib\\logging\\__init__.py\", line 1086, in emit\n",
      "      stream.write(msg + self.terminator)\n",
      "  ValueError: underlying buffer has been detached\n",
      "  Call stack:\n",
      "    File \"<string>\", line 1, in <module>\n",
      "    File \"C:\\Users\\Keith\\AppData\\Local\\Temp\\pip-install-4v8a5zlq\\fbprophet_669c226ac8fc45959826d33de5e1cbd9\\setup.py\", line 122, in <module>\n",
      "      setup(\n",
      "    File \"C:\\Users\\Keith\\anaconda3\\lib\\site-packages\\setuptools\\__init__.py\", line 87, in setup\n",
      "      return distutils.core.setup(**attrs)\n",
      "    File \"C:\\Users\\Keith\\anaconda3\\lib\\site-packages\\setuptools\\_distutils\\core.py\", line 148, in setup\n",
      "      return run_commands(dist)\n",
      "    File \"C:\\Users\\Keith\\anaconda3\\lib\\site-packages\\setuptools\\_distutils\\core.py\", line 163, in run_commands\n",
      "      dist.run_commands()\n",
      "    File \"C:\\Users\\Keith\\anaconda3\\lib\\site-packages\\setuptools\\_distutils\\dist.py\", line 967, in run_commands\n",
      "      self.run_command(cmd)\n",
      "    File \"C:\\Users\\Keith\\anaconda3\\lib\\site-packages\\setuptools\\dist.py\", line 1214, in run_command\n",
      "      super().run_command(command)\n",
      "    File \"C:\\Users\\Keith\\anaconda3\\lib\\site-packages\\setuptools\\_distutils\\dist.py\", line 986, in run_command\n",
      "      cmd_obj.run()\n",
      "    File \"C:\\Users\\Keith\\anaconda3\\lib\\site-packages\\wheel\\bdist_wheel.py\", line 299, in run\n",
      "      self.run_command('build')\n",
      "    File \"C:\\Users\\Keith\\anaconda3\\lib\\site-packages\\setuptools\\_distutils\\cmd.py\", line 313, in run_command\n",
      "      self.distribution.run_command(command)\n",
      "    File \"C:\\Users\\Keith\\anaconda3\\lib\\site-packages\\setuptools\\dist.py\", line 1214, in run_command\n",
      "      super().run_command(command)\n",
      "    File \"C:\\Users\\Keith\\anaconda3\\lib\\site-packages\\setuptools\\_distutils\\dist.py\", line 986, in run_command\n",
      "      cmd_obj.run()\n",
      "    File \"C:\\Users\\Keith\\anaconda3\\lib\\site-packages\\setuptools\\_distutils\\command\\build.py\", line 135, in run\n",
      "      self.run_command(cmd_name)\n",
      "    File \"C:\\Users\\Keith\\anaconda3\\lib\\site-packages\\setuptools\\_distutils\\cmd.py\", line 313, in run_command\n",
      "      self.distribution.run_command(command)\n",
      "    File \"C:\\Users\\Keith\\anaconda3\\lib\\site-packages\\setuptools\\dist.py\", line 1214, in run_command\n",
      "      super().run_command(command)\n",
      "    File \"C:\\Users\\Keith\\anaconda3\\lib\\site-packages\\setuptools\\_distutils\\dist.py\", line 986, in run_command\n",
      "      cmd_obj.run()\n",
      "    File \"C:\\Users\\Keith\\AppData\\Local\\Temp\\pip-install-4v8a5zlq\\fbprophet_669c226ac8fc45959826d33de5e1cbd9\\setup.py\", line 48, in run\n",
      "      build_models(target_dir)\n",
      "    File \"C:\\Users\\Keith\\AppData\\Local\\Temp\\pip-install-4v8a5zlq\\fbprophet_669c226ac8fc45959826d33de5e1cbd9\\setup.py\", line 36, in build_models\n",
      "      from fbprophet.models import StanBackendEnum\n",
      "    File \"<frozen importlib._bootstrap>\", line 1007, in _find_and_load\n",
      "    File \"<frozen importlib._bootstrap>\", line 972, in _find_and_load_unlocked\n",
      "    File \"<frozen importlib._bootstrap>\", line 228, in _call_with_frames_removed\n",
      "    File \"<frozen importlib._bootstrap>\", line 1007, in _find_and_load\n",
      "    File \"<frozen importlib._bootstrap>\", line 986, in _find_and_load_unlocked\n",
      "    File \"<frozen importlib._bootstrap>\", line 680, in _load_unlocked\n",
      "    File \"<frozen importlib._bootstrap_external>\", line 850, in exec_module\n",
      "    File \"<frozen importlib._bootstrap>\", line 228, in _call_with_frames_removed\n",
      "    File \"C:\\Users\\Keith\\AppData\\Local\\Temp\\pip-install-4v8a5zlq\\fbprophet_669c226ac8fc45959826d33de5e1cbd9\\fbprophet\\__init__.py\", line 8, in <module>\n",
      "      from fbprophet.forecaster import Prophet\n",
      "    File \"<frozen importlib._bootstrap>\", line 1007, in _find_and_load\n",
      "    File \"<frozen importlib._bootstrap>\", line 986, in _find_and_load_unlocked\n",
      "    File \"<frozen importlib._bootstrap>\", line 680, in _load_unlocked\n",
      "    File \"<frozen importlib._bootstrap_external>\", line 850, in exec_module\n",
      "    File \"<frozen importlib._bootstrap>\", line 228, in _call_with_frames_removed\n",
      "    File \"C:\\Users\\Keith\\AppData\\Local\\Temp\\pip-install-4v8a5zlq\\fbprophet_669c226ac8fc45959826d33de5e1cbd9\\fbprophet\\forecaster.py\", line 15, in <module>\n",
      "      import pandas as pd\n",
      "    File \"<frozen importlib._bootstrap>\", line 1007, in _find_and_load\n",
      "    File \"<frozen importlib._bootstrap>\", line 986, in _find_and_load_unlocked\n",
      "    File \"<frozen importlib._bootstrap>\", line 680, in _load_unlocked\n",
      "    File \"<frozen importlib._bootstrap_external>\", line 850, in exec_module\n",
      "    File \"<frozen importlib._bootstrap>\", line 228, in _call_with_frames_removed\n",
      "    File \"C:\\Users\\Keith\\anaconda3\\lib\\site-packages\\pandas\\__init__.py\", line 48, in <module>\n",
      "      from pandas.core.api import (\n",
      "    File \"<frozen importlib._bootstrap>\", line 1007, in _find_and_load\n",
      "    File \"<frozen importlib._bootstrap>\", line 986, in _find_and_load_unlocked\n",
      "    File \"<frozen importlib._bootstrap>\", line 680, in _load_unlocked\n",
      "    File \"<frozen importlib._bootstrap_external>\", line 850, in exec_module\n",
      "    File \"<frozen importlib._bootstrap>\", line 228, in _call_with_frames_removed\n",
      "    File \"C:\\Users\\Keith\\anaconda3\\lib\\site-packages\\pandas\\core\\api.py\", line 29, in <module>\n",
      "      from pandas.core.arrays import Categorical\n",
      "    File \"<frozen importlib._bootstrap>\", line 1007, in _find_and_load\n",
      "    File \"<frozen importlib._bootstrap>\", line 986, in _find_and_load_unlocked\n",
      "    File \"<frozen importlib._bootstrap>\", line 680, in _load_unlocked\n",
      "    File \"<frozen importlib._bootstrap_external>\", line 850, in exec_module\n",
      "    File \"<frozen importlib._bootstrap>\", line 228, in _call_with_frames_removed\n",
      "    File \"C:\\Users\\Keith\\anaconda3\\lib\\site-packages\\pandas\\core\\arrays\\__init__.py\", line 1, in <module>\n",
      "      from pandas.core.arrays.base import (\n",
      "    File \"<frozen importlib._bootstrap>\", line 1007, in _find_and_load\n",
      "    File \"<frozen importlib._bootstrap>\", line 986, in _find_and_load_unlocked\n",
      "    File \"<frozen importlib._bootstrap>\", line 680, in _load_unlocked\n",
      "    File \"<frozen importlib._bootstrap_external>\", line 850, in exec_module\n",
      "    File \"<frozen importlib._bootstrap>\", line 228, in _call_with_frames_removed\n",
      "    File \"C:\\Users\\Keith\\anaconda3\\lib\\site-packages\\pandas\\core\\arrays\\base.py\", line 68, in <module>\n",
      "      from pandas.core import (\n",
      "    File \"<frozen importlib._bootstrap>\", line 1058, in _handle_fromlist\n",
      "    File \"<frozen importlib._bootstrap>\", line 228, in _call_with_frames_removed\n",
      "    File \"<frozen importlib._bootstrap>\", line 1007, in _find_and_load\n",
      "    File \"<frozen importlib._bootstrap>\", line 986, in _find_and_load_unlocked\n",
      "    File \"<frozen importlib._bootstrap>\", line 680, in _load_unlocked\n",
      "    File \"<frozen importlib._bootstrap_external>\", line 850, in exec_module\n",
      "    File \"<frozen importlib._bootstrap>\", line 228, in _call_with_frames_removed\n",
      "    File \"C:\\Users\\Keith\\anaconda3\\lib\\site-packages\\pandas\\core\\arraylike.py\", line 21, in <module>\n",
      "      from pandas.core.ops.common import unpack_zerodim_and_defer\n",
      "    File \"<frozen importlib._bootstrap>\", line 1007, in _find_and_load\n",
      "    File \"<frozen importlib._bootstrap>\", line 972, in _find_and_load_unlocked\n",
      "    File \"<frozen importlib._bootstrap>\", line 228, in _call_with_frames_removed\n",
      "    File \"<frozen importlib._bootstrap>\", line 1007, in _find_and_load\n",
      "    File \"<frozen importlib._bootstrap>\", line 986, in _find_and_load_unlocked\n",
      "    File \"<frozen importlib._bootstrap>\", line 680, in _load_unlocked\n",
      "    File \"<frozen importlib._bootstrap_external>\", line 850, in exec_module\n",
      "    File \"<frozen importlib._bootstrap>\", line 228, in _call_with_frames_removed\n",
      "    File \"C:\\Users\\Keith\\anaconda3\\lib\\site-packages\\pandas\\core\\ops\\__init__.py\", line 33, in <module>\n",
      "      from pandas.core.ops.array_ops import (  # noqa:F401\n",
      "    File \"<frozen importlib._bootstrap>\", line 1007, in _find_and_load\n",
      "    File \"<frozen importlib._bootstrap>\", line 986, in _find_and_load_unlocked\n",
      "    File \"<frozen importlib._bootstrap>\", line 680, in _load_unlocked\n",
      "    File \"<frozen importlib._bootstrap_external>\", line 850, in exec_module\n",
      "    File \"<frozen importlib._bootstrap>\", line 228, in _call_with_frames_removed\n",
      "    File \"C:\\Users\\Keith\\anaconda3\\lib\\site-packages\\pandas\\core\\ops\\array_ops.py\", line 48, in <module>\n",
      "      import pandas.core.computation.expressions as expressions\n",
      "    File \"<frozen importlib._bootstrap>\", line 1007, in _find_and_load\n",
      "    File \"<frozen importlib._bootstrap>\", line 986, in _find_and_load_unlocked\n",
      "    File \"<frozen importlib._bootstrap>\", line 680, in _load_unlocked\n",
      "    File \"<frozen importlib._bootstrap_external>\", line 850, in exec_module\n",
      "    File \"<frozen importlib._bootstrap>\", line 228, in _call_with_frames_removed\n",
      "    File \"C:\\Users\\Keith\\anaconda3\\lib\\site-packages\\pandas\\core\\computation\\expressions.py\", line 19, in <module>\n",
      "      from pandas.core.computation.check import NUMEXPR_INSTALLED\n",
      "    File \"<frozen importlib._bootstrap>\", line 1007, in _find_and_load\n",
      "    File \"<frozen importlib._bootstrap>\", line 986, in _find_and_load_unlocked\n",
      "    File \"<frozen importlib._bootstrap>\", line 680, in _load_unlocked\n",
      "    File \"<frozen importlib._bootstrap_external>\", line 850, in exec_module\n",
      "    File \"<frozen importlib._bootstrap>\", line 228, in _call_with_frames_removed\n",
      "    File \"C:\\Users\\Keith\\anaconda3\\lib\\site-packages\\pandas\\core\\computation\\check.py\", line 3, in <module>\n",
      "      ne = import_optional_dependency(\"numexpr\", errors=\"warn\")\n",
      "    File \"C:\\Users\\Keith\\anaconda3\\lib\\site-packages\\pandas\\compat\\_optional.py\", line 138, in import_optional_dependency\n",
      "      module = importlib.import_module(name)\n",
      "    File \"C:\\Users\\Keith\\anaconda3\\lib\\importlib\\__init__.py\", line 127, in import_module\n",
      "      return _bootstrap._gcd_import(name[level:], package, level)\n",
      "    File \"<frozen importlib._bootstrap>\", line 1030, in _gcd_import\n",
      "    File \"<frozen importlib._bootstrap>\", line 1007, in _find_and_load\n",
      "    File \"<frozen importlib._bootstrap>\", line 986, in _find_and_load_unlocked\n",
      "    File \"<frozen importlib._bootstrap>\", line 680, in _load_unlocked\n",
      "    File \"<frozen importlib._bootstrap_external>\", line 850, in exec_module\n",
      "    File \"<frozen importlib._bootstrap>\", line 228, in _call_with_frames_removed\n",
      "    File \"C:\\Users\\Keith\\anaconda3\\lib\\site-packages\\numexpr\\__init__.py\", line 44, in <module>\n",
      "      nthreads = _init_num_threads()\n",
      "    File \"C:\\Users\\Keith\\anaconda3\\lib\\site-packages\\numexpr\\utils.py\", line 159, in _init_num_threads\n",
      "      log.info('NumExpr defaulting to %d threads.'%n_cores)\n",
      "  Message: 'NumExpr defaulting to 8 threads.'\n",
      "  Arguments: ()\n",
      "  Traceback (most recent call last):\n",
      "    File \"<string>\", line 1, in <module>\n",
      "    File \"C:\\Users\\Keith\\AppData\\Local\\Temp\\pip-install-4v8a5zlq\\fbprophet_669c226ac8fc45959826d33de5e1cbd9\\setup.py\", line 122, in <module>\n",
      "      setup(\n",
      "    File \"C:\\Users\\Keith\\anaconda3\\lib\\site-packages\\setuptools\\__init__.py\", line 87, in setup\n",
      "      return distutils.core.setup(**attrs)\n",
      "    File \"C:\\Users\\Keith\\anaconda3\\lib\\site-packages\\setuptools\\_distutils\\core.py\", line 148, in setup\n",
      "      return run_commands(dist)\n",
      "    File \"C:\\Users\\Keith\\anaconda3\\lib\\site-packages\\setuptools\\_distutils\\core.py\", line 163, in run_commands\n",
      "      dist.run_commands()\n",
      "    File \"C:\\Users\\Keith\\anaconda3\\lib\\site-packages\\setuptools\\_distutils\\dist.py\", line 967, in run_commands\n",
      "      self.run_command(cmd)\n",
      "    File \"C:\\Users\\Keith\\anaconda3\\lib\\site-packages\\setuptools\\dist.py\", line 1214, in run_command\n",
      "      super().run_command(command)\n",
      "    File \"C:\\Users\\Keith\\anaconda3\\lib\\site-packages\\setuptools\\_distutils\\dist.py\", line 986, in run_command\n",
      "      cmd_obj.run()\n",
      "    File \"C:\\Users\\Keith\\anaconda3\\lib\\site-packages\\wheel\\bdist_wheel.py\", line 299, in run\n",
      "      self.run_command('build')\n",
      "    File \"C:\\Users\\Keith\\anaconda3\\lib\\site-packages\\setuptools\\_distutils\\cmd.py\", line 313, in run_command\n",
      "      self.distribution.run_command(command)\n",
      "    File \"C:\\Users\\Keith\\anaconda3\\lib\\site-packages\\setuptools\\dist.py\", line 1214, in run_command\n",
      "      super().run_command(command)\n",
      "    File \"C:\\Users\\Keith\\anaconda3\\lib\\site-packages\\setuptools\\_distutils\\dist.py\", line 986, in run_command\n",
      "      cmd_obj.run()\n",
      "    File \"C:\\Users\\Keith\\anaconda3\\lib\\site-packages\\setuptools\\_distutils\\command\\build.py\", line 135, in run\n",
      "      self.run_command(cmd_name)\n",
      "    File \"C:\\Users\\Keith\\anaconda3\\lib\\site-packages\\setuptools\\_distutils\\cmd.py\", line 313, in run_command\n",
      "      self.distribution.run_command(command)\n",
      "    File \"C:\\Users\\Keith\\anaconda3\\lib\\site-packages\\setuptools\\dist.py\", line 1214, in run_command\n",
      "      super().run_command(command)\n",
      "    File \"C:\\Users\\Keith\\anaconda3\\lib\\site-packages\\setuptools\\_distutils\\dist.py\", line 986, in run_command\n",
      "      cmd_obj.run()\n",
      "    File \"C:\\Users\\Keith\\AppData\\Local\\Temp\\pip-install-4v8a5zlq\\fbprophet_669c226ac8fc45959826d33de5e1cbd9\\setup.py\", line 48, in run\n",
      "      build_models(target_dir)\n",
      "    File \"C:\\Users\\Keith\\AppData\\Local\\Temp\\pip-install-4v8a5zlq\\fbprophet_669c226ac8fc45959826d33de5e1cbd9\\setup.py\", line 36, in build_models\n",
      "      from fbprophet.models import StanBackendEnum\n",
      "    File \"C:\\Users\\Keith\\AppData\\Local\\Temp\\pip-install-4v8a5zlq\\fbprophet_669c226ac8fc45959826d33de5e1cbd9\\fbprophet\\__init__.py\", line 8, in <module>\n",
      "      from fbprophet.forecaster import Prophet\n",
      "    File \"C:\\Users\\Keith\\AppData\\Local\\Temp\\pip-install-4v8a5zlq\\fbprophet_669c226ac8fc45959826d33de5e1cbd9\\fbprophet\\forecaster.py\", line 17, in <module>\n",
      "      from fbprophet.make_holidays import get_holiday_names, make_holidays_df\n",
      "    File \"C:\\Users\\Keith\\AppData\\Local\\Temp\\pip-install-4v8a5zlq\\fbprophet_669c226ac8fc45959826d33de5e1cbd9\\fbprophet\\make_holidays.py\", line 14, in <module>\n",
      "      import fbprophet.hdays as hdays_part2\n",
      "    File \"C:\\Users\\Keith\\AppData\\Local\\Temp\\pip-install-4v8a5zlq\\fbprophet_669c226ac8fc45959826d33de5e1cbd9\\fbprophet\\hdays.py\", line 924, in <module>\n",
      "      class TU(Turkey):\n",
      "    File \"C:\\Users\\Keith\\anaconda3\\lib\\site-packages\\holidays\\registry.py\", line 178, in __init__\n",
      "      super().__init__(*args, **kwargs)\n",
      "  TypeError: object.__init__() takes exactly one argument (the instance to initialize)\n",
      "  ----------------------------------------\n",
      "  ERROR: Failed building wheel for fbprophet\n",
      "    ERROR: Command errored out with exit status 1:\n",
      "     command: 'C:\\Users\\Keith\\anaconda3\\python.exe' -u -c 'import io, os, sys, setuptools, tokenize; sys.argv[0] = '\"'\"'C:\\\\Users\\\\Keith\\\\AppData\\\\Local\\\\Temp\\\\pip-install-4v8a5zlq\\\\fbprophet_669c226ac8fc45959826d33de5e1cbd9\\\\setup.py'\"'\"'; __file__='\"'\"'C:\\\\Users\\\\Keith\\\\AppData\\\\Local\\\\Temp\\\\pip-install-4v8a5zlq\\\\fbprophet_669c226ac8fc45959826d33de5e1cbd9\\\\setup.py'\"'\"';f = getattr(tokenize, '\"'\"'open'\"'\"', open)(__file__) if os.path.exists(__file__) else io.StringIO('\"'\"'from setuptools import setup; setup()'\"'\"');code = f.read().replace('\"'\"'\\r\\n'\"'\"', '\"'\"'\\n'\"'\"');f.close();exec(compile(code, __file__, '\"'\"'exec'\"'\"'))' install --record 'C:\\Users\\Keith\\AppData\\Local\\Temp\\pip-record-s3grn8bi\\install-record.txt' --single-version-externally-managed --compile --install-headers 'C:\\Users\\Keith\\anaconda3\\Include\\fbprophet'\n",
      "         cwd: C:\\Users\\Keith\\AppData\\Local\\Temp\\pip-install-4v8a5zlq\\fbprophet_669c226ac8fc45959826d33de5e1cbd9\\\n",
      "    Complete output (346 lines):\n",
      "    running install\n",
      "    C:\\Users\\Keith\\anaconda3\\lib\\site-packages\\setuptools\\command\\install.py:34: SetuptoolsDeprecationWarning: setup.py install is deprecated. Use build and pip and other standards-based tools.\n",
      "      warnings.warn(\n",
      "    running build\n",
      "    running build_py\n",
      "    creating build\n",
      "    creating build\\lib\n",
      "    creating build\\lib\\fbprophet\n",
      "    creating build\\lib\\fbprophet\\stan_model\n",
      "    --- Logging error ---\n",
      "    Traceback (most recent call last):\n",
      "      File \"C:\\Users\\Keith\\anaconda3\\lib\\logging\\__init__.py\", line 1086, in emit\n",
      "        stream.write(msg + self.terminator)\n",
      "    ValueError: underlying buffer has been detached\n",
      "    Call stack:\n",
      "      File \"<string>\", line 1, in <module>\n",
      "      File \"C:\\Users\\Keith\\AppData\\Local\\Temp\\pip-install-4v8a5zlq\\fbprophet_669c226ac8fc45959826d33de5e1cbd9\\setup.py\", line 122, in <module>\n",
      "        setup(\n",
      "      File \"C:\\Users\\Keith\\anaconda3\\lib\\site-packages\\setuptools\\__init__.py\", line 87, in setup\n",
      "        return distutils.core.setup(**attrs)\n",
      "      File \"C:\\Users\\Keith\\anaconda3\\lib\\site-packages\\setuptools\\_distutils\\core.py\", line 148, in setup\n",
      "        return run_commands(dist)\n",
      "      File \"C:\\Users\\Keith\\anaconda3\\lib\\site-packages\\setuptools\\_distutils\\core.py\", line 163, in run_commands\n",
      "        dist.run_commands()\n",
      "      File \"C:\\Users\\Keith\\anaconda3\\lib\\site-packages\\setuptools\\_distutils\\dist.py\", line 967, in run_commands\n",
      "        self.run_command(cmd)\n",
      "      File \"C:\\Users\\Keith\\anaconda3\\lib\\site-packages\\setuptools\\dist.py\", line 1214, in run_command\n",
      "        super().run_command(command)\n",
      "      File \"C:\\Users\\Keith\\anaconda3\\lib\\site-packages\\setuptools\\_distutils\\dist.py\", line 986, in run_command\n",
      "        cmd_obj.run()\n",
      "      File \"C:\\Users\\Keith\\anaconda3\\lib\\site-packages\\setuptools\\command\\install.py\", line 68, in run\n",
      "        return orig.install.run(self)\n",
      "      File \"C:\\Users\\Keith\\anaconda3\\lib\\site-packages\\setuptools\\_distutils\\command\\install.py\", line 664, in run\n",
      "        self.run_command('build')\n",
      "      File \"C:\\Users\\Keith\\anaconda3\\lib\\site-packages\\setuptools\\_distutils\\cmd.py\", line 313, in run_command\n",
      "        self.distribution.run_command(command)\n",
      "      File \"C:\\Users\\Keith\\anaconda3\\lib\\site-packages\\setuptools\\dist.py\", line 1214, in run_command\n",
      "        super().run_command(command)\n",
      "      File \"C:\\Users\\Keith\\anaconda3\\lib\\site-packages\\setuptools\\_distutils\\dist.py\", line 986, in run_command\n",
      "        cmd_obj.run()\n",
      "      File \"C:\\Users\\Keith\\anaconda3\\lib\\site-packages\\setuptools\\_distutils\\command\\build.py\", line 135, in run\n",
      "        self.run_command(cmd_name)\n",
      "      File \"C:\\Users\\Keith\\anaconda3\\lib\\site-packages\\setuptools\\_distutils\\cmd.py\", line 313, in run_command\n",
      "        self.distribution.run_command(command)\n",
      "      File \"C:\\Users\\Keith\\anaconda3\\lib\\site-packages\\setuptools\\dist.py\", line 1214, in run_command\n",
      "        super().run_command(command)\n",
      "      File \"C:\\Users\\Keith\\anaconda3\\lib\\site-packages\\setuptools\\_distutils\\dist.py\", line 986, in run_command\n",
      "        cmd_obj.run()\n",
      "      File \"C:\\Users\\Keith\\AppData\\Local\\Temp\\pip-install-4v8a5zlq\\fbprophet_669c226ac8fc45959826d33de5e1cbd9\\setup.py\", line 48, in run\n",
      "        build_models(target_dir)\n",
      "      File \"C:\\Users\\Keith\\AppData\\Local\\Temp\\pip-install-4v8a5zlq\\fbprophet_669c226ac8fc45959826d33de5e1cbd9\\setup.py\", line 36, in build_models\n",
      "        from fbprophet.models import StanBackendEnum\n",
      "      File \"<frozen importlib._bootstrap>\", line 1007, in _find_and_load\n",
      "      File \"<frozen importlib._bootstrap>\", line 972, in _find_and_load_unlocked\n",
      "      File \"<frozen importlib._bootstrap>\", line 228, in _call_with_frames_removed\n",
      "      File \"<frozen importlib._bootstrap>\", line 1007, in _find_and_load\n",
      "      File \"<frozen importlib._bootstrap>\", line 986, in _find_and_load_unlocked\n",
      "      File \"<frozen importlib._bootstrap>\", line 680, in _load_unlocked\n",
      "      File \"<frozen importlib._bootstrap_external>\", line 850, in exec_module\n",
      "      File \"<frozen importlib._bootstrap>\", line 228, in _call_with_frames_removed\n",
      "      File \"C:\\Users\\Keith\\AppData\\Local\\Temp\\pip-install-4v8a5zlq\\fbprophet_669c226ac8fc45959826d33de5e1cbd9\\fbprophet\\__init__.py\", line 8, in <module>\n",
      "        from fbprophet.forecaster import Prophet\n",
      "      File \"<frozen importlib._bootstrap>\", line 1007, in _find_and_load\n",
      "      File \"<frozen importlib._bootstrap>\", line 986, in _find_and_load_unlocked\n",
      "      File \"<frozen importlib._bootstrap>\", line 680, in _load_unlocked\n",
      "      File \"<frozen importlib._bootstrap_external>\", line 850, in exec_module\n",
      "      File \"<frozen importlib._bootstrap>\", line 228, in _call_with_frames_removed\n",
      "      File \"C:\\Users\\Keith\\AppData\\Local\\Temp\\pip-install-4v8a5zlq\\fbprophet_669c226ac8fc45959826d33de5e1cbd9\\fbprophet\\forecaster.py\", line 15, in <module>\n",
      "        import pandas as pd\n",
      "      File \"<frozen importlib._bootstrap>\", line 1007, in _find_and_load\n",
      "      File \"<frozen importlib._bootstrap>\", line 986, in _find_and_load_unlocked\n",
      "      File \"<frozen importlib._bootstrap>\", line 680, in _load_unlocked\n",
      "      File \"<frozen importlib._bootstrap_external>\", line 850, in exec_module\n",
      "      File \"<frozen importlib._bootstrap>\", line 228, in _call_with_frames_removed\n",
      "      File \"C:\\Users\\Keith\\anaconda3\\lib\\site-packages\\pandas\\__init__.py\", line 48, in <module>\n",
      "        from pandas.core.api import (\n",
      "      File \"<frozen importlib._bootstrap>\", line 1007, in _find_and_load\n",
      "      File \"<frozen importlib._bootstrap>\", line 986, in _find_and_load_unlocked\n",
      "      File \"<frozen importlib._bootstrap>\", line 680, in _load_unlocked\n",
      "      File \"<frozen importlib._bootstrap_external>\", line 850, in exec_module\n",
      "      File \"<frozen importlib._bootstrap>\", line 228, in _call_with_frames_removed\n",
      "      File \"C:\\Users\\Keith\\anaconda3\\lib\\site-packages\\pandas\\core\\api.py\", line 29, in <module>\n",
      "        from pandas.core.arrays import Categorical\n",
      "      File \"<frozen importlib._bootstrap>\", line 1007, in _find_and_load\n",
      "      File \"<frozen importlib._bootstrap>\", line 986, in _find_and_load_unlocked\n",
      "      File \"<frozen importlib._bootstrap>\", line 680, in _load_unlocked\n",
      "      File \"<frozen importlib._bootstrap_external>\", line 850, in exec_module\n",
      "      File \"<frozen importlib._bootstrap>\", line 228, in _call_with_frames_removed\n",
      "      File \"C:\\Users\\Keith\\anaconda3\\lib\\site-packages\\pandas\\core\\arrays\\__init__.py\", line 1, in <module>\n",
      "        from pandas.core.arrays.base import (\n",
      "      File \"<frozen importlib._bootstrap>\", line 1007, in _find_and_load\n",
      "      File \"<frozen importlib._bootstrap>\", line 986, in _find_and_load_unlocked\n",
      "      File \"<frozen importlib._bootstrap>\", line 680, in _load_unlocked\n",
      "      File \"<frozen importlib._bootstrap_external>\", line 850, in exec_module\n",
      "      File \"<frozen importlib._bootstrap>\", line 228, in _call_with_frames_removed\n",
      "      File \"C:\\Users\\Keith\\anaconda3\\lib\\site-packages\\pandas\\core\\arrays\\base.py\", line 68, in <module>\n",
      "        from pandas.core import (\n",
      "      File \"<frozen importlib._bootstrap>\", line 1058, in _handle_fromlist\n",
      "      File \"<frozen importlib._bootstrap>\", line 228, in _call_with_frames_removed\n",
      "      File \"<frozen importlib._bootstrap>\", line 1007, in _find_and_load\n",
      "      File \"<frozen importlib._bootstrap>\", line 986, in _find_and_load_unlocked\n",
      "      File \"<frozen importlib._bootstrap>\", line 680, in _load_unlocked\n",
      "      File \"<frozen importlib._bootstrap_external>\", line 850, in exec_module\n",
      "      File \"<frozen importlib._bootstrap>\", line 228, in _call_with_frames_removed\n",
      "      File \"C:\\Users\\Keith\\anaconda3\\lib\\site-packages\\pandas\\core\\arraylike.py\", line 21, in <module>\n",
      "        from pandas.core.ops.common import unpack_zerodim_and_defer\n",
      "      File \"<frozen importlib._bootstrap>\", line 1007, in _find_and_load\n",
      "      File \"<frozen importlib._bootstrap>\", line 972, in _find_and_load_unlocked\n",
      "      File \"<frozen importlib._bootstrap>\", line 228, in _call_with_frames_removed\n",
      "      File \"<frozen importlib._bootstrap>\", line 1007, in _find_and_load\n",
      "      File \"<frozen importlib._bootstrap>\", line 986, in _find_and_load_unlocked\n",
      "      File \"<frozen importlib._bootstrap>\", line 680, in _load_unlocked\n",
      "      File \"<frozen importlib._bootstrap_external>\", line 850, in exec_module\n",
      "      File \"<frozen importlib._bootstrap>\", line 228, in _call_with_frames_removed\n",
      "      File \"C:\\Users\\Keith\\anaconda3\\lib\\site-packages\\pandas\\core\\ops\\__init__.py\", line 33, in <module>\n",
      "        from pandas.core.ops.array_ops import (  # noqa:F401\n",
      "      File \"<frozen importlib._bootstrap>\", line 1007, in _find_and_load\n",
      "      File \"<frozen importlib._bootstrap>\", line 986, in _find_and_load_unlocked\n",
      "      File \"<frozen importlib._bootstrap>\", line 680, in _load_unlocked\n",
      "      File \"<frozen importlib._bootstrap_external>\", line 850, in exec_module\n",
      "      File \"<frozen importlib._bootstrap>\", line 228, in _call_with_frames_removed\n",
      "      File \"C:\\Users\\Keith\\anaconda3\\lib\\site-packages\\pandas\\core\\ops\\array_ops.py\", line 48, in <module>\n",
      "        import pandas.core.computation.expressions as expressions\n",
      "      File \"<frozen importlib._bootstrap>\", line 1007, in _find_and_load\n",
      "      File \"<frozen importlib._bootstrap>\", line 986, in _find_and_load_unlocked\n",
      "      File \"<frozen importlib._bootstrap>\", line 680, in _load_unlocked\n",
      "      File \"<frozen importlib._bootstrap_external>\", line 850, in exec_module\n",
      "      File \"<frozen importlib._bootstrap>\", line 228, in _call_with_frames_removed\n",
      "      File \"C:\\Users\\Keith\\anaconda3\\lib\\site-packages\\pandas\\core\\computation\\expressions.py\", line 19, in <module>\n",
      "        from pandas.core.computation.check import NUMEXPR_INSTALLED\n",
      "      File \"<frozen importlib._bootstrap>\", line 1007, in _find_and_load\n",
      "      File \"<frozen importlib._bootstrap>\", line 986, in _find_and_load_unlocked\n",
      "      File \"<frozen importlib._bootstrap>\", line 680, in _load_unlocked\n",
      "      File \"<frozen importlib._bootstrap_external>\", line 850, in exec_module\n",
      "      File \"<frozen importlib._bootstrap>\", line 228, in _call_with_frames_removed\n",
      "      File \"C:\\Users\\Keith\\anaconda3\\lib\\site-packages\\pandas\\core\\computation\\check.py\", line 3, in <module>\n",
      "        ne = import_optional_dependency(\"numexpr\", errors=\"warn\")\n",
      "      File \"C:\\Users\\Keith\\anaconda3\\lib\\site-packages\\pandas\\compat\\_optional.py\", line 138, in import_optional_dependency\n",
      "        module = importlib.import_module(name)\n",
      "      File \"C:\\Users\\Keith\\anaconda3\\lib\\importlib\\__init__.py\", line 127, in import_module\n",
      "        return _bootstrap._gcd_import(name[level:], package, level)\n",
      "      File \"<frozen importlib._bootstrap>\", line 1030, in _gcd_import\n",
      "      File \"<frozen importlib._bootstrap>\", line 1007, in _find_and_load\n",
      "      File \"<frozen importlib._bootstrap>\", line 986, in _find_and_load_unlocked\n",
      "      File \"<frozen importlib._bootstrap>\", line 680, in _load_unlocked\n",
      "      File \"<frozen importlib._bootstrap_external>\", line 850, in exec_module\n",
      "      File \"<frozen importlib._bootstrap>\", line 228, in _call_with_frames_removed\n",
      "      File \"C:\\Users\\Keith\\anaconda3\\lib\\site-packages\\numexpr\\__init__.py\", line 44, in <module>\n",
      "        nthreads = _init_num_threads()\n",
      "      File \"C:\\Users\\Keith\\anaconda3\\lib\\site-packages\\numexpr\\utils.py\", line 147, in _init_num_threads\n",
      "        log.info('Note: NumExpr detected %d cores but \"NUMEXPR_MAX_THREADS\" not set, so enforcing safe limit of 8.'%n_cores)\n",
      "    Message: 'Note: NumExpr detected 12 cores but \"NUMEXPR_MAX_THREADS\" not set, so enforcing safe limit of 8.'\n",
      "    Arguments: ()\n",
      "    --- Logging error ---\n",
      "    Traceback (most recent call last):\n",
      "      File \"C:\\Users\\Keith\\anaconda3\\lib\\logging\\__init__.py\", line 1086, in emit\n",
      "        stream.write(msg + self.terminator)\n",
      "    ValueError: underlying buffer has been detached\n",
      "    Call stack:\n",
      "      File \"<string>\", line 1, in <module>\n",
      "      File \"C:\\Users\\Keith\\AppData\\Local\\Temp\\pip-install-4v8a5zlq\\fbprophet_669c226ac8fc45959826d33de5e1cbd9\\setup.py\", line 122, in <module>\n",
      "        setup(\n",
      "      File \"C:\\Users\\Keith\\anaconda3\\lib\\site-packages\\setuptools\\__init__.py\", line 87, in setup\n",
      "        return distutils.core.setup(**attrs)\n",
      "      File \"C:\\Users\\Keith\\anaconda3\\lib\\site-packages\\setuptools\\_distutils\\core.py\", line 148, in setup\n",
      "        return run_commands(dist)\n",
      "      File \"C:\\Users\\Keith\\anaconda3\\lib\\site-packages\\setuptools\\_distutils\\core.py\", line 163, in run_commands\n",
      "        dist.run_commands()\n",
      "      File \"C:\\Users\\Keith\\anaconda3\\lib\\site-packages\\setuptools\\_distutils\\dist.py\", line 967, in run_commands\n",
      "        self.run_command(cmd)\n",
      "      File \"C:\\Users\\Keith\\anaconda3\\lib\\site-packages\\setuptools\\dist.py\", line 1214, in run_command\n",
      "        super().run_command(command)\n",
      "      File \"C:\\Users\\Keith\\anaconda3\\lib\\site-packages\\setuptools\\_distutils\\dist.py\", line 986, in run_command\n",
      "        cmd_obj.run()\n",
      "      File \"C:\\Users\\Keith\\anaconda3\\lib\\site-packages\\setuptools\\command\\install.py\", line 68, in run\n",
      "        return orig.install.run(self)\n",
      "      File \"C:\\Users\\Keith\\anaconda3\\lib\\site-packages\\setuptools\\_distutils\\command\\install.py\", line 664, in run\n",
      "        self.run_command('build')\n",
      "      File \"C:\\Users\\Keith\\anaconda3\\lib\\site-packages\\setuptools\\_distutils\\cmd.py\", line 313, in run_command\n",
      "        self.distribution.run_command(command)\n",
      "      File \"C:\\Users\\Keith\\anaconda3\\lib\\site-packages\\setuptools\\dist.py\", line 1214, in run_command\n",
      "        super().run_command(command)\n",
      "      File \"C:\\Users\\Keith\\anaconda3\\lib\\site-packages\\setuptools\\_distutils\\dist.py\", line 986, in run_command\n",
      "        cmd_obj.run()\n",
      "      File \"C:\\Users\\Keith\\anaconda3\\lib\\site-packages\\setuptools\\_distutils\\command\\build.py\", line 135, in run\n",
      "        self.run_command(cmd_name)\n",
      "      File \"C:\\Users\\Keith\\anaconda3\\lib\\site-packages\\setuptools\\_distutils\\cmd.py\", line 313, in run_command\n",
      "        self.distribution.run_command(command)\n",
      "      File \"C:\\Users\\Keith\\anaconda3\\lib\\site-packages\\setuptools\\dist.py\", line 1214, in run_command\n",
      "        super().run_command(command)\n",
      "      File \"C:\\Users\\Keith\\anaconda3\\lib\\site-packages\\setuptools\\_distutils\\dist.py\", line 986, in run_command\n",
      "        cmd_obj.run()\n",
      "      File \"C:\\Users\\Keith\\AppData\\Local\\Temp\\pip-install-4v8a5zlq\\fbprophet_669c226ac8fc45959826d33de5e1cbd9\\setup.py\", line 48, in run\n",
      "        build_models(target_dir)\n",
      "      File \"C:\\Users\\Keith\\AppData\\Local\\Temp\\pip-install-4v8a5zlq\\fbprophet_669c226ac8fc45959826d33de5e1cbd9\\setup.py\", line 36, in build_models\n",
      "        from fbprophet.models import StanBackendEnum\n",
      "      File \"<frozen importlib._bootstrap>\", line 1007, in _find_and_load\n",
      "      File \"<frozen importlib._bootstrap>\", line 972, in _find_and_load_unlocked\n",
      "      File \"<frozen importlib._bootstrap>\", line 228, in _call_with_frames_removed\n",
      "      File \"<frozen importlib._bootstrap>\", line 1007, in _find_and_load\n",
      "      File \"<frozen importlib._bootstrap>\", line 986, in _find_and_load_unlocked\n",
      "      File \"<frozen importlib._bootstrap>\", line 680, in _load_unlocked\n",
      "      File \"<frozen importlib._bootstrap_external>\", line 850, in exec_module\n",
      "      File \"<frozen importlib._bootstrap>\", line 228, in _call_with_frames_removed\n",
      "      File \"C:\\Users\\Keith\\AppData\\Local\\Temp\\pip-install-4v8a5zlq\\fbprophet_669c226ac8fc45959826d33de5e1cbd9\\fbprophet\\__init__.py\", line 8, in <module>\n",
      "        from fbprophet.forecaster import Prophet\n",
      "      File \"<frozen importlib._bootstrap>\", line 1007, in _find_and_load\n",
      "      File \"<frozen importlib._bootstrap>\", line 986, in _find_and_load_unlocked\n",
      "      File \"<frozen importlib._bootstrap>\", line 680, in _load_unlocked\n",
      "      File \"<frozen importlib._bootstrap_external>\", line 850, in exec_module\n",
      "      File \"<frozen importlib._bootstrap>\", line 228, in _call_with_frames_removed\n",
      "      File \"C:\\Users\\Keith\\AppData\\Local\\Temp\\pip-install-4v8a5zlq\\fbprophet_669c226ac8fc45959826d33de5e1cbd9\\fbprophet\\forecaster.py\", line 15, in <module>\n",
      "        import pandas as pd\n",
      "      File \"<frozen importlib._bootstrap>\", line 1007, in _find_and_load\n",
      "      File \"<frozen importlib._bootstrap>\", line 986, in _find_and_load_unlocked\n",
      "      File \"<frozen importlib._bootstrap>\", line 680, in _load_unlocked\n",
      "      File \"<frozen importlib._bootstrap_external>\", line 850, in exec_module\n",
      "      File \"<frozen importlib._bootstrap>\", line 228, in _call_with_frames_removed\n",
      "      File \"C:\\Users\\Keith\\anaconda3\\lib\\site-packages\\pandas\\__init__.py\", line 48, in <module>\n",
      "        from pandas.core.api import (\n",
      "      File \"<frozen importlib._bootstrap>\", line 1007, in _find_and_load\n",
      "      File \"<frozen importlib._bootstrap>\", line 986, in _find_and_load_unlocked\n",
      "      File \"<frozen importlib._bootstrap>\", line 680, in _load_unlocked\n",
      "      File \"<frozen importlib._bootstrap_external>\", line 850, in exec_module\n",
      "      File \"<frozen importlib._bootstrap>\", line 228, in _call_with_frames_removed\n",
      "      File \"C:\\Users\\Keith\\anaconda3\\lib\\site-packages\\pandas\\core\\api.py\", line 29, in <module>\n",
      "        from pandas.core.arrays import Categorical\n",
      "      File \"<frozen importlib._bootstrap>\", line 1007, in _find_and_load\n",
      "      File \"<frozen importlib._bootstrap>\", line 986, in _find_and_load_unlocked\n",
      "      File \"<frozen importlib._bootstrap>\", line 680, in _load_unlocked\n",
      "      File \"<frozen importlib._bootstrap_external>\", line 850, in exec_module\n",
      "      File \"<frozen importlib._bootstrap>\", line 228, in _call_with_frames_removed\n",
      "      File \"C:\\Users\\Keith\\anaconda3\\lib\\site-packages\\pandas\\core\\arrays\\__init__.py\", line 1, in <module>\n",
      "        from pandas.core.arrays.base import (\n",
      "      File \"<frozen importlib._bootstrap>\", line 1007, in _find_and_load\n",
      "      File \"<frozen importlib._bootstrap>\", line 986, in _find_and_load_unlocked\n",
      "      File \"<frozen importlib._bootstrap>\", line 680, in _load_unlocked\n",
      "      File \"<frozen importlib._bootstrap_external>\", line 850, in exec_module\n",
      "      File \"<frozen importlib._bootstrap>\", line 228, in _call_with_frames_removed\n",
      "      File \"C:\\Users\\Keith\\anaconda3\\lib\\site-packages\\pandas\\core\\arrays\\base.py\", line 68, in <module>\n",
      "        from pandas.core import (\n",
      "      File \"<frozen importlib._bootstrap>\", line 1058, in _handle_fromlist\n",
      "      File \"<frozen importlib._bootstrap>\", line 228, in _call_with_frames_removed\n",
      "      File \"<frozen importlib._bootstrap>\", line 1007, in _find_and_load\n",
      "      File \"<frozen importlib._bootstrap>\", line 986, in _find_and_load_unlocked\n",
      "      File \"<frozen importlib._bootstrap>\", line 680, in _load_unlocked\n",
      "      File \"<frozen importlib._bootstrap_external>\", line 850, in exec_module\n",
      "      File \"<frozen importlib._bootstrap>\", line 228, in _call_with_frames_removed\n",
      "      File \"C:\\Users\\Keith\\anaconda3\\lib\\site-packages\\pandas\\core\\arraylike.py\", line 21, in <module>\n",
      "        from pandas.core.ops.common import unpack_zerodim_and_defer\n",
      "      File \"<frozen importlib._bootstrap>\", line 1007, in _find_and_load\n",
      "      File \"<frozen importlib._bootstrap>\", line 972, in _find_and_load_unlocked\n",
      "      File \"<frozen importlib._bootstrap>\", line 228, in _call_with_frames_removed\n",
      "      File \"<frozen importlib._bootstrap>\", line 1007, in _find_and_load\n",
      "      File \"<frozen importlib._bootstrap>\", line 986, in _find_and_load_unlocked\n",
      "      File \"<frozen importlib._bootstrap>\", line 680, in _load_unlocked\n",
      "      File \"<frozen importlib._bootstrap_external>\", line 850, in exec_module\n",
      "      File \"<frozen importlib._bootstrap>\", line 228, in _call_with_frames_removed\n",
      "      File \"C:\\Users\\Keith\\anaconda3\\lib\\site-packages\\pandas\\core\\ops\\__init__.py\", line 33, in <module>\n",
      "        from pandas.core.ops.array_ops import (  # noqa:F401\n",
      "      File \"<frozen importlib._bootstrap>\", line 1007, in _find_and_load\n",
      "      File \"<frozen importlib._bootstrap>\", line 986, in _find_and_load_unlocked\n",
      "      File \"<frozen importlib._bootstrap>\", line 680, in _load_unlocked\n",
      "      File \"<frozen importlib._bootstrap_external>\", line 850, in exec_module\n",
      "      File \"<frozen importlib._bootstrap>\", line 228, in _call_with_frames_removed\n",
      "      File \"C:\\Users\\Keith\\anaconda3\\lib\\site-packages\\pandas\\core\\ops\\array_ops.py\", line 48, in <module>\n",
      "        import pandas.core.computation.expressions as expressions\n",
      "      File \"<frozen importlib._bootstrap>\", line 1007, in _find_and_load\n",
      "      File \"<frozen importlib._bootstrap>\", line 986, in _find_and_load_unlocked\n",
      "      File \"<frozen importlib._bootstrap>\", line 680, in _load_unlocked\n",
      "      File \"<frozen importlib._bootstrap_external>\", line 850, in exec_module\n",
      "      File \"<frozen importlib._bootstrap>\", line 228, in _call_with_frames_removed\n",
      "      File \"C:\\Users\\Keith\\anaconda3\\lib\\site-packages\\pandas\\core\\computation\\expressions.py\", line 19, in <module>\n",
      "        from pandas.core.computation.check import NUMEXPR_INSTALLED\n",
      "      File \"<frozen importlib._bootstrap>\", line 1007, in _find_and_load\n",
      "      File \"<frozen importlib._bootstrap>\", line 986, in _find_and_load_unlocked\n",
      "      File \"<frozen importlib._bootstrap>\", line 680, in _load_unlocked\n",
      "      File \"<frozen importlib._bootstrap_external>\", line 850, in exec_module\n",
      "      File \"<frozen importlib._bootstrap>\", line 228, in _call_with_frames_removed\n",
      "      File \"C:\\Users\\Keith\\anaconda3\\lib\\site-packages\\pandas\\core\\computation\\check.py\", line 3, in <module>\n",
      "        ne = import_optional_dependency(\"numexpr\", errors=\"warn\")\n",
      "      File \"C:\\Users\\Keith\\anaconda3\\lib\\site-packages\\pandas\\compat\\_optional.py\", line 138, in import_optional_dependency\n",
      "        module = importlib.import_module(name)\n",
      "      File \"C:\\Users\\Keith\\anaconda3\\lib\\importlib\\__init__.py\", line 127, in import_module\n",
      "        return _bootstrap._gcd_import(name[level:], package, level)\n",
      "      File \"<frozen importlib._bootstrap>\", line 1030, in _gcd_import\n",
      "      File \"<frozen importlib._bootstrap>\", line 1007, in _find_and_load\n",
      "      File \"<frozen importlib._bootstrap>\", line 986, in _find_and_load_unlocked\n",
      "      File \"<frozen importlib._bootstrap>\", line 680, in _load_unlocked\n",
      "      File \"<frozen importlib._bootstrap_external>\", line 850, in exec_module\n",
      "      File \"<frozen importlib._bootstrap>\", line 228, in _call_with_frames_removed\n",
      "      File \"C:\\Users\\Keith\\anaconda3\\lib\\site-packages\\numexpr\\__init__.py\", line 44, in <module>\n",
      "        nthreads = _init_num_threads()\n",
      "      File \"C:\\Users\\Keith\\anaconda3\\lib\\site-packages\\numexpr\\utils.py\", line 159, in _init_num_threads\n",
      "        log.info('NumExpr defaulting to %d threads.'%n_cores)\n",
      "    Message: 'NumExpr defaulting to 8 threads.'\n",
      "    Arguments: ()\n",
      "    Traceback (most recent call last):\n",
      "      File \"<string>\", line 1, in <module>\n",
      "      File \"C:\\Users\\Keith\\AppData\\Local\\Temp\\pip-install-4v8a5zlq\\fbprophet_669c226ac8fc45959826d33de5e1cbd9\\setup.py\", line 122, in <module>\n",
      "        setup(\n",
      "      File \"C:\\Users\\Keith\\anaconda3\\lib\\site-packages\\setuptools\\__init__.py\", line 87, in setup\n",
      "        return distutils.core.setup(**attrs)\n",
      "      File \"C:\\Users\\Keith\\anaconda3\\lib\\site-packages\\setuptools\\_distutils\\core.py\", line 148, in setup\n",
      "        return run_commands(dist)\n",
      "      File \"C:\\Users\\Keith\\anaconda3\\lib\\site-packages\\setuptools\\_distutils\\core.py\", line 163, in run_commands\n",
      "        dist.run_commands()\n",
      "      File \"C:\\Users\\Keith\\anaconda3\\lib\\site-packages\\setuptools\\_distutils\\dist.py\", line 967, in run_commands\n",
      "        self.run_command(cmd)\n",
      "      File \"C:\\Users\\Keith\\anaconda3\\lib\\site-packages\\setuptools\\dist.py\", line 1214, in run_command\n",
      "        super().run_command(command)\n",
      "      File \"C:\\Users\\Keith\\anaconda3\\lib\\site-packages\\setuptools\\_distutils\\dist.py\", line 986, in run_command\n",
      "        cmd_obj.run()\n",
      "      File \"C:\\Users\\Keith\\anaconda3\\lib\\site-packages\\setuptools\\command\\install.py\", line 68, in run\n",
      "        return orig.install.run(self)\n",
      "      File \"C:\\Users\\Keith\\anaconda3\\lib\\site-packages\\setuptools\\_distutils\\command\\install.py\", line 664, in run\n",
      "        self.run_command('build')\n",
      "      File \"C:\\Users\\Keith\\anaconda3\\lib\\site-packages\\setuptools\\_distutils\\cmd.py\", line 313, in run_command\n",
      "        self.distribution.run_command(command)\n",
      "      File \"C:\\Users\\Keith\\anaconda3\\lib\\site-packages\\setuptools\\dist.py\", line 1214, in run_command\n",
      "        super().run_command(command)\n",
      "      File \"C:\\Users\\Keith\\anaconda3\\lib\\site-packages\\setuptools\\_distutils\\dist.py\", line 986, in run_command\n",
      "        cmd_obj.run()\n",
      "      File \"C:\\Users\\Keith\\anaconda3\\lib\\site-packages\\setuptools\\_distutils\\command\\build.py\", line 135, in run\n",
      "        self.run_command(cmd_name)\n",
      "      File \"C:\\Users\\Keith\\anaconda3\\lib\\site-packages\\setuptools\\_distutils\\cmd.py\", line 313, in run_command\n",
      "        self.distribution.run_command(command)\n",
      "      File \"C:\\Users\\Keith\\anaconda3\\lib\\site-packages\\setuptools\\dist.py\", line 1214, in run_command\n",
      "        super().run_command(command)\n",
      "      File \"C:\\Users\\Keith\\anaconda3\\lib\\site-packages\\setuptools\\_distutils\\dist.py\", line 986, in run_command\n",
      "        cmd_obj.run()\n",
      "      File \"C:\\Users\\Keith\\AppData\\Local\\Temp\\pip-install-4v8a5zlq\\fbprophet_669c226ac8fc45959826d33de5e1cbd9\\setup.py\", line 48, in run\n",
      "        build_models(target_dir)\n",
      "      File \"C:\\Users\\Keith\\AppData\\Local\\Temp\\pip-install-4v8a5zlq\\fbprophet_669c226ac8fc45959826d33de5e1cbd9\\setup.py\", line 36, in build_models\n",
      "        from fbprophet.models import StanBackendEnum\n",
      "      File \"C:\\Users\\Keith\\AppData\\Local\\Temp\\pip-install-4v8a5zlq\\fbprophet_669c226ac8fc45959826d33de5e1cbd9\\fbprophet\\__init__.py\", line 8, in <module>\n",
      "        from fbprophet.forecaster import Prophet\n",
      "      File \"C:\\Users\\Keith\\AppData\\Local\\Temp\\pip-install-4v8a5zlq\\fbprophet_669c226ac8fc45959826d33de5e1cbd9\\fbprophet\\forecaster.py\", line 17, in <module>\n",
      "        from fbprophet.make_holidays import get_holiday_names, make_holidays_df\n",
      "      File \"C:\\Users\\Keith\\AppData\\Local\\Temp\\pip-install-4v8a5zlq\\fbprophet_669c226ac8fc45959826d33de5e1cbd9\\fbprophet\\make_holidays.py\", line 14, in <module>\n",
      "        import fbprophet.hdays as hdays_part2\n",
      "      File \"C:\\Users\\Keith\\AppData\\Local\\Temp\\pip-install-4v8a5zlq\\fbprophet_669c226ac8fc45959826d33de5e1cbd9\\fbprophet\\hdays.py\", line 924, in <module>\n",
      "        class TU(Turkey):\n",
      "      File \"C:\\Users\\Keith\\anaconda3\\lib\\site-packages\\holidays\\registry.py\", line 178, in __init__\n",
      "        super().__init__(*args, **kwargs)\n",
      "    TypeError: object.__init__() takes exactly one argument (the instance to initialize)\n",
      "    ----------------------------------------\n",
      "ERROR: Command errored out with exit status 1: 'C:\\Users\\Keith\\anaconda3\\python.exe' -u -c 'import io, os, sys, setuptools, tokenize; sys.argv[0] = '\"'\"'C:\\\\Users\\\\Keith\\\\AppData\\\\Local\\\\Temp\\\\pip-install-4v8a5zlq\\\\fbprophet_669c226ac8fc45959826d33de5e1cbd9\\\\setup.py'\"'\"'; __file__='\"'\"'C:\\\\Users\\\\Keith\\\\AppData\\\\Local\\\\Temp\\\\pip-install-4v8a5zlq\\\\fbprophet_669c226ac8fc45959826d33de5e1cbd9\\\\setup.py'\"'\"';f = getattr(tokenize, '\"'\"'open'\"'\"', open)(__file__) if os.path.exists(__file__) else io.StringIO('\"'\"'from setuptools import setup; setup()'\"'\"');code = f.read().replace('\"'\"'\\r\\n'\"'\"', '\"'\"'\\n'\"'\"');f.close();exec(compile(code, __file__, '\"'\"'exec'\"'\"'))' install --record 'C:\\Users\\Keith\\AppData\\Local\\Temp\\pip-record-s3grn8bi\\install-record.txt' --single-version-externally-managed --compile --install-headers 'C:\\Users\\Keith\\anaconda3\\Include\\fbprophet' Check the logs for full command output.\n"
     ]
    }
   ],
   "source": [
    "!pip install pystan\n",
    "!pip install fbprophet"
   ]
  },
  {
   "cell_type": "code",
   "execution_count": 94,
   "id": "46cecf5b",
   "metadata": {},
   "outputs": [],
   "source": [
    "prophet_data= ft_data"
   ]
  },
  {
   "cell_type": "code",
   "execution_count": 95,
   "id": "b9ffdcbd",
   "metadata": {
    "scrolled": true
   },
   "outputs": [
    {
     "data": {
      "text/html": [
       "<div>\n",
       "<style scoped>\n",
       "    .dataframe tbody tr th:only-of-type {\n",
       "        vertical-align: middle;\n",
       "    }\n",
       "\n",
       "    .dataframe tbody tr th {\n",
       "        vertical-align: top;\n",
       "    }\n",
       "\n",
       "    .dataframe thead th {\n",
       "        text-align: right;\n",
       "    }\n",
       "</style>\n",
       "<table border=\"1\" class=\"dataframe\">\n",
       "  <thead>\n",
       "    <tr style=\"text-align: right;\">\n",
       "      <th></th>\n",
       "      <th>user_name</th>\n",
       "      <th>date</th>\n",
       "      <th>text</th>\n",
       "      <th>neg</th>\n",
       "      <th>neu</th>\n",
       "      <th>pos</th>\n",
       "      <th>compound</th>\n",
       "      <th>label</th>\n",
       "      <th>year</th>\n",
       "    </tr>\n",
       "  </thead>\n",
       "  <tbody>\n",
       "    <tr>\n",
       "      <th>21939</th>\n",
       "      <td>8650</td>\n",
       "      <td>2020-12-26</td>\n",
       "      <td>covidvaccine coronavirusstrain oxfordvaccine v...</td>\n",
       "      <td>0.292</td>\n",
       "      <td>0.708</td>\n",
       "      <td>0.00</td>\n",
       "      <td>-0.5106</td>\n",
       "      <td>negative</td>\n",
       "      <td>2020</td>\n",
       "    </tr>\n",
       "    <tr>\n",
       "      <th>21940</th>\n",
       "      <td>14396</td>\n",
       "      <td>2020-12-26</td>\n",
       "      <td>christmas 2020 conspiracy theorists spent seas...</td>\n",
       "      <td>0.000</td>\n",
       "      <td>1.000</td>\n",
       "      <td>0.00</td>\n",
       "      <td>0.0000</td>\n",
       "      <td>neutral</td>\n",
       "      <td>2020</td>\n",
       "    </tr>\n",
       "    <tr>\n",
       "      <th>21941</th>\n",
       "      <td>131540</td>\n",
       "      <td>2020-12-26</td>\n",
       "      <td>looking forward dosetwo covidvaccine minus two...</td>\n",
       "      <td>0.000</td>\n",
       "      <td>0.610</td>\n",
       "      <td>0.39</td>\n",
       "      <td>0.7506</td>\n",
       "      <td>positive</td>\n",
       "      <td>2020</td>\n",
       "    </tr>\n",
       "    <tr>\n",
       "      <th>21942</th>\n",
       "      <td>76125</td>\n",
       "      <td>2020-12-26</td>\n",
       "      <td>oxford vaccine approved within days could end ...</td>\n",
       "      <td>0.000</td>\n",
       "      <td>1.000</td>\n",
       "      <td>0.00</td>\n",
       "      <td>0.0000</td>\n",
       "      <td>neutral</td>\n",
       "      <td>2020</td>\n",
       "    </tr>\n",
       "    <tr>\n",
       "      <th>21943</th>\n",
       "      <td>15663</td>\n",
       "      <td>2020-12-26</td>\n",
       "      <td>murphypix many nursing home residents staffnot...</td>\n",
       "      <td>0.000</td>\n",
       "      <td>1.000</td>\n",
       "      <td>0.00</td>\n",
       "      <td>0.0000</td>\n",
       "      <td>neutral</td>\n",
       "      <td>2020</td>\n",
       "    </tr>\n",
       "  </tbody>\n",
       "</table>\n",
       "</div>"
      ],
      "text/plain": [
       "       user_name        date  \\\n",
       "21939       8650  2020-12-26   \n",
       "21940      14396  2020-12-26   \n",
       "21941     131540  2020-12-26   \n",
       "21942      76125  2020-12-26   \n",
       "21943      15663  2020-12-26   \n",
       "\n",
       "                                                    text    neg    neu   pos  \\\n",
       "21939  covidvaccine coronavirusstrain oxfordvaccine v...  0.292  0.708  0.00   \n",
       "21940  christmas 2020 conspiracy theorists spent seas...  0.000  1.000  0.00   \n",
       "21941  looking forward dosetwo covidvaccine minus two...  0.000  0.610  0.39   \n",
       "21942  oxford vaccine approved within days could end ...  0.000  1.000  0.00   \n",
       "21943  murphypix many nursing home residents staffnot...  0.000  1.000  0.00   \n",
       "\n",
       "       compound     label  year  \n",
       "21939   -0.5106  negative  2020  \n",
       "21940    0.0000   neutral  2020  \n",
       "21941    0.7506  positive  2020  \n",
       "21942    0.0000   neutral  2020  \n",
       "21943    0.0000   neutral  2020  "
      ]
     },
     "execution_count": 95,
     "metadata": {},
     "output_type": "execute_result"
    }
   ],
   "source": [
    "prophet_data.head()"
   ]
  },
  {
   "cell_type": "code",
   "execution_count": 96,
   "id": "7674e8a7",
   "metadata": {},
   "outputs": [],
   "source": [
    "prophet_data= prophet_data.drop(['user_name', 'text','neg','neu','pos','label','year'], axis=1)"
   ]
  },
  {
   "cell_type": "code",
   "execution_count": 97,
   "id": "4c6ceb51",
   "metadata": {
    "scrolled": true
   },
   "outputs": [
    {
     "data": {
      "text/html": [
       "<div>\n",
       "<style scoped>\n",
       "    .dataframe tbody tr th:only-of-type {\n",
       "        vertical-align: middle;\n",
       "    }\n",
       "\n",
       "    .dataframe tbody tr th {\n",
       "        vertical-align: top;\n",
       "    }\n",
       "\n",
       "    .dataframe thead th {\n",
       "        text-align: right;\n",
       "    }\n",
       "</style>\n",
       "<table border=\"1\" class=\"dataframe\">\n",
       "  <thead>\n",
       "    <tr style=\"text-align: right;\">\n",
       "      <th></th>\n",
       "      <th>date</th>\n",
       "      <th>compound</th>\n",
       "    </tr>\n",
       "  </thead>\n",
       "  <tbody>\n",
       "    <tr>\n",
       "      <th>21939</th>\n",
       "      <td>2020-12-26</td>\n",
       "      <td>-0.5106</td>\n",
       "    </tr>\n",
       "    <tr>\n",
       "      <th>21940</th>\n",
       "      <td>2020-12-26</td>\n",
       "      <td>0.0000</td>\n",
       "    </tr>\n",
       "    <tr>\n",
       "      <th>21941</th>\n",
       "      <td>2020-12-26</td>\n",
       "      <td>0.7506</td>\n",
       "    </tr>\n",
       "    <tr>\n",
       "      <th>21942</th>\n",
       "      <td>2020-12-26</td>\n",
       "      <td>0.0000</td>\n",
       "    </tr>\n",
       "    <tr>\n",
       "      <th>21943</th>\n",
       "      <td>2020-12-26</td>\n",
       "      <td>0.0000</td>\n",
       "    </tr>\n",
       "  </tbody>\n",
       "</table>\n",
       "</div>"
      ],
      "text/plain": [
       "             date  compound\n",
       "21939  2020-12-26   -0.5106\n",
       "21940  2020-12-26    0.0000\n",
       "21941  2020-12-26    0.7506\n",
       "21942  2020-12-26    0.0000\n",
       "21943  2020-12-26    0.0000"
      ]
     },
     "execution_count": 97,
     "metadata": {},
     "output_type": "execute_result"
    }
   ],
   "source": [
    "prophet_data.head()"
   ]
  },
  {
   "cell_type": "code",
   "execution_count": 98,
   "id": "3b348edf",
   "metadata": {},
   "outputs": [],
   "source": [
    "prophet_data.rename(columns={'date': 'ds', 'compound': 'y'}, inplace=True)"
   ]
  },
  {
   "cell_type": "code",
   "execution_count": 99,
   "id": "8f039634",
   "metadata": {
    "scrolled": true
   },
   "outputs": [
    {
     "name": "stdout",
     "output_type": "stream",
     "text": [
      "Index(['ds', 'y'], dtype='object')\n"
     ]
    }
   ],
   "source": [
    "print(prophet_data.columns)"
   ]
  },
  {
   "cell_type": "code",
   "execution_count": 100,
   "id": "4a45f15e",
   "metadata": {},
   "outputs": [
    {
     "data": {
      "text/html": [
       "<div>\n",
       "<style scoped>\n",
       "    .dataframe tbody tr th:only-of-type {\n",
       "        vertical-align: middle;\n",
       "    }\n",
       "\n",
       "    .dataframe tbody tr th {\n",
       "        vertical-align: top;\n",
       "    }\n",
       "\n",
       "    .dataframe thead th {\n",
       "        text-align: right;\n",
       "    }\n",
       "</style>\n",
       "<table border=\"1\" class=\"dataframe\">\n",
       "  <thead>\n",
       "    <tr style=\"text-align: right;\">\n",
       "      <th></th>\n",
       "      <th>ds</th>\n",
       "      <th>y</th>\n",
       "    </tr>\n",
       "  </thead>\n",
       "  <tbody>\n",
       "    <tr>\n",
       "      <th>21939</th>\n",
       "      <td>2020-12-26</td>\n",
       "      <td>-0.5106</td>\n",
       "    </tr>\n",
       "    <tr>\n",
       "      <th>21940</th>\n",
       "      <td>2020-12-26</td>\n",
       "      <td>0.0000</td>\n",
       "    </tr>\n",
       "    <tr>\n",
       "      <th>21941</th>\n",
       "      <td>2020-12-26</td>\n",
       "      <td>0.7506</td>\n",
       "    </tr>\n",
       "    <tr>\n",
       "      <th>21942</th>\n",
       "      <td>2020-12-26</td>\n",
       "      <td>0.0000</td>\n",
       "    </tr>\n",
       "    <tr>\n",
       "      <th>21943</th>\n",
       "      <td>2020-12-26</td>\n",
       "      <td>0.0000</td>\n",
       "    </tr>\n",
       "  </tbody>\n",
       "</table>\n",
       "</div>"
      ],
      "text/plain": [
       "               ds       y\n",
       "21939  2020-12-26 -0.5106\n",
       "21940  2020-12-26  0.0000\n",
       "21941  2020-12-26  0.7506\n",
       "21942  2020-12-26  0.0000\n",
       "21943  2020-12-26  0.0000"
      ]
     },
     "execution_count": 100,
     "metadata": {},
     "output_type": "execute_result"
    }
   ],
   "source": [
    "prophet_data.head()"
   ]
  },
  {
   "cell_type": "code",
   "execution_count": 101,
   "id": "08b2807e",
   "metadata": {},
   "outputs": [
    {
     "name": "stderr",
     "output_type": "stream",
     "text": [
      "INFO:prophet:Disabling yearly seasonality. Run prophet with yearly_seasonality=True to override this.\n",
      "INFO:prophet:Disabling daily seasonality. Run prophet with daily_seasonality=True to override this.\n",
      "INFO:cmdstanpy:start chain 1\n",
      "INFO:cmdstanpy:finish chain 1\n"
     ]
    },
    {
     "data": {
      "text/plain": [
       "<prophet.forecaster.Prophet at 0x1d28cce8a00>"
      ]
     },
     "execution_count": 101,
     "metadata": {},
     "output_type": "execute_result"
    }
   ],
   "source": [
    "model = Prophet()\n",
    "model.fit(prophet_data)"
   ]
  },
  {
   "cell_type": "code",
   "execution_count": 102,
   "id": "a2c1ed55",
   "metadata": {
    "scrolled": true
   },
   "outputs": [
    {
     "data": {
      "text/html": [
       "<div>\n",
       "<style scoped>\n",
       "    .dataframe tbody tr th:only-of-type {\n",
       "        vertical-align: middle;\n",
       "    }\n",
       "\n",
       "    .dataframe tbody tr th {\n",
       "        vertical-align: top;\n",
       "    }\n",
       "\n",
       "    .dataframe thead th {\n",
       "        text-align: right;\n",
       "    }\n",
       "</style>\n",
       "<table border=\"1\" class=\"dataframe\">\n",
       "  <thead>\n",
       "    <tr style=\"text-align: right;\">\n",
       "      <th></th>\n",
       "      <th>ds</th>\n",
       "      <th>trend</th>\n",
       "      <th>yhat_lower</th>\n",
       "      <th>yhat_upper</th>\n",
       "      <th>trend_lower</th>\n",
       "      <th>trend_upper</th>\n",
       "      <th>additive_terms</th>\n",
       "      <th>additive_terms_lower</th>\n",
       "      <th>additive_terms_upper</th>\n",
       "      <th>weekly</th>\n",
       "      <th>weekly_lower</th>\n",
       "      <th>weekly_upper</th>\n",
       "      <th>multiplicative_terms</th>\n",
       "      <th>multiplicative_terms_lower</th>\n",
       "      <th>multiplicative_terms_upper</th>\n",
       "      <th>yhat</th>\n",
       "    </tr>\n",
       "  </thead>\n",
       "  <tbody>\n",
       "    <tr>\n",
       "      <th>319</th>\n",
       "      <td>2022-04-25</td>\n",
       "      <td>0.178168</td>\n",
       "      <td>-0.364292</td>\n",
       "      <td>0.692999</td>\n",
       "      <td>0.137500</td>\n",
       "      <td>0.218034</td>\n",
       "      <td>0.005118</td>\n",
       "      <td>0.005118</td>\n",
       "      <td>0.005118</td>\n",
       "      <td>0.005118</td>\n",
       "      <td>0.005118</td>\n",
       "      <td>0.005118</td>\n",
       "      <td>0.0</td>\n",
       "      <td>0.0</td>\n",
       "      <td>0.0</td>\n",
       "      <td>0.183286</td>\n",
       "    </tr>\n",
       "    <tr>\n",
       "      <th>320</th>\n",
       "      <td>2022-04-26</td>\n",
       "      <td>0.178383</td>\n",
       "      <td>-0.397204</td>\n",
       "      <td>0.700939</td>\n",
       "      <td>0.136704</td>\n",
       "      <td>0.219082</td>\n",
       "      <td>-0.002205</td>\n",
       "      <td>-0.002205</td>\n",
       "      <td>-0.002205</td>\n",
       "      <td>-0.002205</td>\n",
       "      <td>-0.002205</td>\n",
       "      <td>-0.002205</td>\n",
       "      <td>0.0</td>\n",
       "      <td>0.0</td>\n",
       "      <td>0.0</td>\n",
       "      <td>0.176178</td>\n",
       "    </tr>\n",
       "    <tr>\n",
       "      <th>321</th>\n",
       "      <td>2022-04-27</td>\n",
       "      <td>0.178598</td>\n",
       "      <td>-0.320820</td>\n",
       "      <td>0.710402</td>\n",
       "      <td>0.135919</td>\n",
       "      <td>0.220165</td>\n",
       "      <td>0.000946</td>\n",
       "      <td>0.000946</td>\n",
       "      <td>0.000946</td>\n",
       "      <td>0.000946</td>\n",
       "      <td>0.000946</td>\n",
       "      <td>0.000946</td>\n",
       "      <td>0.0</td>\n",
       "      <td>0.0</td>\n",
       "      <td>0.0</td>\n",
       "      <td>0.179544</td>\n",
       "    </tr>\n",
       "    <tr>\n",
       "      <th>322</th>\n",
       "      <td>2022-04-28</td>\n",
       "      <td>0.178813</td>\n",
       "      <td>-0.335073</td>\n",
       "      <td>0.697649</td>\n",
       "      <td>0.135296</td>\n",
       "      <td>0.221295</td>\n",
       "      <td>0.000165</td>\n",
       "      <td>0.000165</td>\n",
       "      <td>0.000165</td>\n",
       "      <td>0.000165</td>\n",
       "      <td>0.000165</td>\n",
       "      <td>0.000165</td>\n",
       "      <td>0.0</td>\n",
       "      <td>0.0</td>\n",
       "      <td>0.0</td>\n",
       "      <td>0.178978</td>\n",
       "    </tr>\n",
       "    <tr>\n",
       "      <th>323</th>\n",
       "      <td>2022-04-29</td>\n",
       "      <td>0.179029</td>\n",
       "      <td>-0.336585</td>\n",
       "      <td>0.684713</td>\n",
       "      <td>0.134702</td>\n",
       "      <td>0.222557</td>\n",
       "      <td>0.004824</td>\n",
       "      <td>0.004824</td>\n",
       "      <td>0.004824</td>\n",
       "      <td>0.004824</td>\n",
       "      <td>0.004824</td>\n",
       "      <td>0.004824</td>\n",
       "      <td>0.0</td>\n",
       "      <td>0.0</td>\n",
       "      <td>0.0</td>\n",
       "      <td>0.183853</td>\n",
       "    </tr>\n",
       "  </tbody>\n",
       "</table>\n",
       "</div>"
      ],
      "text/plain": [
       "            ds     trend  yhat_lower  yhat_upper  trend_lower  trend_upper  \\\n",
       "319 2022-04-25  0.178168   -0.364292    0.692999     0.137500     0.218034   \n",
       "320 2022-04-26  0.178383   -0.397204    0.700939     0.136704     0.219082   \n",
       "321 2022-04-27  0.178598   -0.320820    0.710402     0.135919     0.220165   \n",
       "322 2022-04-28  0.178813   -0.335073    0.697649     0.135296     0.221295   \n",
       "323 2022-04-29  0.179029   -0.336585    0.684713     0.134702     0.222557   \n",
       "\n",
       "     additive_terms  additive_terms_lower  additive_terms_upper    weekly  \\\n",
       "319        0.005118              0.005118              0.005118  0.005118   \n",
       "320       -0.002205             -0.002205             -0.002205 -0.002205   \n",
       "321        0.000946              0.000946              0.000946  0.000946   \n",
       "322        0.000165              0.000165              0.000165  0.000165   \n",
       "323        0.004824              0.004824              0.004824  0.004824   \n",
       "\n",
       "     weekly_lower  weekly_upper  multiplicative_terms  \\\n",
       "319      0.005118      0.005118                   0.0   \n",
       "320     -0.002205     -0.002205                   0.0   \n",
       "321      0.000946      0.000946                   0.0   \n",
       "322      0.000165      0.000165                   0.0   \n",
       "323      0.004824      0.004824                   0.0   \n",
       "\n",
       "     multiplicative_terms_lower  multiplicative_terms_upper      yhat  \n",
       "319                         0.0                         0.0  0.183286  \n",
       "320                         0.0                         0.0  0.176178  \n",
       "321                         0.0                         0.0  0.179544  \n",
       "322                         0.0                         0.0  0.178978  \n",
       "323                         0.0                         0.0  0.183853  "
      ]
     },
     "execution_count": 102,
     "metadata": {},
     "output_type": "execute_result"
    }
   ],
   "source": [
    "future_dates = model.make_future_dataframe(periods=7) \n",
    "forecast = model.predict(future_dates)\n",
    "forecast.tail()"
   ]
  },
  {
   "cell_type": "code",
   "execution_count": 103,
   "id": "f79b63d5",
   "metadata": {},
   "outputs": [
    {
     "data": {
      "text/html": [
       "<div>\n",
       "<style scoped>\n",
       "    .dataframe tbody tr th:only-of-type {\n",
       "        vertical-align: middle;\n",
       "    }\n",
       "\n",
       "    .dataframe tbody tr th {\n",
       "        vertical-align: top;\n",
       "    }\n",
       "\n",
       "    .dataframe thead th {\n",
       "        text-align: right;\n",
       "    }\n",
       "</style>\n",
       "<table border=\"1\" class=\"dataframe\">\n",
       "  <thead>\n",
       "    <tr style=\"text-align: right;\">\n",
       "      <th></th>\n",
       "      <th>ds</th>\n",
       "      <th>trend</th>\n",
       "      <th>yhat_lower</th>\n",
       "      <th>yhat_upper</th>\n",
       "      <th>trend_lower</th>\n",
       "      <th>trend_upper</th>\n",
       "      <th>additive_terms</th>\n",
       "      <th>additive_terms_lower</th>\n",
       "      <th>additive_terms_upper</th>\n",
       "      <th>weekly</th>\n",
       "      <th>weekly_lower</th>\n",
       "      <th>weekly_upper</th>\n",
       "      <th>multiplicative_terms</th>\n",
       "      <th>multiplicative_terms_lower</th>\n",
       "      <th>multiplicative_terms_upper</th>\n",
       "      <th>yhat</th>\n",
       "    </tr>\n",
       "  </thead>\n",
       "  <tbody>\n",
       "    <tr>\n",
       "      <th>342</th>\n",
       "      <td>2022-05-18</td>\n",
       "      <td>0.183118</td>\n",
       "      <td>-0.376882</td>\n",
       "      <td>0.685349</td>\n",
       "      <td>0.126714</td>\n",
       "      <td>0.242523</td>\n",
       "      <td>0.000946</td>\n",
       "      <td>0.000946</td>\n",
       "      <td>0.000946</td>\n",
       "      <td>0.000946</td>\n",
       "      <td>0.000946</td>\n",
       "      <td>0.000946</td>\n",
       "      <td>0.0</td>\n",
       "      <td>0.0</td>\n",
       "      <td>0.0</td>\n",
       "      <td>0.184063</td>\n",
       "    </tr>\n",
       "    <tr>\n",
       "      <th>343</th>\n",
       "      <td>2022-05-19</td>\n",
       "      <td>0.183333</td>\n",
       "      <td>-0.343022</td>\n",
       "      <td>0.706668</td>\n",
       "      <td>0.126193</td>\n",
       "      <td>0.243578</td>\n",
       "      <td>0.000165</td>\n",
       "      <td>0.000165</td>\n",
       "      <td>0.000165</td>\n",
       "      <td>0.000165</td>\n",
       "      <td>0.000165</td>\n",
       "      <td>0.000165</td>\n",
       "      <td>0.0</td>\n",
       "      <td>0.0</td>\n",
       "      <td>0.0</td>\n",
       "      <td>0.183498</td>\n",
       "    </tr>\n",
       "    <tr>\n",
       "      <th>344</th>\n",
       "      <td>2022-05-20</td>\n",
       "      <td>0.183548</td>\n",
       "      <td>-0.372633</td>\n",
       "      <td>0.721317</td>\n",
       "      <td>0.125522</td>\n",
       "      <td>0.243908</td>\n",
       "      <td>0.004824</td>\n",
       "      <td>0.004824</td>\n",
       "      <td>0.004824</td>\n",
       "      <td>0.004824</td>\n",
       "      <td>0.004824</td>\n",
       "      <td>0.004824</td>\n",
       "      <td>0.0</td>\n",
       "      <td>0.0</td>\n",
       "      <td>0.0</td>\n",
       "      <td>0.188373</td>\n",
       "    </tr>\n",
       "    <tr>\n",
       "      <th>345</th>\n",
       "      <td>2022-05-21</td>\n",
       "      <td>0.183763</td>\n",
       "      <td>-0.386885</td>\n",
       "      <td>0.664483</td>\n",
       "      <td>0.124712</td>\n",
       "      <td>0.244699</td>\n",
       "      <td>-0.005600</td>\n",
       "      <td>-0.005600</td>\n",
       "      <td>-0.005600</td>\n",
       "      <td>-0.005600</td>\n",
       "      <td>-0.005600</td>\n",
       "      <td>-0.005600</td>\n",
       "      <td>0.0</td>\n",
       "      <td>0.0</td>\n",
       "      <td>0.0</td>\n",
       "      <td>0.178164</td>\n",
       "    </tr>\n",
       "    <tr>\n",
       "      <th>346</th>\n",
       "      <td>2022-05-22</td>\n",
       "      <td>0.183979</td>\n",
       "      <td>-0.369917</td>\n",
       "      <td>0.746401</td>\n",
       "      <td>0.123996</td>\n",
       "      <td>0.245652</td>\n",
       "      <td>-0.003247</td>\n",
       "      <td>-0.003247</td>\n",
       "      <td>-0.003247</td>\n",
       "      <td>-0.003247</td>\n",
       "      <td>-0.003247</td>\n",
       "      <td>-0.003247</td>\n",
       "      <td>0.0</td>\n",
       "      <td>0.0</td>\n",
       "      <td>0.0</td>\n",
       "      <td>0.180732</td>\n",
       "    </tr>\n",
       "  </tbody>\n",
       "</table>\n",
       "</div>"
      ],
      "text/plain": [
       "            ds     trend  yhat_lower  yhat_upper  trend_lower  trend_upper  \\\n",
       "342 2022-05-18  0.183118   -0.376882    0.685349     0.126714     0.242523   \n",
       "343 2022-05-19  0.183333   -0.343022    0.706668     0.126193     0.243578   \n",
       "344 2022-05-20  0.183548   -0.372633    0.721317     0.125522     0.243908   \n",
       "345 2022-05-21  0.183763   -0.386885    0.664483     0.124712     0.244699   \n",
       "346 2022-05-22  0.183979   -0.369917    0.746401     0.123996     0.245652   \n",
       "\n",
       "     additive_terms  additive_terms_lower  additive_terms_upper    weekly  \\\n",
       "342        0.000946              0.000946              0.000946  0.000946   \n",
       "343        0.000165              0.000165              0.000165  0.000165   \n",
       "344        0.004824              0.004824              0.004824  0.004824   \n",
       "345       -0.005600             -0.005600             -0.005600 -0.005600   \n",
       "346       -0.003247             -0.003247             -0.003247 -0.003247   \n",
       "\n",
       "     weekly_lower  weekly_upper  multiplicative_terms  \\\n",
       "342      0.000946      0.000946                   0.0   \n",
       "343      0.000165      0.000165                   0.0   \n",
       "344      0.004824      0.004824                   0.0   \n",
       "345     -0.005600     -0.005600                   0.0   \n",
       "346     -0.003247     -0.003247                   0.0   \n",
       "\n",
       "     multiplicative_terms_lower  multiplicative_terms_upper      yhat  \n",
       "342                         0.0                         0.0  0.184063  \n",
       "343                         0.0                         0.0  0.183498  \n",
       "344                         0.0                         0.0  0.188373  \n",
       "345                         0.0                         0.0  0.178164  \n",
       "346                         0.0                         0.0  0.180732  "
      ]
     },
     "execution_count": 103,
     "metadata": {},
     "output_type": "execute_result"
    }
   ],
   "source": [
    "future_dates_1month = model.make_future_dataframe(periods=30) \n",
    "forecast_1month = model.predict(future_dates_1month)\n",
    "forecast_1month.tail()"
   ]
  },
  {
   "cell_type": "code",
   "execution_count": 104,
   "id": "ab3b1ccb",
   "metadata": {
    "scrolled": true
   },
   "outputs": [
    {
     "data": {
      "text/html": [
       "<div>\n",
       "<style scoped>\n",
       "    .dataframe tbody tr th:only-of-type {\n",
       "        vertical-align: middle;\n",
       "    }\n",
       "\n",
       "    .dataframe tbody tr th {\n",
       "        vertical-align: top;\n",
       "    }\n",
       "\n",
       "    .dataframe thead th {\n",
       "        text-align: right;\n",
       "    }\n",
       "</style>\n",
       "<table border=\"1\" class=\"dataframe\">\n",
       "  <thead>\n",
       "    <tr style=\"text-align: right;\">\n",
       "      <th></th>\n",
       "      <th>ds</th>\n",
       "      <th>trend</th>\n",
       "      <th>yhat_lower</th>\n",
       "      <th>yhat_upper</th>\n",
       "      <th>trend_lower</th>\n",
       "      <th>trend_upper</th>\n",
       "      <th>additive_terms</th>\n",
       "      <th>additive_terms_lower</th>\n",
       "      <th>additive_terms_upper</th>\n",
       "      <th>weekly</th>\n",
       "      <th>weekly_lower</th>\n",
       "      <th>weekly_upper</th>\n",
       "      <th>multiplicative_terms</th>\n",
       "      <th>multiplicative_terms_lower</th>\n",
       "      <th>multiplicative_terms_upper</th>\n",
       "      <th>yhat</th>\n",
       "    </tr>\n",
       "  </thead>\n",
       "  <tbody>\n",
       "    <tr>\n",
       "      <th>402</th>\n",
       "      <td>2022-07-17</td>\n",
       "      <td>0.196031</td>\n",
       "      <td>-0.343788</td>\n",
       "      <td>0.715958</td>\n",
       "      <td>0.079577</td>\n",
       "      <td>0.312874</td>\n",
       "      <td>-0.003247</td>\n",
       "      <td>-0.003247</td>\n",
       "      <td>-0.003247</td>\n",
       "      <td>-0.003247</td>\n",
       "      <td>-0.003247</td>\n",
       "      <td>-0.003247</td>\n",
       "      <td>0.0</td>\n",
       "      <td>0.0</td>\n",
       "      <td>0.0</td>\n",
       "      <td>0.192784</td>\n",
       "    </tr>\n",
       "    <tr>\n",
       "      <th>403</th>\n",
       "      <td>2022-07-18</td>\n",
       "      <td>0.196246</td>\n",
       "      <td>-0.367282</td>\n",
       "      <td>0.735054</td>\n",
       "      <td>0.078045</td>\n",
       "      <td>0.314362</td>\n",
       "      <td>0.005118</td>\n",
       "      <td>0.005118</td>\n",
       "      <td>0.005118</td>\n",
       "      <td>0.005118</td>\n",
       "      <td>0.005118</td>\n",
       "      <td>0.005118</td>\n",
       "      <td>0.0</td>\n",
       "      <td>0.0</td>\n",
       "      <td>0.0</td>\n",
       "      <td>0.201364</td>\n",
       "    </tr>\n",
       "    <tr>\n",
       "      <th>404</th>\n",
       "      <td>2022-07-19</td>\n",
       "      <td>0.196461</td>\n",
       "      <td>-0.365013</td>\n",
       "      <td>0.740868</td>\n",
       "      <td>0.076618</td>\n",
       "      <td>0.315476</td>\n",
       "      <td>-0.002205</td>\n",
       "      <td>-0.002205</td>\n",
       "      <td>-0.002205</td>\n",
       "      <td>-0.002205</td>\n",
       "      <td>-0.002205</td>\n",
       "      <td>-0.002205</td>\n",
       "      <td>0.0</td>\n",
       "      <td>0.0</td>\n",
       "      <td>0.0</td>\n",
       "      <td>0.194256</td>\n",
       "    </tr>\n",
       "    <tr>\n",
       "      <th>405</th>\n",
       "      <td>2022-07-20</td>\n",
       "      <td>0.196677</td>\n",
       "      <td>-0.355933</td>\n",
       "      <td>0.747069</td>\n",
       "      <td>0.076240</td>\n",
       "      <td>0.317406</td>\n",
       "      <td>0.000946</td>\n",
       "      <td>0.000946</td>\n",
       "      <td>0.000946</td>\n",
       "      <td>0.000946</td>\n",
       "      <td>0.000946</td>\n",
       "      <td>0.000946</td>\n",
       "      <td>0.0</td>\n",
       "      <td>0.0</td>\n",
       "      <td>0.0</td>\n",
       "      <td>0.197622</td>\n",
       "    </tr>\n",
       "    <tr>\n",
       "      <th>406</th>\n",
       "      <td>2022-07-21</td>\n",
       "      <td>0.196892</td>\n",
       "      <td>-0.387606</td>\n",
       "      <td>0.731297</td>\n",
       "      <td>0.075135</td>\n",
       "      <td>0.318885</td>\n",
       "      <td>0.000165</td>\n",
       "      <td>0.000165</td>\n",
       "      <td>0.000165</td>\n",
       "      <td>0.000165</td>\n",
       "      <td>0.000165</td>\n",
       "      <td>0.000165</td>\n",
       "      <td>0.0</td>\n",
       "      <td>0.0</td>\n",
       "      <td>0.0</td>\n",
       "      <td>0.197056</td>\n",
       "    </tr>\n",
       "  </tbody>\n",
       "</table>\n",
       "</div>"
      ],
      "text/plain": [
       "            ds     trend  yhat_lower  yhat_upper  trend_lower  trend_upper  \\\n",
       "402 2022-07-17  0.196031   -0.343788    0.715958     0.079577     0.312874   \n",
       "403 2022-07-18  0.196246   -0.367282    0.735054     0.078045     0.314362   \n",
       "404 2022-07-19  0.196461   -0.365013    0.740868     0.076618     0.315476   \n",
       "405 2022-07-20  0.196677   -0.355933    0.747069     0.076240     0.317406   \n",
       "406 2022-07-21  0.196892   -0.387606    0.731297     0.075135     0.318885   \n",
       "\n",
       "     additive_terms  additive_terms_lower  additive_terms_upper    weekly  \\\n",
       "402       -0.003247             -0.003247             -0.003247 -0.003247   \n",
       "403        0.005118              0.005118              0.005118  0.005118   \n",
       "404       -0.002205             -0.002205             -0.002205 -0.002205   \n",
       "405        0.000946              0.000946              0.000946  0.000946   \n",
       "406        0.000165              0.000165              0.000165  0.000165   \n",
       "\n",
       "     weekly_lower  weekly_upper  multiplicative_terms  \\\n",
       "402     -0.003247     -0.003247                   0.0   \n",
       "403      0.005118      0.005118                   0.0   \n",
       "404     -0.002205     -0.002205                   0.0   \n",
       "405      0.000946      0.000946                   0.0   \n",
       "406      0.000165      0.000165                   0.0   \n",
       "\n",
       "     multiplicative_terms_lower  multiplicative_terms_upper      yhat  \n",
       "402                         0.0                         0.0  0.192784  \n",
       "403                         0.0                         0.0  0.201364  \n",
       "404                         0.0                         0.0  0.194256  \n",
       "405                         0.0                         0.0  0.197622  \n",
       "406                         0.0                         0.0  0.197056  "
      ]
     },
     "execution_count": 104,
     "metadata": {},
     "output_type": "execute_result"
    }
   ],
   "source": [
    "future_dates_3month = model.make_future_dataframe(periods=90) \n",
    "forecast_3month = model.predict(future_dates_3month)\n",
    "forecast_3month.tail()"
   ]
  },
  {
   "cell_type": "code",
   "execution_count": 105,
   "id": "0084cc37",
   "metadata": {},
   "outputs": [
    {
     "data": {
      "image/png": "[encoded data removed]",
      "text/plain": [
       "<Figure size 720x432 with 1 Axes>"
      ]
     },
     "metadata": {},
     "output_type": "display_data"
    }
   ],
   "source": [
    "plot1week= model.plot(forecast)"
   ]
  },
  {
   "cell_type": "code",
   "execution_count": 106,
   "id": "32fea36e",
   "metadata": {},
   "outputs": [
    {
     "data": {
      "image/png": "[encoded data removed]",
      "text/plain": [
       "<Figure size 720x432 with 1 Axes>"
      ]
     },
     "metadata": {},
     "output_type": "display_data"
    }
   ],
   "source": [
    "plot1month= model.plot(forecast_1month)"
   ]
  },
  {
   "cell_type": "code",
   "execution_count": 107,
   "id": "adbdb0e5",
   "metadata": {
    "scrolled": true
   },
   "outputs": [
    {
     "data": {
      "image/png": "[encoded data removed]",
      "text/plain": [
       "<Figure size 720x432 with 1 Axes>"
      ]
     },
     "metadata": {},
     "output_type": "display_data"
    }
   ],
   "source": [
    "plot3month= model.plot(forecast_3month)"
   ]
  },
  {
   "cell_type": "code",
   "execution_count": 108,
   "id": "6c584966",
   "metadata": {
    "scrolled": true
   },
   "outputs": [
    {
     "data": {
      "image/png": "[encoded data removed]",
      "text/plain": [
       "<Figure size 648x432 with 2 Axes>"
      ]
     },
     "metadata": {},
     "output_type": "display_data"
    }
   ],
   "source": [
    "plottrends= model.plot_components(forecast)"
   ]
  },
  {
   "cell_type": "code",
   "execution_count": 109,
   "id": "4eb4c74d",
   "metadata": {
    "scrolled": true
   },
   "outputs": [
    {
     "data": {
      "image/png": "[encoded data removed]",
      "text/plain": [
       "<Figure size 648x432 with 2 Axes>"
      ]
     },
     "metadata": {},
     "output_type": "display_data"
    }
   ],
   "source": [
    "plottrends2= model.plot_components(forecast_1month)"
   ]
  },
  {
   "cell_type": "code",
   "execution_count": 110,
   "id": "8e44a735",
   "metadata": {
    "scrolled": true
   },
   "outputs": [
    {
     "data": {
      "image/png": "[encoded data removed]",
      "text/plain": [
       "<Figure size 648x432 with 2 Axes>"
      ]
     },
     "metadata": {},
     "output_type": "display_data"
    }
   ],
   "source": [
    "plottrends3= model.plot_components(forecast_3month)"
   ]
  },
  {
   "cell_type": "markdown",
   "id": "6d6298e6",
   "metadata": {},
   "source": [
    "# Interactive Dashboards"
   ]
  },
  {
   "cell_type": "code",
   "execution_count": 111,
   "id": "305300f5",
   "metadata": {},
   "outputs": [
    {
     "data": {
      "application/vnd.jupyter.widget-view+json": {
       "model_id": "0266169902194f409b8699a672efc44c",
       "version_major": 2,
       "version_minor": 0
      },
      "text/plain": [
       "HTML(value='<h2>Pywedge Make_Charts </h2>')"
      ]
     },
     "metadata": {},
     "output_type": "display_data"
    },
    {
     "data": {
      "application/vnd.jupyter.widget-view+json": {
       "model_id": "30f10fde9b38432aa76c2af64a3696dd",
       "version_major": 2,
       "version_minor": 0
      },
      "text/plain": [
       "Tab(children=(Output(), Output(), Output(), Output(), Output(), Output(), Output(), Output()), _titles={'0': '…"
      ]
     },
     "metadata": {},
     "output_type": "display_data"
    }
   ],
   "source": [
    "mc = pw.Pywedge_Charts(forecast, c=None, y=\"trend\")\n",
    "dashboard= mc.make_charts()"
   ]
  },
  {
   "cell_type": "code",
   "execution_count": 112,
   "id": "f6031232",
   "metadata": {},
   "outputs": [
    {
     "data": {
      "application/vnd.jupyter.widget-view+json": {
       "model_id": "f4bbb205cfeb4a61a75b8ceb14961412",
       "version_major": 2,
       "version_minor": 0
      },
      "text/plain": [
       "HTML(value='<h2>Pywedge Make_Charts </h2>')"
      ]
     },
     "metadata": {},
     "output_type": "display_data"
    },
    {
     "data": {
      "application/vnd.jupyter.widget-view+json": {
       "model_id": "0a16fee369944cb5bf35708372d75a81",
       "version_major": 2,
       "version_minor": 0
      },
      "text/plain": [
       "Tab(children=(Output(), Output(), Output(), Output(), Output(), Output(), Output(), Output()), _titles={'0': '…"
      ]
     },
     "metadata": {},
     "output_type": "display_data"
    }
   ],
   "source": [
    "mc = pw.Pywedge_Charts(forecast_1month, c=None, y=\"ds\")\n",
    "dashboard= mc.make_charts()"
   ]
  },
  {
   "cell_type": "code",
   "execution_count": 113,
   "id": "b11d0b6c",
   "metadata": {},
   "outputs": [
    {
     "data": {
      "application/vnd.jupyter.widget-view+json": {
       "model_id": "e7f411f9953d48dd8d0abd2838820d36",
       "version_major": 2,
       "version_minor": 0
      },
      "text/plain": [
       "HTML(value='<h2>Pywedge Make_Charts </h2>')"
      ]
     },
     "metadata": {},
     "output_type": "display_data"
    },
    {
     "data": {
      "application/vnd.jupyter.widget-view+json": {
       "model_id": "b65603f463704d4ca106025c63e17804",
       "version_major": 2,
       "version_minor": 0
      },
      "text/plain": [
       "Tab(children=(Output(), Output(), Output(), Output(), Output(), Output(), Output(), Output()), _titles={'0': '…"
      ]
     },
     "metadata": {},
     "output_type": "display_data"
    }
   ],
   "source": [
    "mc = pw.Pywedge_Charts(forecast_3month, c=None, y=\"trend\")\n",
    "dashboard= mc.make_charts()"
   ]
  },
  {
   "cell_type": "code",
   "execution_count": null,
   "id": "7c138678",
   "metadata": {},
   "outputs": [],
   "source": []
  },
  {
   "cell_type": "code",
   "execution_count": null,
   "id": "da7bb5d7",
   "metadata": {},
   "outputs": [],
   "source": []
  }
 ],
 "metadata": {
  "kernelspec": {
   "display_name": "Python 3 (ipykernel)",
   "language": "python",
   "name": "python3"
  },
  "language_info": {
   "codemirror_mode": {
    "name": "ipython",
    "version": 3
   },
   "file_extension": ".py",
   "mimetype": "text/x-python",
   "name": "python",
   "nbconvert_exporter": "python",
   "pygments_lexer": "ipython3",
   "version": "3.9.12"
  }
 },
 "nbformat": 4,
 "nbformat_minor": 5
}
